{
 "cells": [
  {
   "cell_type": "code",
   "execution_count": 1,
   "metadata": {},
   "outputs": [],
   "source": [
    "from typing import List\n",
    "import bisect\n",
    "import math"
   ]
  },
  {
   "attachments": {},
   "cell_type": "markdown",
   "metadata": {},
   "source": [
    "# Q6387"
   ]
  },
  {
   "cell_type": "code",
   "execution_count": 2,
   "metadata": {},
   "outputs": [],
   "source": [
    "class Solution:\n",
    "    def findDelayedArrivalTime(self, arrivalTime: int, delayedTime: int) -> int:\n",
    "        return (arrivalTime+delayedTime)%24"
   ]
  },
  {
   "attachments": {},
   "cell_type": "markdown",
   "metadata": {},
   "source": [
    "# Q6391"
   ]
  },
  {
   "cell_type": "code",
   "execution_count": 3,
   "metadata": {},
   "outputs": [],
   "source": [
    "class Solution:\n",
    "    def sumOfMultiples(self, n: int) -> int:\n",
    "        result = 0\n",
    "        factors = [3,5,7]\n",
    "        for i in range(n+1):\n",
    "            multiple = False\n",
    "            for num in factors:\n",
    "                if i % num == 0:\n",
    "                    multiple = True\n",
    "                    break\n",
    "            if multiple:\n",
    "                result += i\n",
    "        return result"
   ]
  },
  {
   "cell_type": "code",
   "execution_count": 4,
   "metadata": {},
   "outputs": [
    {
     "data": {
      "text/plain": [
       "21"
      ]
     },
     "execution_count": 4,
     "metadata": {},
     "output_type": "execute_result"
    }
   ],
   "source": [
    "Solution().sumOfMultiples(7)"
   ]
  },
  {
   "attachments": {},
   "cell_type": "markdown",
   "metadata": {},
   "source": [
    "# Q6390"
   ]
  },
  {
   "cell_type": "code",
   "execution_count": 5,
   "metadata": {},
   "outputs": [],
   "source": [
    "class Solution:\n",
    "    def getSubarrayBeauty(self, nums: List[int], k: int, x: int) -> List[int]:\n",
    "        def binarySearchAndRemove(arr, num):\n",
    "            l,h = 0,len(arr)\n",
    "            while l<=h:\n",
    "                m = (l+h)//2\n",
    "                if arr[m] == num:\n",
    "                    arr.pop(m)\n",
    "                    return\n",
    "                elif arr[m] < num:\n",
    "                    l = m+1\n",
    "                else:\n",
    "                    h = m-1\n",
    "        result = []\n",
    "        n = len(nums)\n",
    "        subA = nums[:k]\n",
    "        idx = 1\n",
    "        last = k\n",
    "        for num in subA.copy():\n",
    "            if num < 0:\n",
    "                continue\n",
    "            subA.remove(num)\n",
    "        subA.sort()\n",
    "        if len(subA) < x:\n",
    "            result.append(0)\n",
    "        else:\n",
    "            result.append(subA[x-1])\n",
    "        for _ in range(n-k):\n",
    "            pop = nums[idx-1]\n",
    "            push = nums[last]\n",
    "            if pop < 0:\n",
    "                binarySearchAndRemove(subA,pop)\n",
    "            if push < 0:\n",
    "                bisect.insort(subA,push)\n",
    "            if len(subA) < x:\n",
    "                result.append(0)\n",
    "            else:\n",
    "                result.append(subA[x-1])\n",
    "            idx += 1\n",
    "            last += 1\n",
    "        return result"
   ]
  },
  {
   "cell_type": "code",
   "execution_count": 6,
   "metadata": {},
   "outputs": [
    {
     "data": {
      "text/plain": [
       "[0]"
      ]
     },
     "execution_count": 6,
     "metadata": {},
     "output_type": "execute_result"
    }
   ],
   "source": [
    "Solution().getSubarrayBeauty(nums = [13,36], k = 2, x = 1)"
   ]
  },
  {
   "attachments": {},
   "cell_type": "markdown",
   "metadata": {},
   "source": [
    "# Q6392"
   ]
  },
  {
   "cell_type": "code",
   "execution_count": 7,
   "metadata": {},
   "outputs": [],
   "source": [
    "from sys import setrecursionlimit\n",
    "\n",
    "class Solution:\n",
    "    def minOperations(self, nums: List[int]):\n",
    "        setrecursionlimit(10**8)\n",
    "        def recursive(nums, count=0):\n",
    "            if nums == [1]*len(nums):\n",
    "                return count\n",
    "            minm = float('inf')\n",
    "            n = len(nums)\n",
    "            for i in range(n-1):\n",
    "                if nums[i] == nums[i+1]:\n",
    "                    continue\n",
    "                gcd = math.gcd(nums[i], nums[i+1])\n",
    "                curr = nums[i]\n",
    "                nums[i] = gcd\n",
    "                minm = min(minm, recursive(nums, count+1))\n",
    "                nums[i] = curr\n",
    "                curr = nums[i+1]\n",
    "                nums[i+1] = gcd\n",
    "                minm = min(minm, recursive(nums, count+1))\n",
    "                nums[i+1] = curr\n",
    "            return minm\n",
    "        return recursive(nums)"
   ]
  },
  {
   "cell_type": "code",
   "execution_count": null,
   "metadata": {},
   "outputs": [
    {
     "ename": "",
     "evalue": "",
     "output_type": "error",
     "traceback": [
      "\u001b[1;31mCanceled future for execute_request message before replies were done"
     ]
    },
    {
     "ename": "",
     "evalue": "",
     "output_type": "error",
     "traceback": [
      "\u001b[1;31mThe Kernel crashed while executing code in the the current cell or a previous cell. Please review the code in the cell(s) to identify a possible cause of the failure. Click <a href='https://aka.ms/vscodeJupyterKernelCrash'>here</a> for more info. View Jupyter <a href='command:jupyter.viewOutput'>log</a> for further details."
     ]
    }
   ],
   "source": [
    "Solution().minOperations([2,6,3,6])"
   ]
  }
 ],
 "metadata": {
  "kernelspec": {
   "display_name": "Python 3",
   "language": "python",
   "name": "python3"
  },
  "language_info": {
   "codemirror_mode": {
    "name": "ipython",
    "version": 3
   },
   "file_extension": ".py",
   "mimetype": "text/x-python",
   "name": "python",
   "nbconvert_exporter": "python",
   "pygments_lexer": "ipython3",
   "version": "3.10.6"
  },
  "orig_nbformat": 4
 },
 "nbformat": 4,
 "nbformat_minor": 2
}
