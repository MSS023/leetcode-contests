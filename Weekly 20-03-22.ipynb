{
 "cells": [
  {
   "cell_type": "markdown",
   "metadata": {},
   "source": [
    "6027. Count Hills and Valleys in an Array"
   ]
  },
  {
   "cell_type": "code",
   "execution_count": null,
   "metadata": {},
   "outputs": [],
   "source": [
    "class Solution:\n",
    "    def countHillValley(self, nums: List[int]) -> int:\n",
    "        num=0\n",
    "        for i in range(1,len(nums)-1):\n",
    "            if nums[i]==nums[i-1]:\n",
    "                continue\n",
    "            indexl=i-1\n",
    "            while indexl>-1 and nums[indexl]==nums[i]:\n",
    "                indexl-=1\n",
    "            if indexl<0:\n",
    "                continue\n",
    "            indexr=i+1\n",
    "            while indexr<len(nums) and nums[indexr]==nums[i]:\n",
    "                indexr+=1\n",
    "            if indexr>=len(nums):\n",
    "                continue\n",
    "            if nums[i]<nums[indexl] and nums[i]<nums[indexr]:\n",
    "                num+=1\n",
    "            elif nums[i]>nums[indexl] and nums[i]>nums[indexr]:\n",
    "                num+=1\n",
    "        return num"
   ]
  },
  {
   "cell_type": "markdown",
   "metadata": {},
   "source": [
    "6028. Count Collisions on a Road(Not complete)"
   ]
  },
  {
   "cell_type": "code",
   "execution_count": 9,
   "metadata": {},
   "outputs": [
    {
     "name": "stdout",
     "output_type": "stream",
     "text": [
      "[0, 3] []\n"
     ]
    }
   ],
   "source": [
    "class Solution:\n",
    "    def countCollisions(self, directions: str) -> int:\n",
    "        collisions=0\n",
    "        stationary=[]\n",
    "        right=[]\n",
    "        for index,i in enumerate(directions):\n",
    "            if i==\"L\":\n",
    "                if index==0:\n",
    "                    continue\n",
    "                if stationary: \n",
    "                    if not right or stationary[-1]>right[-1]:\n",
    "                        collisions+=1\n",
    "                elif right:\n",
    "                    stationary.append((index+right.pop())//2)\n",
    "                    collisions+=2\n",
    "            if i==\"R\":\n",
    "                right.append(index)\n",
    "            if i==\"S\":\n",
    "                stationary.append(index)\n",
    "                if right:\n",
    "                    right.pop()\n",
    "        for i in right:\n",
    "            index=-1\n",
    "            while stationary[index]>i:\n",
    "                index+=1\n",
    "                collisions+=1\n",
    "\n",
    "sol=Solution()\n",
    "sol.countCollisions(input())"
   ]
  },
  {
   "cell_type": "markdown",
   "metadata": {},
   "source": [
    "6029. Maximum Points in an Archery Competition"
   ]
  },
  {
   "cell_type": "code",
   "execution_count": 16,
   "metadata": {},
   "outputs": [
    {
     "data": {
      "text/plain": [
       "[0, 0, 0, 0, 0, 0, 0, 0, 0, 0, 0, 3]"
      ]
     },
     "execution_count": 16,
     "metadata": {},
     "output_type": "execute_result"
    }
   ],
   "source": [
    "class Solution:\n",
    "    def maximumBobPoints(self, numArrows: int, aliceArrows: list[int]) -> list[int]:\n",
    "        bobArrows=[]\n",
    "        max=0\n",
    "        for i in range(11,-1,-1):\n",
    "            index=i\n",
    "            num=numArrows\n",
    "            arr=[0]*12\n",
    "            sum=0\n",
    "            while num>0 and index>-1:\n",
    "                if aliceArrows[index]+1>=num:\n",
    "                    num-=aliceArrows[index]+1\n",
    "                    arr[index]=aliceArrows[index]+1\n",
    "                    sum+=index\n",
    "                index-=1\n",
    "            if sum>max:\n",
    "                max=sum\n",
    "                bobArrows=arr\n",
    "        return bobArrows\n",
    "\n",
    "sol=Solution()\n",
    "sol.maximumBobPoints(int(input()),[int(x) for x in input().split()])"
   ]
  }
 ],
 "metadata": {
  "interpreter": {
   "hash": "84c7cd761066ce45b8a789f7b09f72a3209628e136df7af6e1c369b4f2245113"
  },
  "kernelspec": {
   "display_name": "Python 3.10.2 64-bit",
   "language": "python",
   "name": "python3"
  },
  "language_info": {
   "codemirror_mode": {
    "name": "ipython",
    "version": 3
   },
   "file_extension": ".py",
   "mimetype": "text/x-python",
   "name": "python",
   "nbconvert_exporter": "python",
   "pygments_lexer": "ipython3",
   "version": "3.10.2"
  },
  "orig_nbformat": 4
 },
 "nbformat": 4,
 "nbformat_minor": 2
}
