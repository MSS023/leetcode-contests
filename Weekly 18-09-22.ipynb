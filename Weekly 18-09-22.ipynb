{
 "cells": [
  {
   "cell_type": "markdown",
   "metadata": {},
   "source": [
    "# q6181"
   ]
  },
  {
   "cell_type": "code",
   "execution_count": 13,
   "metadata": {},
   "outputs": [],
   "source": [
    "class Solution:\n",
    "    def longestContinuousSubstring(self, s: str) -> int:\n",
    "        nextCh = {chr(ord(\"a\")+i): chr(ord(\"a\")+i+1) for i in range(25)}\n",
    "        n = len(s)\n",
    "        maxm = 1\n",
    "        temp = 1\n",
    "        for i in range(1,n):\n",
    "            if s[i-1] in nextCh and nextCh[s[i-1]] == s[i]:\n",
    "                temp += 1\n",
    "            else:\n",
    "                temp = 1\n",
    "            maxm = max(maxm,temp)\n",
    "        return maxm"
   ]
  },
  {
   "cell_type": "code",
   "execution_count": 14,
   "metadata": {},
   "outputs": [
    {
     "data": {
      "text/plain": [
       "2"
      ]
     },
     "execution_count": 14,
     "metadata": {},
     "output_type": "execute_result"
    }
   ],
   "source": [
    "Solution().longestContinuousSubstring(\"abacaba\")"
   ]
  },
  {
   "cell_type": "markdown",
   "metadata": {},
   "source": [
    "# q6182"
   ]
  },
  {
   "cell_type": "code",
   "execution_count": 16,
   "metadata": {},
   "outputs": [],
   "source": [
    "from typing import *\n",
    "# Definition for a binary tree node.\n",
    "class TreeNode:\n",
    "    def __init__(self, val=0, left=None, right=None):\n",
    "        self.val = val\n",
    "        self.left = left\n",
    "        self.right = right"
   ]
  },
  {
   "cell_type": "code",
   "execution_count": 29,
   "metadata": {},
   "outputs": [],
   "source": [
    "class Solution:\n",
    "    def reverseOddLevels(self, root: Optional[TreeNode]) -> Optional[TreeNode]:\n",
    "        level = 0\n",
    "        prev = 0\n",
    "        queue = [(root, level)]\n",
    "        while queue:\n",
    "            prev = level\n",
    "            node, level = queue[0]\n",
    "            if prev != level and level & 1 == 1:\n",
    "                arr = list(reversed(queue))\n",
    "                for i in range(len(queue)//2):\n",
    "                    a = arr[i]\n",
    "                    b = queue[i]\n",
    "                    a[0].val, b[0].val = b[0].val, a[0].val\n",
    "            if node.left is not None:\n",
    "                queue.append((node.left,level+1))\n",
    "            if node.right is not None:\n",
    "                queue.append((node.right, level+1))\n",
    "            queue.pop(0)\n",
    "        return root"
   ]
  },
  {
   "cell_type": "code",
   "execution_count": 30,
   "metadata": {},
   "outputs": [
    {
     "name": "stdout",
     "output_type": "stream",
     "text": [
      "7\n",
      "11\n",
      "13\n"
     ]
    }
   ],
   "source": [
    "root = TreeNode(7,TreeNode(13),TreeNode(11))\n",
    "\n",
    "newRoot = Solution().reverseOddLevels(root)\n",
    "queue = [newRoot]\n",
    "while queue:\n",
    "    node = queue.pop(0)\n",
    "    print(node.val)\n",
    "    if node.left: queue.append(node.left)\n",
    "    if node.right: queue.append(node.right)"
   ]
  },
  {
   "cell_type": "markdown",
   "metadata": {},
   "source": [
    "# q6183"
   ]
  },
  {
   "cell_type": "code",
   "execution_count": 10,
   "metadata": {},
   "outputs": [],
   "source": [
    "class Solution:\n",
    "    def sumPrefixScores(self, words: List[str]) -> List[int]:\n",
    "        diction = {}\n",
    "        for word in words:\n",
    "            prev = \"\"\n",
    "            for i in range(len(word)):\n",
    "                prev += word[i]\n",
    "                if prev in diction:\n",
    "                    diction[prev] += 1\n",
    "                else:\n",
    "                    diction[prev] = 1\n",
    "        res = []\n",
    "        for word in words:\n",
    "            count = 0\n",
    "            prev = \"\"\n",
    "            for i in range(len(word)):\n",
    "                prev += word[i]\n",
    "                count += diction[prev]\n",
    "            res.append(count)\n",
    "        return res"
   ]
  },
  {
   "cell_type": "code",
   "execution_count": 11,
   "metadata": {},
   "outputs": [
    {
     "data": {
      "text/plain": [
       "[1, 1, 1, 1]"
      ]
     },
     "execution_count": 11,
     "metadata": {},
     "output_type": "execute_result"
    }
   ],
   "source": [
    "Solution().sumPrefixScores(\"abcd\")"
   ]
  }
 ],
 "metadata": {
  "kernelspec": {
   "display_name": "Python 3.10.6 64-bit",
   "language": "python",
   "name": "python3"
  },
  "language_info": {
   "codemirror_mode": {
    "name": "ipython",
    "version": 3
   },
   "file_extension": ".py",
   "mimetype": "text/x-python",
   "name": "python",
   "nbconvert_exporter": "python",
   "pygments_lexer": "ipython3",
   "version": "3.10.6"
  },
  "orig_nbformat": 4,
  "vscode": {
   "interpreter": {
    "hash": "f15627b29e15848638e903c52dd09ae6c4c9adb1719aae45dda3850ec7954c19"
   }
  }
 },
 "nbformat": 4,
 "nbformat_minor": 2
}
