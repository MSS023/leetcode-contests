{
 "cells": [
  {
   "cell_type": "code",
   "execution_count": 2,
   "metadata": {},
   "outputs": [],
   "source": [
    "from typing import *"
   ]
  },
  {
   "attachments": {},
   "cell_type": "markdown",
   "metadata": {},
   "source": [
    "# Q6362"
   ]
  },
  {
   "cell_type": "code",
   "execution_count": 3,
   "metadata": {},
   "outputs": [],
   "source": [
    "class Solution:\n",
    "    def findTheLongestBalancedSubstring(self, s: str) -> int:\n",
    "        count0 = 0\n",
    "        count1 = 0\n",
    "        maxm = 0\n",
    "        last = \"\"\n",
    "        for ch in s:\n",
    "            if ch == '0': \n",
    "                if last == '1':\n",
    "                    count0 = 1\n",
    "                    count1 = 0\n",
    "                else:\n",
    "                    count0 += 1\n",
    "            if ch == '1':\n",
    "                count1 += 1\n",
    "            if count0 >= count1:\n",
    "                maxm = max(maxm,2*count1)\n",
    "            last = ch\n",
    "        return maxm"
   ]
  },
  {
   "cell_type": "code",
   "execution_count": 4,
   "metadata": {},
   "outputs": [
    {
     "data": {
      "text/plain": [
       "4"
      ]
     },
     "execution_count": 4,
     "metadata": {},
     "output_type": "execute_result"
    }
   ],
   "source": [
    "Solution().findTheLongestBalancedSubstring(\"00111\")"
   ]
  },
  {
   "attachments": {},
   "cell_type": "markdown",
   "metadata": {},
   "source": [
    "# Q6363"
   ]
  },
  {
   "cell_type": "code",
   "execution_count": 5,
   "metadata": {},
   "outputs": [],
   "source": [
    "class Solution:\n",
    "    def findMatrix(self, nums: List[int]) -> List[List[int]]:\n",
    "        res = []\n",
    "        for num in nums:\n",
    "            saved = False\n",
    "            for row in res:\n",
    "                if num not in row:\n",
    "                    row.add(num)\n",
    "                    saved = True\n",
    "                    break\n",
    "            if not saved:\n",
    "                res.append(set([num]))\n",
    "        return [list(row) for row in res]"
   ]
  },
  {
   "cell_type": "code",
   "execution_count": 6,
   "metadata": {},
   "outputs": [
    {
     "data": {
      "text/plain": [
       "[[1, 2, 3, 4]]"
      ]
     },
     "execution_count": 6,
     "metadata": {},
     "output_type": "execute_result"
    }
   ],
   "source": [
    "Solution().findMatrix([1,2,3,4])"
   ]
  },
  {
   "attachments": {},
   "cell_type": "markdown",
   "metadata": {},
   "source": [
    "# Q6364"
   ]
  },
  {
   "cell_type": "code",
   "execution_count": 7,
   "metadata": {},
   "outputs": [],
   "source": [
    "class Cheese:\n",
    "    def __init__(self, reward1, reward2, position):\n",
    "        self.reward1 = reward1\n",
    "        self.reward2 = reward2\n",
    "        self.position = position\n",
    "\n",
    "class Solution:\n",
    "    def miceAndCheese(self, reward1: List[int], reward2: List[int], k: int) -> int:\n",
    "        n = len(reward1)\n",
    "        points = 0\n",
    "        diff = [Cheese(y,x,idx) for idx,(x,y) in enumerate(zip(reward2,reward1))]\n",
    "        diff.sort(key = lambda x: x.reward2 - x.reward1)\n",
    "        for i in range(k):\n",
    "            points += diff[i].reward1\n",
    "        for i in range(k,n):\n",
    "            points += diff[i].reward2\n",
    "        return points    "
   ]
  },
  {
   "cell_type": "code",
   "execution_count": 9,
   "metadata": {},
   "outputs": [
    {
     "data": {
      "text/plain": [
       "2"
      ]
     },
     "execution_count": 9,
     "metadata": {},
     "output_type": "execute_result"
    }
   ],
   "source": [
    "Solution().miceAndCheese(reward1 = [1,1], reward2 = [1,1], k = 2)"
   ]
  },
  {
   "attachments": {},
   "cell_type": "markdown",
   "metadata": {},
   "source": [
    "# Q6365"
   ]
  },
  {
   "cell_type": "code",
   "execution_count": 12,
   "metadata": {},
   "outputs": [],
   "source": [
    "class Solution:\n",
    "    def minReverseOperations(self, n: int, p: int, banned: List[int], k: int) -> List[int]:\n",
    "        nums = [0]*n\n",
    "        for i in banned:\n",
    "            nums[i] = -1\n",
    "        nums[p] = 1\n",
    "        for i in range(p+1,n):\n",
    "            if nums[i] == -1:\n",
    "                continue\n",
    "            if i-p <= k:\n",
    "                nums[i] = 1\n",
    "                continue\n",
    "            for j in range(i-k,i):\n",
    "                if nums[j] == -1 or nums[j] == 0:\n",
    "                    continue\n",
    "                nums[i] = nums[j]+1\n",
    "        for i in range(p-1,-1,-1):\n",
    "            if nums[i] == -1:\n",
    "                continue\n",
    "            if p-i <= k:\n",
    "                nums[i] = 1\n",
    "                continue\n",
    "            for j in range(i+k,i,-1):\n",
    "                if nums[j] == -1 or nums[j] == 0:\n",
    "                    continue\n",
    "                nums[i] = nums[j] + 1\n",
    "        nums[p] = 0\n",
    "        return nums"
   ]
  },
  {
   "cell_type": "code",
   "execution_count": 14,
   "metadata": {},
   "outputs": [
    {
     "data": {
      "text/plain": [
       "[0, 1, -1, 1, -1]"
      ]
     },
     "execution_count": 14,
     "metadata": {},
     "output_type": "execute_result"
    }
   ],
   "source": [
    "Solution().minReverseOperations(n = 5, p = 0, banned = [2,4], k = 3)"
   ]
  }
 ],
 "metadata": {
  "kernelspec": {
   "display_name": "Python 3",
   "language": "python",
   "name": "python3"
  },
  "language_info": {
   "codemirror_mode": {
    "name": "ipython",
    "version": 3
   },
   "file_extension": ".py",
   "mimetype": "text/x-python",
   "name": "python",
   "nbconvert_exporter": "python",
   "pygments_lexer": "ipython3",
   "version": "3.10.6"
  },
  "orig_nbformat": 4,
  "vscode": {
   "interpreter": {
    "hash": "f15627b29e15848638e903c52dd09ae6c4c9adb1719aae45dda3850ec7954c19"
   }
  }
 },
 "nbformat": 4,
 "nbformat_minor": 2
}
