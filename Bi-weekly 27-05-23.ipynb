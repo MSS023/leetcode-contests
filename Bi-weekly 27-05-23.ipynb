{
 "cells": [
  {
   "cell_type": "code",
   "execution_count": 1,
   "metadata": {},
   "outputs": [],
   "source": [
    "from typing import *"
   ]
  },
  {
   "attachments": {},
   "cell_type": "markdown",
   "metadata": {},
   "source": [
    "# Q6395"
   ]
  },
  {
   "cell_type": "code",
   "execution_count": 2,
   "metadata": {},
   "outputs": [],
   "source": [
    "class Solution:\n",
    "    def buyChoco(self, prices: List[int], money: int) -> int:\n",
    "        prices.sort()\n",
    "        if sum(prices[:2]) > money:\n",
    "            return money\n",
    "        return money - sum(prices[:2])"
   ]
  },
  {
   "attachments": {},
   "cell_type": "markdown",
   "metadata": {},
   "source": [
    "# Q6394"
   ]
  },
  {
   "cell_type": "code",
   "execution_count": 3,
   "metadata": {},
   "outputs": [],
   "source": [
    "class Solution:\n",
    "    def minExtraChar(self, s: str, dictionary: List[str]) -> int:\n",
    "        def recursive(strings: List[str], dictionary):\n",
    "            "
   ]
  },
  {
   "cell_type": "code",
   "execution_count": 6,
   "metadata": {},
   "outputs": [
    {
     "data": {
      "text/plain": [
       "3"
      ]
     },
     "execution_count": 6,
     "metadata": {},
     "output_type": "execute_result"
    }
   ],
   "source": [
    "Solution().minExtraChar(\"sayhelloworld\",['hello','world'])"
   ]
  },
  {
   "attachments": {},
   "cell_type": "markdown",
   "metadata": {},
   "source": [
    "# Q6393"
   ]
  },
  {
   "cell_type": "code",
   "execution_count": 14,
   "metadata": {},
   "outputs": [],
   "source": [
    "class Solution:\n",
    "    def maxStrength(self, nums: List[int]) -> int:\n",
    "        if len(nums) == 1:\n",
    "            return nums[-1]\n",
    "        nums.sort(key = lambda x: abs(x))\n",
    "        pos = []\n",
    "        neg = []\n",
    "        zeroPresent = nums[0] == 0\n",
    "        numberMultiplied = False\n",
    "        if zeroPresent:\n",
    "            nums.pop(0)\n",
    "        strength = 1\n",
    "        for i in nums:\n",
    "            if i > 0:\n",
    "                numberMultiplied = True\n",
    "                pos.append(i)\n",
    "                strength *= i\n",
    "                continue\n",
    "            neg.append(i)\n",
    "        maxm = 1\n",
    "        mul = 1\n",
    "        for i in neg[::-1]:\n",
    "            mul *= i\n",
    "            if mul > 0:\n",
    "                numberMultiplied = True\n",
    "                maxm = mul\n",
    "        strength *= maxm\n",
    "        if not numberMultiplied and zeroPresent:\n",
    "            return 0\n",
    "        return strength"
   ]
  },
  {
   "cell_type": "code",
   "execution_count": 15,
   "metadata": {},
   "outputs": [
    {
     "data": {
      "text/plain": [
       "0"
      ]
     },
     "execution_count": 15,
     "metadata": {},
     "output_type": "execute_result"
    }
   ],
   "source": [
    "Solution().maxStrength([-4,0])"
   ]
  }
 ],
 "metadata": {
  "kernelspec": {
   "display_name": "Python 3",
   "language": "python",
   "name": "python3"
  },
  "language_info": {
   "codemirror_mode": {
    "name": "ipython",
    "version": 3
   },
   "file_extension": ".py",
   "mimetype": "text/x-python",
   "name": "python",
   "nbconvert_exporter": "python",
   "pygments_lexer": "ipython3",
   "version": "3.10.6"
  },
  "orig_nbformat": 4
 },
 "nbformat": 4,
 "nbformat_minor": 2
}
