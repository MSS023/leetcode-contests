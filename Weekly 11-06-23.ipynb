{
 "cells": [
  {
   "cell_type": "code",
   "execution_count": 1,
   "metadata": {},
   "outputs": [],
   "source": [
    "from typing import *"
   ]
  },
  {
   "attachments": {},
   "cell_type": "markdown",
   "metadata": {},
   "source": [
    "# Q2733"
   ]
  },
  {
   "cell_type": "code",
   "execution_count": 4,
   "metadata": {},
   "outputs": [],
   "source": [
    "class Solution:\n",
    "    def findNonMinOrMax(self, nums: List[int]) -> int:\n",
    "        minm, maxm = min(nums), max(nums)\n",
    "        for i in range(min(3,len(nums))):\n",
    "            if nums[i] != minm and nums[i] != maxm:\n",
    "                return nums[i]\n",
    "        return -1"
   ]
  },
  {
   "cell_type": "code",
   "execution_count": 5,
   "metadata": {},
   "outputs": [
    {
     "data": {
      "text/plain": [
       "3"
      ]
     },
     "execution_count": 5,
     "metadata": {},
     "output_type": "execute_result"
    }
   ],
   "source": [
    "Solution().findNonMinOrMax([3,2,1,4])"
   ]
  },
  {
   "attachments": {},
   "cell_type": "markdown",
   "metadata": {},
   "source": [
    "# Q2734"
   ]
  },
  {
   "cell_type": "code",
   "execution_count": 16,
   "metadata": {},
   "outputs": [],
   "source": [
    "class Solution:\n",
    "    def smallestString(self, s: str) -> str:\n",
    "        def convert(s):\n",
    "            prevMapping = {chr(ch): chr(ch - 1)\n",
    "                           for ch in range(ord('b'), ord('z')+1)}\n",
    "            prevMapping['a'] = 'z'\n",
    "            return \"\".join([prevMapping[ch] for ch in s])\n",
    "        substStart = 0\n",
    "        while substStart < len(s) and s[substStart] == 'a':\n",
    "            substStart += 1\n",
    "        if substStart >= len(s):\n",
    "            return s[:substStart-1]+convert(s[substStart-1:])\n",
    "        substEnd = substStart + 1\n",
    "        while substEnd < len(s) and s[substEnd] != 'a':\n",
    "            substEnd += 1\n",
    "        return s[:substStart] + convert(s[substStart:substEnd]) + s[substEnd:]\n"
   ]
  },
  {
   "cell_type": "code",
   "execution_count": 17,
   "metadata": {},
   "outputs": [
    {
     "data": {
      "text/plain": [
       "'z'"
      ]
     },
     "execution_count": 17,
     "metadata": {},
     "output_type": "execute_result"
    }
   ],
   "source": [
    "Solution().smallestString(\"a\")"
   ]
  },
  {
   "attachments": {},
   "cell_type": "markdown",
   "metadata": {},
   "source": [
    "# Q2735"
   ]
  },
  {
   "cell_type": "code",
   "execution_count": 31,
   "metadata": {},
   "outputs": [],
   "source": [
    "class Solution:\n",
    "    def rotate(self, arr: List[int]):\n",
    "        return [arr[-1]]+arr[:len(arr)-1]\n",
    "\n",
    "    def minCost(self, nums: List[int], x: int) -> int:\n",
    "        n = len(nums)\n",
    "        minmCost = {i: nums[i] for i in range(n)}\n",
    "        finalCost = minmCost.copy()\n",
    "        indexes = [i for i in range(n)]\n",
    "        rotCost = 0\n",
    "        rotCostRequired = 0\n",
    "        for _ in range(n):\n",
    "            rotCost += x\n",
    "            indexes = self.rotate(indexes)\n",
    "            required = False\n",
    "            for idx in range(n):\n",
    "                if minmCost[indexes[idx]] > rotCost+nums[idx]:\n",
    "                    minmCost[indexes[idx]] = min(minmCost[indexes[idx]], rotCost+nums[idx])\n",
    "                    finalCost[indexes[idx]] = nums[idx]\n",
    "                    required = True\n",
    "            if required:\n",
    "                rotCostRequired = rotCost\n",
    "        print(minmCost)\n",
    "        print(finalCost)\n",
    "        return sum(finalCost.values())+rotCostRequired"
   ]
  },
  {
   "cell_type": "code",
   "execution_count": 32,
   "metadata": {},
   "outputs": [
    {
     "name": "stdout",
     "output_type": "stream",
     "text": [
      "{0: 6, 1: 1, 2: 11}\n",
      "{0: 1, 1: 1, 2: 1}\n"
     ]
    },
    {
     "data": {
      "text/plain": [
       "13"
      ]
     },
     "execution_count": 32,
     "metadata": {},
     "output_type": "execute_result"
    }
   ],
   "source": [
    "Solution().minCost([20,1,15],5)"
   ]
  }
 ],
 "metadata": {
  "kernelspec": {
   "display_name": "Python 3",
   "language": "python",
   "name": "python3"
  },
  "language_info": {
   "codemirror_mode": {
    "name": "ipython",
    "version": 3
   },
   "file_extension": ".py",
   "mimetype": "text/x-python",
   "name": "python",
   "nbconvert_exporter": "python",
   "pygments_lexer": "ipython3",
   "version": "3.10.6"
  },
  "orig_nbformat": 4
 },
 "nbformat": 4,
 "nbformat_minor": 2
}
