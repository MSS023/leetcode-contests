{
 "cells": [
  {
   "cell_type": "code",
   "execution_count": 3,
   "metadata": {},
   "outputs": [],
   "source": [
    "from typing import *\n",
    "import heapq\n",
    "import math\n",
    "import collections"
   ]
  },
  {
   "attachments": {},
   "cell_type": "markdown",
   "metadata": {},
   "source": [
    "# Q6283"
   ]
  },
  {
   "cell_type": "code",
   "execution_count": 2,
   "metadata": {},
   "outputs": [],
   "source": [
    "class Solution:\n",
    "    def maximumCount(self, nums: List[int]) -> int:\n",
    "        posCount = 0\n",
    "        negCount = 0\n",
    "        for num in nums:\n",
    "            if num < 0:\n",
    "                negCount += 1\n",
    "            if num > 0:\n",
    "                posCount += 1\n",
    "        return max(posCount, negCount)"
   ]
  },
  {
   "cell_type": "code",
   "execution_count": 4,
   "metadata": {},
   "outputs": [
    {
     "data": {
      "text/plain": [
       "3"
      ]
     },
     "execution_count": 4,
     "metadata": {},
     "output_type": "execute_result"
    }
   ],
   "source": [
    "Solution().maximumCount([-2,-1,-1,0,0,1,2])"
   ]
  },
  {
   "attachments": {},
   "cell_type": "markdown",
   "metadata": {},
   "source": [
    "# Q6285"
   ]
  },
  {
   "cell_type": "code",
   "execution_count": 29,
   "metadata": {},
   "outputs": [],
   "source": [
    "class Solution:\n",
    "    def maxKelements(self, nums: List[int], k: int) -> int:\n",
    "        arr = [-x for x in nums]\n",
    "        heapq.heapify(arr)\n",
    "        score = 0\n",
    "        for _ in range(k):\n",
    "            num = heapq.heappop(arr)\n",
    "            score += -num\n",
    "            heapq.heappush(arr,-math.ceil(-num/3))\n",
    "        return score"
   ]
  },
  {
   "cell_type": "code",
   "execution_count": 30,
   "metadata": {},
   "outputs": [
    {
     "data": {
      "text/plain": [
       "17"
      ]
     },
     "execution_count": 30,
     "metadata": {},
     "output_type": "execute_result"
    }
   ],
   "source": [
    "Solution().maxKelements([1,10,3,3,3],3)"
   ]
  },
  {
   "attachments": {},
   "cell_type": "markdown",
   "metadata": {},
   "source": [
    "# Q6284"
   ]
  },
  {
   "cell_type": "code",
   "execution_count": 9,
   "metadata": {},
   "outputs": [],
   "source": [
    "class Solution:\n",
    "    def isItPossible(self, word1: str, word2: str) -> bool:\n",
    "        count1 = collections.Counter(word1)\n",
    "        count2 = collections.Counter(word2)\n",
    "        set1 = set(count1.keys())\n",
    "        set2 = set(count2.keys())\n",
    "        l, g = sorted([set1, set2], key=lambda x: len(x))\n",
    "        lCount, gCount = sorted(\n",
    "            [count1, count2], key=lambda x: len(x.keys()))\n",
    "        subt = g - l\n",
    "        if abs(len(set1) - len(set2)) == 0:\n",
    "            if len(word1) == len(word2):\n",
    "                return True\n",
    "            return False\n",
    "        if abs(len(set1) - len(set2)) >= 2 and len(subt) > 2:\n",
    "            return False\n",
    "        flag = False\n",
    "        for i in l:\n",
    "            flag |= lCount[i] > 1\n",
    "        if not flag:\n",
    "            return False\n",
    "        if abs(len(set1) - len(set2)) == 1:\n",
    "            for i in subt:\n",
    "                if gCount[i] > 1:\n",
    "                    return True\n",
    "            return False\n",
    "        for i in subt:\n",
    "            if gCount[i] == 1:\n",
    "                return True\n",
    "        return False"
   ]
  },
  {
   "cell_type": "code",
   "execution_count": 10,
   "metadata": {},
   "outputs": [
    {
     "data": {
      "text/plain": [
       "False"
      ]
     },
     "execution_count": 10,
     "metadata": {},
     "output_type": "execute_result"
    }
   ],
   "source": [
    "Solution().isItPossible(\"aa\",\"bcd\")"
   ]
  }
 ],
 "metadata": {
  "kernelspec": {
   "display_name": "Python 3",
   "language": "python",
   "name": "python3"
  },
  "language_info": {
   "codemirror_mode": {
    "name": "ipython",
    "version": 3
   },
   "file_extension": ".py",
   "mimetype": "text/x-python",
   "name": "python",
   "nbconvert_exporter": "python",
   "pygments_lexer": "ipython3",
   "version": "3.10.6 (tags/v3.10.6:9c7b4bd, Aug  1 2022, 21:53:49) [MSC v.1932 64 bit (AMD64)]"
  },
  "orig_nbformat": 4,
  "vscode": {
   "interpreter": {
    "hash": "f15627b29e15848638e903c52dd09ae6c4c9adb1719aae45dda3850ec7954c19"
   }
  }
 },
 "nbformat": 4,
 "nbformat_minor": 2
}
