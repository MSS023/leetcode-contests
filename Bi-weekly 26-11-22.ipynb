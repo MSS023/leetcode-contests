{
 "cells": [
  {
   "cell_type": "code",
   "execution_count": 25,
   "metadata": {},
   "outputs": [],
   "source": [
    "from typing import *\n",
    "from collections import Counter"
   ]
  },
  {
   "cell_type": "markdown",
   "metadata": {},
   "source": [
    "# Q6249"
   ]
  },
  {
   "cell_type": "code",
   "execution_count": 18,
   "metadata": {},
   "outputs": [],
   "source": [
    "class Solution:\n",
    "    def numberOfCuts(self, n: int) -> int:\n",
    "        count = 0\n",
    "        while n % 2 == 0:\n",
    "            count += 1\n",
    "            n //= 2\n",
    "        if n > 1:\n",
    "            count = (count+1)*n-1\n",
    "        return count"
   ]
  },
  {
   "cell_type": "code",
   "execution_count": 21,
   "metadata": {},
   "outputs": [
    {
     "data": {
      "text/plain": [
       "2"
      ]
     },
     "execution_count": 21,
     "metadata": {},
     "output_type": "execute_result"
    }
   ],
   "source": [
    "Solution().numberOfCuts(3)"
   ]
  },
  {
   "cell_type": "markdown",
   "metadata": {},
   "source": [
    "# Q6277"
   ]
  },
  {
   "cell_type": "code",
   "execution_count": 22,
   "metadata": {},
   "outputs": [],
   "source": [
    "class Solution:\n",
    "    def onesMinusZeros(self, grid: List[List[int]]) -> List[List[int]]:\n",
    "        m = len(grid)\n",
    "        n = len(grid[0])\n",
    "        numR = [0]*m\n",
    "        numC = [0]*n\n",
    "        for i in range(m):\n",
    "            for j in range(n):\n",
    "                numR[i] += grid[i][j]\n",
    "                numC[j] += grid[i][j]\n",
    "        res = [[0]*n for _ in range(m)]\n",
    "        for i in range(m):\n",
    "            for j in range(n):\n",
    "                res[i][j] = 2*numR[i] + 2*numC[j] - m - n\n",
    "        return res\n"
   ]
  },
  {
   "cell_type": "code",
   "execution_count": 24,
   "metadata": {},
   "outputs": [
    {
     "data": {
      "text/plain": [
       "[[0, 0, 4], [0, 0, 4], [-2, -2, 2]]"
      ]
     },
     "execution_count": 24,
     "metadata": {},
     "output_type": "execute_result"
    }
   ],
   "source": [
    "Solution().onesMinusZeros(grid = [[0,1,1],[1,0,1],[0,0,1]])"
   ]
  },
  {
   "cell_type": "markdown",
   "metadata": {},
   "source": [
    "# Q6250"
   ]
  },
  {
   "cell_type": "code",
   "execution_count": 38,
   "metadata": {},
   "outputs": [],
   "source": [
    "class Solution:\n",
    "    def bestClosingTime(self, customers: str) -> int:\n",
    "        diction = Counter(customers)\n",
    "        penalty = [diction[\"Y\"]]\n",
    "        minm = 0\n",
    "        for hour in range(1,len(customers)+1):\n",
    "            penalty.append(penalty[-1] + (1 if customers[hour-1] == \"N\" else -1))\n",
    "            if penalty[-1] >= 0:\n",
    "                if penalty[-1] < penalty[minm]:\n",
    "                    minm = hour\n",
    "        return minm"
   ]
  },
  {
   "cell_type": "code",
   "execution_count": 39,
   "metadata": {},
   "outputs": [
    {
     "data": {
      "text/plain": [
       "2"
      ]
     },
     "execution_count": 39,
     "metadata": {},
     "output_type": "execute_result"
    }
   ],
   "source": [
    "Solution().bestClosingTime(\"YYNY\")"
   ]
  },
  {
   "cell_type": "markdown",
   "metadata": {},
   "source": [
    "# Q6251"
   ]
  },
  {
   "cell_type": "code",
   "execution_count": 66,
   "metadata": {},
   "outputs": [],
   "source": [
    "class Solution:\n",
    "    def countPalindromes(self, s: str) -> int:    \n",
    "        n = len(s)\n",
    "        memo = [[0 for _ in range(n+2)]for __ in range(n+2)]\n",
    "        for i in range(n):\n",
    "            memo[i][i] = 1\n",
    "        for i in range(2, n + 1):\n",
    "            for j in range(n):\n",
    "                k = i + j - 1\n",
    "                if (k < n):\n",
    "                    if (s[j] == s[k]):\n",
    "                        memo[j][k] = memo[j + 1][k] + 1\n",
    "                    else:\n",
    "                        memo[j][k] = memo[j + 1][k] - memo[j + 1][k - 1]\n",
    "        count = 0\n",
    "        print(memo)\n",
    "        for i in memo:\n",
    "            for j in i:\n",
    "                if j == 5:\n",
    "                    count += 1\n",
    "        return count"
   ]
  },
  {
   "cell_type": "code",
   "execution_count": 67,
   "metadata": {},
   "outputs": [
    {
     "name": "stdout",
     "output_type": "stream",
     "text": [
      "[[1, 2, 3, 4, 5, 6, 7, 0, 0], [0, 1, 2, 3, 4, 5, 6, 0, 0], [0, 0, 1, 2, 3, 4, 5, 0, 0], [0, 0, 0, 1, 2, 3, 4, 0, 0], [0, 0, 0, 0, 1, 2, 3, 0, 0], [0, 0, 0, 0, 0, 1, 2, 0, 0], [0, 0, 0, 0, 0, 0, 1, 0, 0], [0, 0, 0, 0, 0, 0, 0, 0, 0], [0, 0, 0, 0, 0, 0, 0, 0, 0]]\n"
     ]
    },
    {
     "data": {
      "text/plain": [
       "3"
      ]
     },
     "execution_count": 67,
     "metadata": {},
     "output_type": "execute_result"
    }
   ],
   "source": [
    "Solution().countPalindromes(\"0000000\")"
   ]
  }
 ],
 "metadata": {
  "kernelspec": {
   "display_name": "Python 3.10.6 64-bit",
   "language": "python",
   "name": "python3"
  },
  "language_info": {
   "codemirror_mode": {
    "name": "ipython",
    "version": 3
   },
   "file_extension": ".py",
   "mimetype": "text/x-python",
   "name": "python",
   "nbconvert_exporter": "python",
   "pygments_lexer": "ipython3",
   "version": "3.10.6"
  },
  "orig_nbformat": 4,
  "vscode": {
   "interpreter": {
    "hash": "f15627b29e15848638e903c52dd09ae6c4c9adb1719aae45dda3850ec7954c19"
   }
  }
 },
 "nbformat": 4,
 "nbformat_minor": 2
}
