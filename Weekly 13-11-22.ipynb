{
 "cells": [
  {
   "cell_type": "code",
   "execution_count": 11,
   "metadata": {},
   "outputs": [],
   "source": [
    "from typing import *\n",
    "import math\n",
    "import bisect"
   ]
  },
  {
   "cell_type": "markdown",
   "metadata": {},
   "source": [
    "# Q6233"
   ]
  },
  {
   "cell_type": "code",
   "execution_count": 2,
   "metadata": {},
   "outputs": [],
   "source": [
    "class Solution:\n",
    "    def convertTemperature(self, celsius: float) -> List[float]:\n",
    "        return [celsius+273.15, celsius*1.80 + 32.00]"
   ]
  },
  {
   "cell_type": "code",
   "execution_count": 4,
   "metadata": {},
   "outputs": [
    {
     "data": {
      "text/plain": [
       "[373.15, 212.0]"
      ]
     },
     "execution_count": 4,
     "metadata": {},
     "output_type": "execute_result"
    }
   ],
   "source": [
    "Solution().convertTemperature(100)"
   ]
  },
  {
   "cell_type": "markdown",
   "metadata": {},
   "source": [
    "# Q6234"
   ]
  },
  {
   "cell_type": "code",
   "execution_count": 8,
   "metadata": {},
   "outputs": [],
   "source": [
    "class Solution:\n",
    "    def subarrayLCM(self, nums: List[int], k: int) -> int:\n",
    "        n = len(nums)\n",
    "        count = 0\n",
    "        for idx1 in range(n):\n",
    "            lcm = nums[idx1]\n",
    "            if lcm == k:\n",
    "                count += 1\n",
    "            for idx2 in range(idx1+1,n):\n",
    "                lcm = math.lcm(lcm,nums[idx2])\n",
    "                if lcm == k:\n",
    "                    count += 1\n",
    "        return count"
   ]
  },
  {
   "cell_type": "code",
   "execution_count": 9,
   "metadata": {},
   "outputs": [
    {
     "data": {
      "text/plain": [
       "4"
      ]
     },
     "execution_count": 9,
     "metadata": {},
     "output_type": "execute_result"
    }
   ],
   "source": [
    "Solution().subarrayLCM([3,6,2,7,1], k = 6)"
   ]
  },
  {
   "cell_type": "markdown",
   "metadata": {},
   "source": [
    "# Q6235"
   ]
  },
  {
   "cell_type": "code",
   "execution_count": 10,
   "metadata": {},
   "outputs": [],
   "source": [
    "# Definition for a binary tree node.\n",
    "class TreeNode:\n",
    "    def __init__(self, val=0, left=None, right=None):\n",
    "        self.val = val\n",
    "        self.left = left\n",
    "        self.right = right"
   ]
  },
  {
   "cell_type": "code",
   "execution_count": 15,
   "metadata": {},
   "outputs": [],
   "source": [
    "class Solution:\n",
    "    def minimumOperations(self, root: Optional[TreeNode]) -> int:\n",
    "        levels = []\n",
    "        levels_us = []\n",
    "        queue = [(root,0)]\n",
    "        while queue:\n",
    "            node,level = queue.pop(0)\n",
    "            if level >= len(levels):\n",
    "                levels.append([])\n",
    "                levels_us.append([])\n",
    "            if node.left:\n",
    "                queue.append((node.left, level+1))\n",
    "            if node.right:\n",
    "                queue.append((node.right, level+1))\n",
    "            levels_us[level].append(node.val)\n",
    "            bisect.insort(levels[level],node.val)\n",
    "\n",
    "        ans = 0\n",
    "        for i,j in zip(levels,levels_us):\n",
    "            count = 0\n",
    "            idx = 0\n",
    "            dict = {v:idx for idx, v in enumerate(j)}\n",
    "            while idx < len(i):\n",
    "                if i[idx] == j[idx]:\n",
    "                    idx += 1\n",
    "                    continue\n",
    "                start = idx\n",
    "                temp = dict[i[idx]]\n",
    "                while temp != start:\n",
    "                    i[start], i[temp] = i[temp], i[start]\n",
    "                    temp = dict[i[start]]\n",
    "                    count += 1\n",
    "                idx += 1\n",
    "            ans += count\n",
    "        return ans"
   ]
  }
 ],
 "metadata": {
  "kernelspec": {
   "display_name": "Python 3.10.6 64-bit",
   "language": "python",
   "name": "python3"
  },
  "language_info": {
   "codemirror_mode": {
    "name": "ipython",
    "version": 3
   },
   "file_extension": ".py",
   "mimetype": "text/x-python",
   "name": "python",
   "nbconvert_exporter": "python",
   "pygments_lexer": "ipython3",
   "version": "3.10.6"
  },
  "orig_nbformat": 4,
  "vscode": {
   "interpreter": {
    "hash": "f15627b29e15848638e903c52dd09ae6c4c9adb1719aae45dda3850ec7954c19"
   }
  }
 },
 "nbformat": 4,
 "nbformat_minor": 2
}
