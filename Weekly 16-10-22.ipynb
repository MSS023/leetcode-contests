{
 "cells": [
  {
   "cell_type": "code",
   "execution_count": 1,
   "metadata": {},
   "outputs": [],
   "source": [
    "from typing import *\n",
    "from collections import Counter"
   ]
  },
  {
   "cell_type": "markdown",
   "metadata": {},
   "source": [
    "# Q6204"
   ]
  },
  {
   "cell_type": "code",
   "execution_count": null,
   "metadata": {},
   "outputs": [],
   "source": [
    "class Solution:\n",
    "    def findMaxK(self, nums: List[int]) -> int:\n",
    "        nums.sort()\n",
    "        if nums[0] > 0 or nums[-1] < 0:\n",
    "            return -1 \n",
    "        idx2 = 0\n",
    "        for idx in range(len(nums)-1,-1,-1):\n",
    "            if nums[idx] < 0:\n",
    "                return -1\n",
    "            while nums[idx] <= -nums[idx2]:\n",
    "                if nums[idx] == -nums[idx2]:\n",
    "                    return nums[idx]\n",
    "                idx2 += 1\n",
    "        return -1"
   ]
  },
  {
   "cell_type": "code",
   "execution_count": null,
   "metadata": {},
   "outputs": [],
   "source": [
    "Solution().findMaxK([-10,8,6,7,-2,-3])"
   ]
  },
  {
   "cell_type": "markdown",
   "metadata": {},
   "source": [
    "# Q6205"
   ]
  },
  {
   "cell_type": "code",
   "execution_count": null,
   "metadata": {},
   "outputs": [],
   "source": [
    "class Solution:\n",
    "    def countDistinctIntegers(self, nums: List[int]) -> int:\n",
    "        def reverse(n):\n",
    "            rev = 0\n",
    "            while n > 0:\n",
    "                mod = n % 10\n",
    "                rev = rev * 10 + mod\n",
    "                n //= 10\n",
    "            return rev\n",
    "\n",
    "        revIdx = len(nums)\n",
    "        count = Counter(nums)\n",
    "        idx = 0\n",
    "        while idx < revIdx:\n",
    "            rev = reverse(nums[idx])\n",
    "            nums.append(rev)\n",
    "            if rev in count:\n",
    "                count[rev] += 1\n",
    "            else:\n",
    "                count[rev] = 1\n",
    "            idx += 1\n",
    "        return len(count.keys())"
   ]
  },
  {
   "cell_type": "code",
   "execution_count": null,
   "metadata": {},
   "outputs": [],
   "source": [
    "Solution().countDistinctIntegers([2,2,2])"
   ]
  },
  {
   "cell_type": "markdown",
   "metadata": {},
   "source": [
    "# Q6219"
   ]
  },
  {
   "cell_type": "code",
   "execution_count": 65,
   "metadata": {},
   "outputs": [],
   "source": [
    "class Solution:\n",
    "    def sumOfNumberAndReverse(self, num: int) -> bool:\n",
    "        if num == 0 or (num < 20 and num%2 == 0):\n",
    "            return True\n",
    "        strNum = str(num)\n",
    "        n = len(strNum)\n",
    "        res = \"0\"*n\n",
    "        def recursive(idx,s):\n",
    "            if idx == n:\n",
    "                if int(s)+int(s[::-1]) == num:\n",
    "                    print(s,s[::-1])\n",
    "                    return True\n",
    "                return False\n",
    "            digit = int(s[idx])\n",
    "            while digit < 10:\n",
    "                if recursive(idx+1,s): return True\n",
    "                s = s[:idx]+str(digit+1)+s[idx+1:]\n",
    "                digit += 1\n",
    "            return False\n",
    "        return recursive(0,res)"
   ]
  },
  {
   "cell_type": "code",
   "execution_count": 66,
   "metadata": {},
   "outputs": [
    {
     "name": "stdout",
     "output_type": "stream",
     "text": [
      "050 050\n"
     ]
    },
    {
     "data": {
      "text/plain": [
       "True"
      ]
     },
     "execution_count": 66,
     "metadata": {},
     "output_type": "execute_result"
    }
   ],
   "source": [
    "Solution().sumOfNumberAndReverse(100)"
   ]
  },
  {
   "cell_type": "markdown",
   "metadata": {},
   "source": [
    "# Q6207"
   ]
  },
  {
   "cell_type": "code",
   "execution_count": null,
   "metadata": {},
   "outputs": [],
   "source": [
    "class Solution:\n",
    "    def countSubarrays(self, nums: List[int], minK: int, maxK: int) -> int:\n",
    "        idx"
   ]
  }
 ],
 "metadata": {
  "kernelspec": {
   "display_name": "Python 3.10.6 64-bit",
   "language": "python",
   "name": "python3"
  },
  "language_info": {
   "codemirror_mode": {
    "name": "ipython",
    "version": 3
   },
   "file_extension": ".py",
   "mimetype": "text/x-python",
   "name": "python",
   "nbconvert_exporter": "python",
   "pygments_lexer": "ipython3",
   "version": "3.10.6"
  },
  "orig_nbformat": 4,
  "vscode": {
   "interpreter": {
    "hash": "f15627b29e15848638e903c52dd09ae6c4c9adb1719aae45dda3850ec7954c19"
   }
  }
 },
 "nbformat": 4,
 "nbformat_minor": 2
}
