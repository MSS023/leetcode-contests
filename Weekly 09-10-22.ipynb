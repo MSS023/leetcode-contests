{
 "cells": [
  {
   "cell_type": "code",
   "execution_count": 6,
   "metadata": {},
   "outputs": [],
   "source": [
    "from typing import *"
   ]
  },
  {
   "cell_type": "markdown",
   "metadata": {},
   "source": [
    "# q6200"
   ]
  },
  {
   "cell_type": "code",
   "execution_count": 9,
   "metadata": {},
   "outputs": [],
   "source": [
    "class Solution:\n",
    "    def hardestWorker(self, n: int, logs: List[List[int]]) -> int:\n",
    "        maxm = 0\n",
    "        maxId = None\n",
    "        start = 0\n",
    "        for id, end in logs:\n",
    "            if end-start > maxm:\n",
    "                maxm = end-start\n",
    "                maxId = id\n",
    "            elif end-start == maxm:\n",
    "                maxId = min(maxId, id)\n",
    "            start = end\n",
    "        return maxId"
   ]
  },
  {
   "cell_type": "code",
   "execution_count": 11,
   "metadata": {},
   "outputs": [
    {
     "data": {
      "text/plain": [
       "0"
      ]
     },
     "execution_count": 11,
     "metadata": {},
     "output_type": "execute_result"
    }
   ],
   "source": [
    "Solution().hardestWorker(n = 2, logs = [[0,10],[1,20]])"
   ]
  },
  {
   "cell_type": "markdown",
   "metadata": {},
   "source": [
    "# q6201"
   ]
  },
  {
   "cell_type": "code",
   "execution_count": 12,
   "metadata": {},
   "outputs": [],
   "source": [
    "class Solution:\n",
    "    def findArray(self, pref: List[int]) -> List[int]:\n",
    "        prev = 0\n",
    "        res = []\n",
    "        for i in pref:\n",
    "            res.append(prev^i)\n",
    "            prev = i\n",
    "        return res"
   ]
  },
  {
   "cell_type": "code",
   "execution_count": 14,
   "metadata": {},
   "outputs": [
    {
     "data": {
      "text/plain": [
       "[13]"
      ]
     },
     "execution_count": 14,
     "metadata": {},
     "output_type": "execute_result"
    }
   ],
   "source": [
    "Solution().findArray([13])"
   ]
  },
  {
   "cell_type": "markdown",
   "metadata": {},
   "source": [
    "# q6202"
   ]
  },
  {
   "cell_type": "code",
   "execution_count": 17,
   "metadata": {},
   "outputs": [],
   "source": [
    "class Solution:\n",
    "    def robotWithString(self, s: str) -> str:\n",
    "        suffMin = []\n",
    "        minm = \"z\"\n",
    "        for i in s[::-1]:\n",
    "            minm = min(minm,i)\n",
    "            suffMin.insert(0,minm)\n",
    "        t = []\n",
    "        res = []\n",
    "        for ch1,ch2 in zip(suffMin, s):\n",
    "            while t and ch1 >= t[0]:\n",
    "                res += t.pop(0)\n",
    "            if ch1 == ch2:\n",
    "                res.append(ch2)\n",
    "                continue\n",
    "            t.insert(0,ch2)\n",
    "        return \"\".join(res) + \"\".join(t)"
   ]
  },
  {
   "cell_type": "code",
   "execution_count": 5,
   "metadata": {},
   "outputs": [],
   "source": [
    "class Solution:\n",
    "    def robotWithString(self, s: str) -> str:\n",
    "        suffMin = [None]*len(s)\n",
    "        minm = \"z\"\n",
    "        for i in range(len(s)-1,-1,-1):\n",
    "            minm = min(minm,s[i])\n",
    "            suffMin[i] = minm\n",
    "        t = []\n",
    "        res = \"\"\n",
    "        for ch1,ch2 in zip(suffMin, s):\n",
    "            while t and ch1 >= t[-1]:\n",
    "                res += t.pop()\n",
    "            if ch1 == ch2:\n",
    "                res += ch2\n",
    "                continue\n",
    "            t.append(ch2)\n",
    "        while t:\n",
    "            res += t.pop()\n",
    "        return res"
   ]
  },
  {
   "cell_type": "code",
   "execution_count": 6,
   "metadata": {},
   "outputs": [
    {
     "data": {
      "text/plain": [
       "'addb'"
      ]
     },
     "execution_count": 6,
     "metadata": {},
     "output_type": "execute_result"
    }
   ],
   "source": [
    "Solution().robotWithString(\"bdda\")"
   ]
  },
  {
   "cell_type": "markdown",
   "metadata": {},
   "source": [
    "# q6203"
   ]
  },
  {
   "cell_type": "code",
   "execution_count": 3,
   "metadata": {},
   "outputs": [],
   "source": [
    "from typing import *\n",
    "\n",
    "class Solution:\n",
    "    def numberOfPaths(self, grid: List[List[int]], k: int) -> int:\n",
    "        m = len(grid)\n",
    "        n = len(grid[0])\n",
    "        MOD = 7 + 10**9\n",
    "\n",
    "        mods = [[[0]*k for c in range(n)] for r in range(m)]\n",
    "        mods[m-1][n-1][grid[m-1][n-1]%k] = 1\n",
    "        def BFS(r,c):\n",
    "            queue = [(r,c)]\n",
    "            while queue:\n",
    "                r,c = queue.pop(0)\n",
    "                for i in range(k):\n",
    "                    sum = (grid[r][c] + i) % k\n",
    "                    if r < m-1:\n",
    "                        mods[r][c][sum] += mods[r+1][c][i]\n",
    "                    if c < n-1:\n",
    "                        mods[r][c][sum] += mods[r][c+1][i]\n",
    "                if r>0 and (r-1,c) not in queue:\n",
    "                    queue.append((r-1,c))\n",
    "                if c>0 and (r,c-1) not in queue:\n",
    "                    queue.append((r,c-1))\n",
    "        BFS(m-1,n-1)\n",
    "        return mods[0][0][0]%MOD"
   ]
  },
  {
   "cell_type": "code",
   "execution_count": 4,
   "metadata": {},
   "outputs": [
    {
     "data": {
      "text/plain": [
       "2"
      ]
     },
     "execution_count": 4,
     "metadata": {},
     "output_type": "execute_result"
    }
   ],
   "source": [
    "Solution().numberOfPaths( grid = [[5,2,4],[3,0,5],[0,7,2]], k = 3)"
   ]
  }
 ],
 "metadata": {
  "kernelspec": {
   "display_name": "Python 3.10.6 64-bit",
   "language": "python",
   "name": "python3"
  },
  "language_info": {
   "codemirror_mode": {
    "name": "ipython",
    "version": 3
   },
   "file_extension": ".py",
   "mimetype": "text/x-python",
   "name": "python",
   "nbconvert_exporter": "python",
   "pygments_lexer": "ipython3",
   "version": "3.10.6"
  },
  "orig_nbformat": 4,
  "vscode": {
   "interpreter": {
    "hash": "f15627b29e15848638e903c52dd09ae6c4c9adb1719aae45dda3850ec7954c19"
   }
  }
 },
 "nbformat": 4,
 "nbformat_minor": 2
}
