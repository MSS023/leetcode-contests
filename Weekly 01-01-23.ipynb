{
 "cells": [
  {
   "cell_type": "code",
   "execution_count": 2,
   "metadata": {},
   "outputs": [],
   "source": [
    "from typing import *\n",
    "import math\n",
    "import sys"
   ]
  },
  {
   "attachments": {},
   "cell_type": "markdown",
   "metadata": {},
   "source": [
    "# Q6278"
   ]
  },
  {
   "cell_type": "code",
   "execution_count": 3,
   "metadata": {},
   "outputs": [],
   "source": [
    "class Solution:\n",
    "    def countDigits(self, num: int) -> int:\n",
    "        temp = num\n",
    "        count = 0\n",
    "        while temp > 0:\n",
    "            mod = temp % 10\n",
    "            if num % mod == 0:\n",
    "                count += 1\n",
    "            temp //= 10\n",
    "        return count"
   ]
  },
  {
   "cell_type": "code",
   "execution_count": 4,
   "metadata": {},
   "outputs": [
    {
     "data": {
      "text/plain": [
       "4"
      ]
     },
     "execution_count": 4,
     "metadata": {},
     "output_type": "execute_result"
    }
   ],
   "source": [
    "Solution().countDigits(1248)"
   ]
  },
  {
   "attachments": {},
   "cell_type": "markdown",
   "metadata": {},
   "source": [
    "# Q6279"
   ]
  },
  {
   "cell_type": "code",
   "execution_count": 5,
   "metadata": {},
   "outputs": [],
   "source": [
    "class Solution:\n",
    "    def distinctPrimeFactors(self, nums: List[int]) -> int:\n",
    "        nums.sort()\n",
    "        maxm = nums[-1]\n",
    "        primes = []\n",
    "        for i in range(2,maxm+1):\n",
    "            divisible = False\n",
    "            for num in primes:\n",
    "                if i % num == 0:\n",
    "                    divisible = True\n",
    "                    break\n",
    "            if not divisible:\n",
    "                primes.append(i)\n",
    "        factors = set()\n",
    "        for num in nums:\n",
    "            for prime in primes:\n",
    "                if num % prime == 0:\n",
    "                    factors.add(prime)\n",
    "        return len(factors)"
   ]
  },
  {
   "cell_type": "code",
   "execution_count": 6,
   "metadata": {},
   "outputs": [
    {
     "data": {
      "text/plain": [
       "4"
      ]
     },
     "execution_count": 6,
     "metadata": {},
     "output_type": "execute_result"
    }
   ],
   "source": [
    "Solution().distinctPrimeFactors([2,4,3,7,10,6])"
   ]
  },
  {
   "attachments": {},
   "cell_type": "markdown",
   "metadata": {},
   "source": [
    "# Q6196"
   ]
  },
  {
   "cell_type": "code",
   "execution_count": 7,
   "metadata": {},
   "outputs": [],
   "source": [
    "class Solution:\n",
    "    def minimumPartition(self, s: str, k: int) -> int:\n",
    "        if k < 10:\n",
    "            for digit in s:\n",
    "                if int(digit) > k:\n",
    "                    return -1\n",
    "            return len(s)\n",
    "        last = 0\n",
    "        n = len(s)\n",
    "        count = 0\n",
    "        while last < n:\n",
    "            start = last\n",
    "            num = s[start]\n",
    "            while last < n-1 and int(num + s[last+1]) <= k:\n",
    "                last += 1\n",
    "                num += s[last]\n",
    "            last += 1\n",
    "            count += 1\n",
    "        return count"
   ]
  },
  {
   "cell_type": "code",
   "execution_count": 8,
   "metadata": {},
   "outputs": [
    {
     "data": {
      "text/plain": [
       "29"
      ]
     },
     "execution_count": 8,
     "metadata": {},
     "output_type": "execute_result"
    }
   ],
   "source": [
    "Solution().minimumPartition(\n",
    "    \"2995624428278123422153476983795874268215311982758939386251\", 128)\n"
   ]
  },
  {
   "attachments": {},
   "cell_type": "markdown",
   "metadata": {},
   "source": [
    "# Q6280"
   ]
  },
  {
   "cell_type": "code",
   "execution_count": 9,
   "metadata": {},
   "outputs": [],
   "source": [
    "class Solution:\n",
    "    def closestPrimes(self, left: int, right: int) -> List[int]:\n",
    "        primes = []\n",
    "        minm = [0, 10000000]\n",
    "        for i in range(2, right+1):\n",
    "            isDivisible = False\n",
    "            sqrt = math.sqrt(i)\n",
    "            for num in primes:\n",
    "                if i % num == 0:\n",
    "                    isDivisible = True\n",
    "                    break\n",
    "                if num > sqrt:\n",
    "                    break\n",
    "            if isDivisible:\n",
    "                continue\n",
    "            primes.append(i)\n",
    "            if len(primes) > 1 and primes[-2] >= left and primes[-1] <= right:\n",
    "                minm = min([minm, [primes[-2], primes[-1]]],\n",
    "                           key=lambda x: x[1]-x[0])\n",
    "        if minm[0] < left or minm[1] > right:\n",
    "            return [-1, -1]\n",
    "        return minm\n"
   ]
  },
  {
   "cell_type": "code",
   "execution_count": 12,
   "metadata": {},
   "outputs": [
    {
     "data": {
      "text/plain": [
       "[2, 3]"
      ]
     },
     "execution_count": 12,
     "metadata": {},
     "output_type": "execute_result"
    }
   ],
   "source": [
    "Solution().closestPrimes(0,10**6)"
   ]
  }
 ],
 "metadata": {
  "kernelspec": {
   "display_name": "Python 3",
   "language": "python",
   "name": "python3"
  },
  "language_info": {
   "codemirror_mode": {
    "name": "ipython",
    "version": 3
   },
   "file_extension": ".py",
   "mimetype": "text/x-python",
   "name": "python",
   "nbconvert_exporter": "python",
   "pygments_lexer": "ipython3",
   "version": "3.10.6"
  },
  "orig_nbformat": 4,
  "vscode": {
   "interpreter": {
    "hash": "f15627b29e15848638e903c52dd09ae6c4c9adb1719aae45dda3850ec7954c19"
   }
  }
 },
 "nbformat": 4,
 "nbformat_minor": 2
}
