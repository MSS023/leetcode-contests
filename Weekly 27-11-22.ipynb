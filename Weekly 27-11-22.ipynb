{
 "cells": [
  {
   "cell_type": "code",
   "execution_count": 2,
   "metadata": {},
   "outputs": [],
   "source": [
    "from typing import *"
   ]
  },
  {
   "cell_type": "markdown",
   "metadata": {},
   "source": [
    "# Q6245"
   ]
  },
  {
   "cell_type": "code",
   "execution_count": 7,
   "metadata": {},
   "outputs": [],
   "source": [
    "class Solution:\n",
    "    def pivotInteger(self, n: int) -> int:\n",
    "        targetSum = n*(n+1)//2\n",
    "        sum = 1\n",
    "        for i in range(2,n+1):\n",
    "            sum += i\n",
    "            targetSum -= i-1\n",
    "            if sum == targetSum:\n",
    "                return i\n",
    "        if sum == targetSum:\n",
    "            return n\n",
    "        return -1"
   ]
  },
  {
   "cell_type": "code",
   "execution_count": 8,
   "metadata": {},
   "outputs": [
    {
     "data": {
      "text/plain": [
       "1"
      ]
     },
     "execution_count": 8,
     "metadata": {},
     "output_type": "execute_result"
    }
   ],
   "source": [
    "Solution().pivotInteger(1)"
   ]
  },
  {
   "cell_type": "markdown",
   "metadata": {},
   "source": [
    "# Q6246"
   ]
  },
  {
   "cell_type": "code",
   "execution_count": 9,
   "metadata": {},
   "outputs": [],
   "source": [
    "class Solution:\n",
    "    def appendCharacters(self, s: str, t: str) -> int:\n",
    "        pos = 0\n",
    "        for i in s:\n",
    "            if i == t[pos]:\n",
    "                pos += 1\n",
    "            if pos == len(t):\n",
    "                return 0\n",
    "        return len(t)-pos"
   ]
  },
  {
   "cell_type": "code",
   "execution_count": 10,
   "metadata": {},
   "outputs": [
    {
     "data": {
      "text/plain": [
       "4"
      ]
     },
     "execution_count": 10,
     "metadata": {},
     "output_type": "execute_result"
    }
   ],
   "source": [
    "Solution().appendCharacters(\"coaching\",\"coding\")"
   ]
  },
  {
   "cell_type": "markdown",
   "metadata": {},
   "source": [
    "# Q6247"
   ]
  },
  {
   "cell_type": "code",
   "execution_count": 11,
   "metadata": {},
   "outputs": [],
   "source": [
    "# Definition for singly-linked list.\n",
    "class ListNode:\n",
    "    def __init__(self, val=0, next=None):\n",
    "        self.val = val\n",
    "        self.next = next"
   ]
  },
  {
   "cell_type": "code",
   "execution_count": 12,
   "metadata": {},
   "outputs": [],
   "source": [
    "class Solution:\n",
    "    def removeNodes(self, head: Optional[ListNode]) -> Optional[ListNode]:\n",
    "        prev = []\n",
    "        while head:\n",
    "            prev.append(head)\n",
    "            head = head.next\n",
    "        next = prev.pop()\n",
    "        max = next.val\n",
    "        n = len(prev)\n",
    "        while n > 0:\n",
    "            if prev[n-1].val >= max:\n",
    "                prev[n-1].next = next\n",
    "                next = prev[n-1]\n",
    "                max = next.val\n",
    "            n -= 1\n",
    "        return next"
   ]
  },
  {
   "cell_type": "code",
   "execution_count": 15,
   "metadata": {},
   "outputs": [
    {
     "name": "stdout",
     "output_type": "stream",
     "text": [
      "1\n",
      "1\n",
      "1\n",
      "1\n"
     ]
    }
   ],
   "source": [
    "def createLL(arr):\n",
    "    head = ListNode()\n",
    "    temp = head\n",
    "    while arr:\n",
    "        temp.next = ListNode(arr.pop(0))\n",
    "        temp = temp.next\n",
    "    return head.next\n",
    "\n",
    "def printLL(head):\n",
    "    while head:\n",
    "        print(head.val)\n",
    "        head = head.next\n",
    "\n",
    "printLL(Solution().removeNodes(createLL([1,1,1,1])))"
   ]
  },
  {
   "cell_type": "markdown",
   "metadata": {},
   "source": [
    "# Q6248"
   ]
  },
  {
   "cell_type": "code",
   "execution_count": 78,
   "metadata": {},
   "outputs": [],
   "source": [
    "class Solution:\n",
    "    def countSubarrays(self, nums: List[int], k: int) -> int:\n",
    "        if len(nums) == 1:\n",
    "            return 1\n",
    "        def subtract(arr1, arr2):\n",
    "            return [arr1[0]-arr2[0], arr1[1]-arr2[1]]\n",
    "        memo = []\n",
    "        lt = 0\n",
    "        gt = 0\n",
    "        flag = False\n",
    "        count = 1 if nums[0] != k else 0\n",
    "        pos = None\n",
    "        for i in range(len(nums)):\n",
    "            if nums[i] == k:\n",
    "                flag = True\n",
    "                pos = i\n",
    "            if nums[i] < k:\n",
    "                lt += 1\n",
    "            elif nums[i] > k:\n",
    "                gt += 1\n",
    "            memo.append([lt, gt])\n",
    "            if i == pos:\n",
    "                for j in range(pos-2, -1, -1):\n",
    "                    temp = subtract(memo[i], memo[j])\n",
    "                    if temp[0] == temp[1] or temp[0] == temp[1]-1:\n",
    "                        print(i, j, temp)\n",
    "                        count += 1\n",
    "                if lt == gt or lt == gt-1:\n",
    "                    count += 1\n",
    "                continue\n",
    "            if flag:\n",
    "                for j in range(pos-1, -1, -1):\n",
    "                    temp = subtract(memo[i], memo[j])\n",
    "                    if temp[0] == temp[1] or temp[0] == temp[1]-1:\n",
    "                        print(i, j, temp)\n",
    "                        count += 1\n",
    "                if lt == gt or lt == gt-1:\n",
    "                    count += 1\n",
    "        print(memo)\n",
    "        return count\n"
   ]
  },
  {
   "cell_type": "code",
   "execution_count": 79,
   "metadata": {},
   "outputs": [
    {
     "name": "stdout",
     "output_type": "stream",
     "text": [
      "[[0, 0], [1, 0], [1, 1], [1, 2]]\n"
     ]
    },
    {
     "data": {
      "text/plain": [
       "3"
      ]
     },
     "execution_count": 79,
     "metadata": {},
     "output_type": "execute_result"
    }
   ],
   "source": [
    "Solution().countSubarrays([2,1,4,3],2)"
   ]
  }
 ],
 "metadata": {
  "kernelspec": {
   "display_name": "Python 3.10.6 64-bit",
   "language": "python",
   "name": "python3"
  },
  "language_info": {
   "codemirror_mode": {
    "name": "ipython",
    "version": 3
   },
   "file_extension": ".py",
   "mimetype": "text/x-python",
   "name": "python",
   "nbconvert_exporter": "python",
   "pygments_lexer": "ipython3",
   "version": "3.10.6"
  },
  "orig_nbformat": 4,
  "vscode": {
   "interpreter": {
    "hash": "f15627b29e15848638e903c52dd09ae6c4c9adb1719aae45dda3850ec7954c19"
   }
  }
 },
 "nbformat": 4,
 "nbformat_minor": 2
}
