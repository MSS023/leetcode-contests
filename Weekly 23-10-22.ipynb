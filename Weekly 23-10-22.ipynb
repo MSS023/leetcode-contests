{
 "cells": [
  {
   "cell_type": "code",
   "execution_count": 5,
   "metadata": {},
   "outputs": [],
   "source": [
    "from typing import *\n",
    "from time import strptime"
   ]
  },
  {
   "cell_type": "markdown",
   "metadata": {},
   "source": [
    "# Q6214"
   ]
  },
  {
   "cell_type": "code",
   "execution_count": 12,
   "metadata": {},
   "outputs": [],
   "source": [
    "class Solution:\n",
    "    def haveConflict(self, event1: List[str], event2: List[str]) -> bool:\n",
    "        event1 = [strptime(x,'%H:%M') for x in event1]\n",
    "        event2 = [strptime(x,'%H:%M') for x in event2]\n",
    "        if event1[0] > event2[0]:\n",
    "            if event1[0] > event2[1]:\n",
    "                return False\n",
    "            return True\n",
    "        elif event1[0] < event2[0]:\n",
    "            if event2[0] > event1[1]:\n",
    "                return False\n",
    "            return True\n",
    "        return True"
   ]
  },
  {
   "cell_type": "code",
   "execution_count": 15,
   "metadata": {},
   "outputs": [
    {
     "data": {
      "text/plain": [
       "False"
      ]
     },
     "execution_count": 15,
     "metadata": {},
     "output_type": "execute_result"
    }
   ],
   "source": [
    "Solution().haveConflict(event1 = [\"10:00\",\"11:00\"], event2 = [\"14:00\",\"15:00\"])"
   ]
  },
  {
   "cell_type": "markdown",
   "metadata": {},
   "source": [
    "# Q6224 "
   ]
  },
  {
   "cell_type": "code",
   "execution_count": 40,
   "metadata": {},
   "outputs": [],
   "source": [
    "import sys\n",
    "sys.setrecursionlimit(10**9)\n",
    "\n",
    "class Solution:\n",
    "    def subarrayGCD(self, nums: List[int], k: int) -> int:\n",
    "        prev = []\n",
    "        n = len(nums)\n",
    "        if n == 1:\n",
    "            if nums[0] == k:\n",
    "                return 1\n",
    "            return 0\n",
    "        diction = {}\n",
    "        def gcd(a,b):\n",
    "            if (a,b) in diction:\n",
    "                return diction[(a,b)]\n",
    "            if a == b:\n",
    "                diction[(a,b)] = a\n",
    "                return a\n",
    "            elif a > b:\n",
    "                diction[(a,b)] = gcd(a-b,b)\n",
    "            else:\n",
    "                diction[(a,b)] = gcd(a,b-a)\n",
    "            return diction[(a,b)]\n",
    "        count = 0\n",
    "        for idx1 in range(n):\n",
    "            if nums[idx1] == k:\n",
    "                count += 1\n",
    "            temp = 0\n",
    "            temp2 = nums[idx1]\n",
    "            for idx2 in range(idx1+1,n):\n",
    "                if temp2 == k:\n",
    "                    if nums[idx2] % temp2 == 0:\n",
    "                        temp += 1\n",
    "                        continue\n",
    "                    else:\n",
    "                        break\n",
    "                if temp2 < k:\n",
    "                    break\n",
    "                temp2 = gcd(temp2,nums[idx2])\n",
    "                if temp2 != k:\n",
    "                    continue\n",
    "                temp += 1\n",
    "            if temp > 0:\n",
    "                count += temp\n",
    "        return count"
   ]
  },
  {
   "cell_type": "code",
   "execution_count": 41,
   "metadata": {},
   "outputs": [
    {
     "data": {
      "text/plain": [
       "4"
      ]
     },
     "execution_count": 41,
     "metadata": {},
     "output_type": "execute_result"
    }
   ],
   "source": [
    "Solution().subarrayGCD(nums = [9,3,1,2,6,3], k = 3)"
   ]
  }
 ],
 "metadata": {
  "kernelspec": {
   "display_name": "Python 3.10.6 64-bit",
   "language": "python",
   "name": "python3"
  },
  "language_info": {
   "codemirror_mode": {
    "name": "ipython",
    "version": 3
   },
   "file_extension": ".py",
   "mimetype": "text/x-python",
   "name": "python",
   "nbconvert_exporter": "python",
   "pygments_lexer": "ipython3",
   "version": "3.10.6"
  },
  "orig_nbformat": 4,
  "vscode": {
   "interpreter": {
    "hash": "f15627b29e15848638e903c52dd09ae6c4c9adb1719aae45dda3850ec7954c19"
   }
  }
 },
 "nbformat": 4,
 "nbformat_minor": 2
}
