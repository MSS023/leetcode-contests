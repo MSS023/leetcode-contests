{
 "cells": [
  {
   "cell_type": "code",
   "execution_count": 1,
   "metadata": {},
   "outputs": [],
   "source": [
    "from typing import *"
   ]
  },
  {
   "attachments": {},
   "cell_type": "markdown",
   "metadata": {},
   "source": [
    "# Q2769\n"
   ]
  },
  {
   "cell_type": "code",
   "execution_count": 2,
   "metadata": {},
   "outputs": [],
   "source": [
    "class Solution:\n",
    "    def theMaximumAchievableX(self, num: int, t: int) -> int:\n",
    "        return num+2*t"
   ]
  },
  {
   "attachments": {},
   "cell_type": "markdown",
   "metadata": {},
   "source": [
    "# Q2770\n"
   ]
  },
  {
   "cell_type": "code",
   "execution_count": 4,
   "metadata": {},
   "outputs": [],
   "source": [
    "class Solution:\n",
    "    def maximumJumps(self, nums: List[int], target: int) -> int:\n",
    "        def recursive(start):\n",
    "            if start == n-1:\n",
    "                return 0\n",
    "            if start in memo:\n",
    "                return memo[start]\n",
    "            result = -1\n",
    "            for index in range(start+1, n):\n",
    "                if abs(nums[start]-nums[index]) > target:\n",
    "                    continue\n",
    "                re_result = recursive(index)\n",
    "                if re_result == -1:\n",
    "                    continue\n",
    "                result = max(result, re_result+1)\n",
    "            memo[start] = result\n",
    "            return result\n",
    "        \n",
    "        count = 0\n",
    "        position = 0\n",
    "        n = len(nums)\n",
    "        memo = {}\n",
    "        return recursive(0)"
   ]
  },
  {
   "attachments": {},
   "cell_type": "markdown",
   "metadata": {},
   "source": [
    "# Q2771\n"
   ]
  },
  {
   "cell_type": "code",
   "execution_count": null,
   "metadata": {},
   "outputs": [],
   "source": [
    "class Solution:\n",
    "    def maxNonDecreasingLength(self, nums1: List[int], nums2: List[int]) -> int:\n",
    "        n = len(nums1)\n",
    "        last = 0\n",
    "        length = 0\n",
    "        for index in range(n):\n",
    "            if nums1[index] < last and nums2[index] < last:\n",
    "                return length\n",
    "            if nums1[index] < last:\n",
    "                last = nums2[index]\n",
    "                length += 1\n",
    "                continue\n",
    "            if nums2[index] < last:\n",
    "                last = nums1[index]\n",
    "                length += 1\n",
    "                continue\n",
    "            last = min(nums1[index], nums2[index])\n",
    "            length += 1\n",
    "        return length"
   ]
  }
 ],
 "metadata": {
  "kernelspec": {
   "display_name": "Python 3",
   "language": "python",
   "name": "python3"
  },
  "language_info": {
   "codemirror_mode": {
    "name": "ipython",
    "version": 3
   },
   "file_extension": ".py",
   "mimetype": "text/x-python",
   "name": "python",
   "nbconvert_exporter": "python",
   "pygments_lexer": "ipython3",
   "version": "3.11.4"
  },
  "orig_nbformat": 4
 },
 "nbformat": 4,
 "nbformat_minor": 2
}
