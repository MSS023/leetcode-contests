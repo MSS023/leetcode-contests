{
 "cells": [
  {
   "cell_type": "code",
   "execution_count": 1,
   "metadata": {},
   "outputs": [],
   "source": [
    "from typing import *"
   ]
  },
  {
   "attachments": {},
   "cell_type": "markdown",
   "metadata": {},
   "source": [
    "# Q6439"
   ]
  },
  {
   "cell_type": "code",
   "execution_count": 2,
   "metadata": {},
   "outputs": [],
   "source": [
    "class Solution:\n",
    "    def minLength(self, s: str) -> int:\n",
    "        changed = True\n",
    "        while len(s) and changed:\n",
    "            changed = False\n",
    "            if 'AB' in s:\n",
    "                s = s.replace('AB','')\n",
    "                changed = True\n",
    "            if 'CD' in s:\n",
    "                s = s.replace('CD','')\n",
    "                changed = True\n",
    "        return len(s)"
   ]
  },
  {
   "cell_type": "code",
   "execution_count": 3,
   "metadata": {},
   "outputs": [
    {
     "data": {
      "text/plain": [
       "5"
      ]
     },
     "execution_count": 3,
     "metadata": {},
     "output_type": "execute_result"
    }
   ],
   "source": [
    "Solution().minLength(\"ACBBD\")"
   ]
  },
  {
   "attachments": {},
   "cell_type": "markdown",
   "metadata": {},
   "source": [
    "# Q6454"
   ]
  },
  {
   "cell_type": "code",
   "execution_count": 11,
   "metadata": {},
   "outputs": [],
   "source": [
    "class Solution:\n",
    "    def makeSmallestPalindrome(self, s: str) -> str:\n",
    "        ptr1, ptr2 = 0, len(s)-1\n",
    "        while ptr1 < ptr2:\n",
    "            minCh = min(s[ptr1], s[ptr2])\n",
    "            s = s[:ptr1] + minCh + s[ptr1+1:ptr2] + minCh + s[ptr2+1:]\n",
    "            ptr1 += 1\n",
    "            ptr2 -= 1\n",
    "        return s\n"
   ]
  },
  {
   "cell_type": "code",
   "execution_count": 12,
   "metadata": {},
   "outputs": [
    {
     "data": {
      "text/plain": [
       "'efcfe'"
      ]
     },
     "execution_count": 12,
     "metadata": {},
     "output_type": "execute_result"
    }
   ],
   "source": [
    "Solution().makeSmallestPalindrome(\"egcfe\")"
   ]
  },
  {
   "attachments": {},
   "cell_type": "markdown",
   "metadata": {},
   "source": [
    "# Q6441"
   ]
  },
  {
   "cell_type": "code",
   "execution_count": 26,
   "metadata": {},
   "outputs": [],
   "source": [
    "class Solution:\n",
    "    def checkEligible(self, sq: str, n: int, pos: int, currS: int) -> bool:\n",
    "        if pos == len(sq):\n",
    "            return currS == n\n",
    "        pos2 = len(sq)-1\n",
    "        while pos <= pos2:\n",
    "            isEligible = self.checkEligible(sq,n,pos2+1,currS + int(sq[pos:pos2+1]))\n",
    "            if isEligible:\n",
    "                return True\n",
    "            pos2 -= 1\n",
    "        return False\n",
    "\n",
    "    def punishmentNumber(self, n: int) -> int:\n",
    "        sum = 0\n",
    "        for i in range(1,n+1):\n",
    "            if self.checkEligible(str(i*i),i,0,0):\n",
    "                sum += i*i\n",
    "        return sum"
   ]
  },
  {
   "cell_type": "code",
   "execution_count": 27,
   "metadata": {},
   "outputs": [
    {
     "data": {
      "text/plain": [
       "182"
      ]
     },
     "execution_count": 27,
     "metadata": {},
     "output_type": "execute_result"
    }
   ],
   "source": [
    "Solution().punishmentNumber(10)"
   ]
  },
  {
   "attachments": {},
   "cell_type": "markdown",
   "metadata": {},
   "source": [
    "# Q6442"
   ]
  },
  {
   "cell_type": "code",
   "execution_count": null,
   "metadata": {},
   "outputs": [],
   "source": [
    "class Solution:\n",
    "    def modifiedGraphEdges(self, n: int, edges: List[List[int]], source: int, destination: int, target: int) -> List[List[int]]:\n",
    "        adjacencyMat = [[-2]*n for _ in range(n)]\n",
    "        for s,d,w in edges:\n",
    "            adjacencyMat[s][d] = w\n",
    "            adjacencyMat[d][s] = w"
   ]
  }
 ],
 "metadata": {
  "kernelspec": {
   "display_name": "Python 3",
   "language": "python",
   "name": "python3"
  },
  "language_info": {
   "codemirror_mode": {
    "name": "ipython",
    "version": 3
   },
   "file_extension": ".py",
   "mimetype": "text/x-python",
   "name": "python",
   "nbconvert_exporter": "python",
   "pygments_lexer": "ipython3",
   "version": "3.10.6"
  },
  "orig_nbformat": 4
 },
 "nbformat": 4,
 "nbformat_minor": 2
}
