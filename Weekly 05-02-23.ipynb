{
 "cells": [
  {
   "cell_type": "code",
   "execution_count": 3,
   "metadata": {},
   "outputs": [],
   "source": [
    "from typing import *\n",
    "import heapq\n",
    "import math"
   ]
  },
  {
   "attachments": {},
   "cell_type": "markdown",
   "metadata": {},
   "source": [
    "# Q6348"
   ]
  },
  {
   "cell_type": "code",
   "execution_count": 41,
   "metadata": {},
   "outputs": [],
   "source": [
    "class Solution:\n",
    "    def pickGifts(self, gifts: List[int], k: int) -> int:\n",
    "        gifts = [-i for i in gifts]\n",
    "        heapq.heapify(gifts)\n",
    "        for i in range(k):\n",
    "            pile = -heapq.heappop(gifts)\n",
    "            print(pile)\n",
    "            pile = math.sqrt(pile)\n",
    "            pile = math.floor(pile)\n",
    "            heapq.heappush(gifts,-pile)\n",
    "        return -sum(gifts)"
   ]
  },
  {
   "cell_type": "code",
   "execution_count": 42,
   "metadata": {},
   "outputs": [
    {
     "name": "stdout",
     "output_type": "stream",
     "text": [
      "100\n",
      "64\n",
      "25\n",
      "10\n"
     ]
    },
    {
     "data": {
      "text/plain": [
       "29"
      ]
     },
     "execution_count": 42,
     "metadata": {},
     "output_type": "execute_result"
    }
   ],
   "source": [
    "Solution().pickGifts([25,64,9,4,100],4)"
   ]
  },
  {
   "attachments": {},
   "cell_type": "markdown",
   "metadata": {},
   "source": [
    "# Q6347"
   ]
  },
  {
   "cell_type": "code",
   "execution_count": 53,
   "metadata": {},
   "outputs": [],
   "source": [
    "class Solution:\n",
    "    def vowelStrings(self, words: List[str], queries: List[List[int]]) -> List[int]:\n",
    "        prefixCount = [0]\n",
    "        vowels = {'a','e','i','o','u'}\n",
    "        for word in words:\n",
    "            if word[0] in vowels and word[-1] in vowels:\n",
    "                prefixCount.append(prefixCount[-1]+1)\n",
    "            else:\n",
    "                prefixCount.append(prefixCount[-1])\n",
    "        res = []\n",
    "        for query in queries:\n",
    "            res.append(prefixCount[query[1]+1]-prefixCount[query[0]])\n",
    "        return res"
   ]
  },
  {
   "cell_type": "code",
   "execution_count": 54,
   "metadata": {},
   "outputs": [
    {
     "data": {
      "text/plain": [
       "[2, 3, 0]"
      ]
     },
     "execution_count": 54,
     "metadata": {},
     "output_type": "execute_result"
    }
   ],
   "source": [
    "Solution().vowelStrings([\"aba\",\"bcb\",\"ece\",\"aa\",\"e\"],[[0,2],[1,4],[1,1]])"
   ]
  },
  {
   "attachments": {},
   "cell_type": "markdown",
   "metadata": {},
   "source": [
    "# Q6346"
   ]
  },
  {
   "cell_type": "code",
   "execution_count": 63,
   "metadata": {},
   "outputs": [],
   "source": [
    "class Solution:\n",
    "    def minCapability(self, nums: List[int], k: int) -> int:\n",
    "        memo = dict()\n",
    "        n = len(nums)\n",
    "        def main(start, k, arr=[]):\n",
    "            if start >= n:\n",
    "                return arr\n",
    "            if start == n-1:\n",
    "                if k < 2:\n",
    "                    return arr+[nums[start]]\n",
    "                return arr\n",
    "            maxm = nums[start]\n",
    "            for idx in range(start+2, n):\n",
    "                maxm = max(main(idx, k-1, arr+[nums[start]]))\n",
    "            return maxm\n",
    "        minm = float('inf')\n",
    "        for idx in range(n):\n",
    "            print(main(idx,k))\n",
    "            minm = min(minm, main(idx, k))\n",
    "        return minm"
   ]
  },
  {
   "cell_type": "code",
   "execution_count": 64,
   "metadata": {},
   "outputs": [
    {
     "ename": "TypeError",
     "evalue": "'int' object is not iterable",
     "output_type": "error",
     "traceback": [
      "\u001b[1;31m---------------------------------------------------------------------------\u001b[0m",
      "\u001b[1;31mTypeError\u001b[0m                                 Traceback (most recent call last)",
      "\u001b[1;32mc:\\Users\\manan\\OneDrive\\Desktop\\Practice Projects\\Leetcode contests\\Weekly 05-02-23.ipynb Cell 10\u001b[0m in \u001b[0;36m<cell line: 1>\u001b[1;34m()\u001b[0m\n\u001b[1;32m----> <a href='vscode-notebook-cell:/c%3A/Users/manan/OneDrive/Desktop/Practice%20Projects/Leetcode%20contests/Weekly%2005-02-23.ipynb#X15sZmlsZQ%3D%3D?line=0'>1</a>\u001b[0m Solution()\u001b[39m.\u001b[39;49mminCapability([\u001b[39m2\u001b[39;49m,\u001b[39m3\u001b[39;49m,\u001b[39m5\u001b[39;49m,\u001b[39m9\u001b[39;49m],\u001b[39m2\u001b[39;49m)\n",
      "\u001b[1;32mc:\\Users\\manan\\OneDrive\\Desktop\\Practice Projects\\Leetcode contests\\Weekly 05-02-23.ipynb Cell 10\u001b[0m in \u001b[0;36mSolution.minCapability\u001b[1;34m(self, nums, k)\u001b[0m\n\u001b[0;32m     <a href='vscode-notebook-cell:/c%3A/Users/manan/OneDrive/Desktop/Practice%20Projects/Leetcode%20contests/Weekly%2005-02-23.ipynb#X15sZmlsZQ%3D%3D?line=15'>16</a>\u001b[0m minm \u001b[39m=\u001b[39m \u001b[39mfloat\u001b[39m(\u001b[39m'\u001b[39m\u001b[39minf\u001b[39m\u001b[39m'\u001b[39m)\n\u001b[0;32m     <a href='vscode-notebook-cell:/c%3A/Users/manan/OneDrive/Desktop/Practice%20Projects/Leetcode%20contests/Weekly%2005-02-23.ipynb#X15sZmlsZQ%3D%3D?line=16'>17</a>\u001b[0m \u001b[39mfor\u001b[39;00m idx \u001b[39min\u001b[39;00m \u001b[39mrange\u001b[39m(n):\n\u001b[1;32m---> <a href='vscode-notebook-cell:/c%3A/Users/manan/OneDrive/Desktop/Practice%20Projects/Leetcode%20contests/Weekly%2005-02-23.ipynb#X15sZmlsZQ%3D%3D?line=17'>18</a>\u001b[0m     \u001b[39mprint\u001b[39m(main(idx,k))\n\u001b[0;32m     <a href='vscode-notebook-cell:/c%3A/Users/manan/OneDrive/Desktop/Practice%20Projects/Leetcode%20contests/Weekly%2005-02-23.ipynb#X15sZmlsZQ%3D%3D?line=18'>19</a>\u001b[0m     minm \u001b[39m=\u001b[39m \u001b[39mmin\u001b[39m(minm, main(idx, k))\n\u001b[0;32m     <a href='vscode-notebook-cell:/c%3A/Users/manan/OneDrive/Desktop/Practice%20Projects/Leetcode%20contests/Weekly%2005-02-23.ipynb#X15sZmlsZQ%3D%3D?line=19'>20</a>\u001b[0m \u001b[39mreturn\u001b[39;00m minm\n",
      "\u001b[1;32mc:\\Users\\manan\\OneDrive\\Desktop\\Practice Projects\\Leetcode contests\\Weekly 05-02-23.ipynb Cell 10\u001b[0m in \u001b[0;36mSolution.minCapability.<locals>.main\u001b[1;34m(start, k, arr)\u001b[0m\n\u001b[0;32m     <a href='vscode-notebook-cell:/c%3A/Users/manan/OneDrive/Desktop/Practice%20Projects/Leetcode%20contests/Weekly%2005-02-23.ipynb#X15sZmlsZQ%3D%3D?line=11'>12</a>\u001b[0m maxm \u001b[39m=\u001b[39m nums[start]\n\u001b[0;32m     <a href='vscode-notebook-cell:/c%3A/Users/manan/OneDrive/Desktop/Practice%20Projects/Leetcode%20contests/Weekly%2005-02-23.ipynb#X15sZmlsZQ%3D%3D?line=12'>13</a>\u001b[0m \u001b[39mfor\u001b[39;00m idx \u001b[39min\u001b[39;00m \u001b[39mrange\u001b[39m(start\u001b[39m+\u001b[39m\u001b[39m2\u001b[39m, n):\n\u001b[1;32m---> <a href='vscode-notebook-cell:/c%3A/Users/manan/OneDrive/Desktop/Practice%20Projects/Leetcode%20contests/Weekly%2005-02-23.ipynb#X15sZmlsZQ%3D%3D?line=13'>14</a>\u001b[0m     maxm \u001b[39m=\u001b[39m \u001b[39mmax\u001b[39;49m(main(idx, k\u001b[39m-\u001b[39;49m\u001b[39m1\u001b[39;49m, arr\u001b[39m+\u001b[39;49m[nums[start]]))\n\u001b[0;32m     <a href='vscode-notebook-cell:/c%3A/Users/manan/OneDrive/Desktop/Practice%20Projects/Leetcode%20contests/Weekly%2005-02-23.ipynb#X15sZmlsZQ%3D%3D?line=14'>15</a>\u001b[0m \u001b[39mreturn\u001b[39;00m maxm\n",
      "\u001b[1;31mTypeError\u001b[0m: 'int' object is not iterable"
     ]
    }
   ],
   "source": [
    "Solution().minCapability([2,3,5,9],2)"
   ]
  }
 ],
 "metadata": {
  "kernelspec": {
   "display_name": "Python 3",
   "language": "python",
   "name": "python3"
  },
  "language_info": {
   "codemirror_mode": {
    "name": "ipython",
    "version": 3
   },
   "file_extension": ".py",
   "mimetype": "text/x-python",
   "name": "python",
   "nbconvert_exporter": "python",
   "pygments_lexer": "ipython3",
   "version": "3.10.6"
  },
  "orig_nbformat": 4,
  "vscode": {
   "interpreter": {
    "hash": "f15627b29e15848638e903c52dd09ae6c4c9adb1719aae45dda3850ec7954c19"
   }
  }
 },
 "nbformat": 4,
 "nbformat_minor": 2
}
