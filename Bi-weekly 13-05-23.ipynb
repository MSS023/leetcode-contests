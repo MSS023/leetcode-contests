{
 "cells": [
  {
   "cell_type": "code",
   "execution_count": 1,
   "metadata": {},
   "outputs": [],
   "source": [
    "from typing import *"
   ]
  },
  {
   "attachments": {},
   "cell_type": "markdown",
   "metadata": {},
   "source": [
    "# Q6366"
   ]
  },
  {
   "cell_type": "code",
   "execution_count": 5,
   "metadata": {},
   "outputs": [],
   "source": [
    "class Details:\n",
    "\n",
    "    def __init__(self, detailString):\n",
    "        self.phoneNumber = int(detailString[:10])\n",
    "        self.gender = detailString[10]\n",
    "        self.age = int(detailString[11:13])\n",
    "        self.seatAlloted = detailString[13:]\n",
    "\n",
    "\n",
    "class Solution:\n",
    "    def countSeniors(self, details: List[str]) -> int:\n",
    "        passengerDetails = [Details(detail) for detail in details]\n",
    "        ageGt60Count = 0\n",
    "        for detail in passengerDetails:\n",
    "            if detail.age > 60:\n",
    "                ageGt60Count += 1\n",
    "        return ageGt60Count"
   ]
  },
  {
   "cell_type": "code",
   "execution_count": 6,
   "metadata": {},
   "outputs": [
    {
     "data": {
      "text/plain": [
       "2"
      ]
     },
     "execution_count": 6,
     "metadata": {},
     "output_type": "execute_result"
    }
   ],
   "source": [
    "Solution().countSeniors([\"7868190130M7522\",\"5303914400F9211\",\"9273338290F4010\"])"
   ]
  },
  {
   "attachments": {},
   "cell_type": "markdown",
   "metadata": {},
   "source": [
    "# Q6367"
   ]
  },
  {
   "cell_type": "code",
   "execution_count": 8,
   "metadata": {},
   "outputs": [],
   "source": [
    "class Solution:\n",
    "    def matrixSum(self, nums: List[List[int]]) -> int:\n",
    "        for row in nums:\n",
    "            row.sort()\n",
    "        score = 0\n",
    "        n = len(nums[0]) if len(nums) > 0 else 0\n",
    "        for _ in range(n):\n",
    "            maxm = 0\n",
    "            for row in nums:\n",
    "                maxm = max(row.pop(), maxm)\n",
    "            score += maxm\n",
    "        return score"
   ]
  },
  {
   "cell_type": "code",
   "execution_count": 10,
   "metadata": {},
   "outputs": [
    {
     "data": {
      "text/plain": [
       "1"
      ]
     },
     "execution_count": 10,
     "metadata": {},
     "output_type": "execute_result"
    }
   ],
   "source": [
    "Solution().matrixSum([[1]])"
   ]
  },
  {
   "attachments": {},
   "cell_type": "markdown",
   "metadata": {},
   "source": [
    "# Q6423"
   ]
  },
  {
   "cell_type": "code",
   "execution_count": 21,
   "metadata": {},
   "outputs": [],
   "source": [
    "class Solution:\n",
    "    def sumOfPower(self, nums: List[int]) -> int:\n",
    "        MOD = 7 + 10**9\n",
    "        nums.sort()\n",
    "        prefixSum = [0, 0]\n",
    "        for num in nums:\n",
    "            prefixSum.append(prefixSum[-2]+prefixSum[-1]+num)\n",
    "        prefixSum = prefixSum[2:]\n",
    "        n = len(nums)\n",
    "        score = 0\n",
    "        for idx in range(n):\n",
    "            score += nums[idx]**2 * prefixSum[idx]\n",
    "        return score % MOD\n"
   ]
  },
  {
   "cell_type": "code",
   "execution_count": 22,
   "metadata": {},
   "outputs": [
    {
     "data": {
      "text/plain": [
       "17175507"
      ]
     },
     "execution_count": 22,
     "metadata": {},
     "output_type": "execute_result"
    }
   ],
   "source": [
    "Solution().sumOfPower([76,24,96,82,97])"
   ]
  }
 ],
 "metadata": {
  "kernelspec": {
   "display_name": "Python 3",
   "language": "python",
   "name": "python3"
  },
  "language_info": {
   "codemirror_mode": {
    "name": "ipython",
    "version": 3
   },
   "file_extension": ".py",
   "mimetype": "text/x-python",
   "name": "python",
   "nbconvert_exporter": "python",
   "pygments_lexer": "ipython3",
   "version": "3.10.6"
  },
  "orig_nbformat": 4
 },
 "nbformat": 4,
 "nbformat_minor": 2
}
