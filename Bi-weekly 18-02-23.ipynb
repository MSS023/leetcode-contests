{
 "cells": [
  {
   "cell_type": "code",
   "execution_count": 1,
   "metadata": {},
   "outputs": [],
   "source": [
    "from typing import *"
   ]
  },
  {
   "attachments": {},
   "cell_type": "markdown",
   "metadata": {},
   "source": [
    "# Q6359"
   ]
  },
  {
   "cell_type": "code",
   "execution_count": 25,
   "metadata": {},
   "outputs": [],
   "source": [
    "class Solution:\n",
    "    def minMaxDifference(self, num: int) -> int:\n",
    "        numStr = str(num)\n",
    "        n = len(numStr)\n",
    "        passed = {}\n",
    "        maxm = num\n",
    "        minm = float(\"inf\")\n",
    "        for i in numStr:\n",
    "            if i in passed:\n",
    "                continue\n",
    "            passed[i] = True\n",
    "            temp = \"\"\n",
    "            temp2 = \"\"\n",
    "            for idx in range(n):\n",
    "                temp += '9' if numStr[idx] == i else numStr[idx]\n",
    "                temp2 += '0' if numStr[idx] == i else numStr[idx]\n",
    "            maxm = max(int(temp), maxm)\n",
    "            minm = min(int(temp2), minm)\n",
    "        return maxm - minm"
   ]
  },
  {
   "cell_type": "code",
   "execution_count": 26,
   "metadata": {},
   "outputs": [
    {
     "data": {
      "text/plain": [
       "99"
      ]
     },
     "execution_count": 26,
     "metadata": {},
     "output_type": "execute_result"
    }
   ],
   "source": [
    "Solution().minMaxDifference(90)"
   ]
  },
  {
   "attachments": {},
   "cell_type": "markdown",
   "metadata": {},
   "source": [
    "# Q6361"
   ]
  },
  {
   "cell_type": "code",
   "execution_count": 41,
   "metadata": {},
   "outputs": [],
   "source": [
    "class Solution:\n",
    "    def minimizeSum(self, nums: List[int]) -> int:\n",
    "        if len(nums) < 3:\n",
    "            return 0\n",
    "        nums.sort()\n",
    "        s = sorted(set(nums))\n",
    "        if len(s) < 4:\n",
    "            return 0\n",
    "        maxm = nums[-1]\n",
    "        minm = nums[0]\n",
    "        n = len(nums)\n",
    "        count = 1\n",
    "        last = minm\n",
    "        for i in nums:\n",
    "            if i == last:\n",
    "                continue\n",
    "            last = i\n",
    "            count += 1\n",
    "            if count > 2:\n",
    "                break\n",
    "        return min(s[-2] - s[1], s[-1] - last)"
   ]
  },
  {
   "cell_type": "code",
   "execution_count": 42,
   "metadata": {},
   "outputs": [
    {
     "data": {
      "text/plain": [
       "32"
      ]
     },
     "execution_count": 42,
     "metadata": {},
     "output_type": "execute_result"
    }
   ],
   "source": [
    "Solution().minimizeSum([59,27,9,81,33])"
   ]
  },
  {
   "attachments": {},
   "cell_type": "markdown",
   "metadata": {},
   "source": [
    "# Q6360"
   ]
  },
  {
   "cell_type": "code",
   "execution_count": 43,
   "metadata": {},
   "outputs": [],
   "source": [
    "class Solution:\n",
    "    def minImpossibleOR(self, nums: List[int]) -> int:\n",
    "        ored = 0\n",
    "        for i in nums:\n",
    "            ored |= i\n",
    "        temp = 1\n",
    "        for i in range(100):\n",
    "            if temp & ored == 0:\n",
    "                return temp\n",
    "            temp *= 2\n",
    "        return temp"
   ]
  },
  {
   "cell_type": "code",
   "execution_count": 46,
   "metadata": {},
   "outputs": [
    {
     "data": {
      "text/plain": [
       "8"
      ]
     },
     "execution_count": 46,
     "metadata": {},
     "output_type": "execute_result"
    }
   ],
   "source": [
    "Solution().minImpossibleOR([5,3,2])"
   ]
  }
 ],
 "metadata": {
  "kernelspec": {
   "display_name": "Python 3",
   "language": "python",
   "name": "python3"
  },
  "language_info": {
   "codemirror_mode": {
    "name": "ipython",
    "version": 3
   },
   "file_extension": ".py",
   "mimetype": "text/x-python",
   "name": "python",
   "nbconvert_exporter": "python",
   "pygments_lexer": "ipython3",
   "version": "3.10.6"
  },
  "orig_nbformat": 4,
  "vscode": {
   "interpreter": {
    "hash": "f15627b29e15848638e903c52dd09ae6c4c9adb1719aae45dda3850ec7954c19"
   }
  }
 },
 "nbformat": 4,
 "nbformat_minor": 2
}
