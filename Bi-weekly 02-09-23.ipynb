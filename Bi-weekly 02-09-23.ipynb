{
 "cells": [
  {
   "cell_type": "code",
   "execution_count": 8,
   "metadata": {},
   "outputs": [],
   "source": [
    "from typing import *"
   ]
  },
  {
   "cell_type": "markdown",
   "metadata": {},
   "source": [
    "# Q7021"
   ]
  },
  {
   "cell_type": "code",
   "execution_count": 9,
   "metadata": {},
   "outputs": [],
   "source": [
    "class Solution:\n",
    "    def canBeEqual(self, s1: str, s2: str) -> bool:\n",
    "        if s1 == s2:\n",
    "            return True\n",
    "        for idx,ch1 in enumerate(s1):\n",
    "            if s2[idx] == ch1:\n",
    "                continue\n",
    "            foundAtCorrectPst = False\n",
    "            for idx2,ch2 in enumerate(s2):\n",
    "                if ch1 != ch2:\n",
    "                    continue\n",
    "                if abs(idx - idx2) == 2:\n",
    "                    foundAtCorrectPst = True\n",
    "                    break\n",
    "            if not foundAtCorrectPst:\n",
    "                return False\n",
    "        return True"
   ]
  },
  {
   "cell_type": "markdown",
   "metadata": {},
   "source": [
    "# Q7005"
   ]
  },
  {
   "cell_type": "code",
   "execution_count": 21,
   "metadata": {},
   "outputs": [],
   "source": [
    "class Solution:\n",
    "    def checkStrings(self, s1: str, s2: str) -> bool:\n",
    "        def checkEven(num: int) -> bool:\n",
    "            return False if num & 1 else True\n",
    "        \n",
    "        if s1 == s2:\n",
    "            return True\n",
    "        diction1 = {}\n",
    "        diction2 = {}\n",
    "        for idx,(ch1,ch2) in enumerate(zip(s1,s2)):\n",
    "            if ch1 == ch2:\n",
    "                continue\n",
    "            if ch1 in diction1:\n",
    "                diction1[ch1].append(idx)\n",
    "            else:\n",
    "                diction1[ch1] = [idx]\n",
    "            if ch2 in diction2:\n",
    "                diction2[ch2].append(idx)\n",
    "            else:\n",
    "                diction2[ch2] = [idx]\n",
    "        \n",
    "        for ch in diction1:\n",
    "            if ch not in diction2:\n",
    "                return False\n",
    "            idxs1 = diction1[ch]\n",
    "            idxs2 = diction2[ch]\n",
    "            if (len(idxs1)!=len(idxs2)):\n",
    "                return False\n",
    "            for idx1 in idxs1:\n",
    "                found = False\n",
    "                for idx,idx2 in enumerate(idxs2):\n",
    "                    if idx2 == -1:\n",
    "                        continue\n",
    "                    if checkEven(abs(idx1-idx2)):\n",
    "                        found = True\n",
    "                        idxs2[idx] = -1\n",
    "                        break\n",
    "                if not found:\n",
    "                    return False\n",
    "        return True"
   ]
  },
  {
   "cell_type": "code",
   "execution_count": 22,
   "metadata": {},
   "outputs": [
    {
     "data": {
      "text/plain": [
       "False"
      ]
     },
     "execution_count": 22,
     "metadata": {},
     "output_type": "execute_result"
    }
   ],
   "source": [
    "Solution().checkStrings(\"abe\",\"bea\")"
   ]
  }
 ],
 "metadata": {
  "kernelspec": {
   "display_name": "Python 3",
   "language": "python",
   "name": "python3"
  },
  "language_info": {
   "codemirror_mode": {
    "name": "ipython",
    "version": 3
   },
   "file_extension": ".py",
   "mimetype": "text/x-python",
   "name": "python",
   "nbconvert_exporter": "python",
   "pygments_lexer": "ipython3",
   "version": "3.11.4"
  },
  "orig_nbformat": 4
 },
 "nbformat": 4,
 "nbformat_minor": 2
}
