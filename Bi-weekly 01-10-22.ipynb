{
 "cells": [
  {
   "cell_type": "markdown",
   "metadata": {},
   "source": [
    "# Q6212"
   ]
  },
  {
   "cell_type": "code",
   "execution_count": 77,
   "metadata": {},
   "outputs": [],
   "source": [
    "from collections import Counter\n",
    "\n",
    "class Solution:\n",
    "    def equalFrequency(self, word: str) -> bool:\n",
    "        count = Counter(word)\n",
    "        for i in count:\n",
    "            flag = True\n",
    "            freq = count[i] - 1\n",
    "            for j in count:\n",
    "                if j == i:\n",
    "                    continue\n",
    "                if freq == 0:\n",
    "                    freq = count[j]\n",
    "                    continue\n",
    "                if count[j] != freq:\n",
    "                    flag = False\n",
    "                    break\n",
    "            if flag:\n",
    "                return True\n",
    "        return False\n"
   ]
  },
  {
   "cell_type": "code",
   "execution_count": 78,
   "metadata": {},
   "outputs": [
    {
     "data": {
      "text/plain": [
       "False"
      ]
     },
     "execution_count": 78,
     "metadata": {},
     "output_type": "execute_result"
    }
   ],
   "source": [
    "Solution().equalFrequency(\"ddaccb\")"
   ]
  },
  {
   "cell_type": "markdown",
   "metadata": {},
   "source": [
    "# Q6197"
   ]
  },
  {
   "cell_type": "code",
   "execution_count": 64,
   "metadata": {},
   "outputs": [],
   "source": [
    "class LUPrefix:\n",
    "\n",
    "    def __init__(self, n: int):\n",
    "        self.prefixes = [False for i in range(n+1)]\n",
    "        self.prefixes[0] = True\n",
    "        self.n = n\n",
    "        self.l = 0\n",
    "        \n",
    "\n",
    "    def upload(self, video: int) -> None:\n",
    "        self.prefixes[video] = True\n",
    "        for i in range(self.l+1,self.n+1):\n",
    "            if not self.prefixes[i]:\n",
    "                break\n",
    "            self.l = i\n",
    "\n",
    "        \n",
    "\n",
    "    def longest(self) -> int:\n",
    "        return self.l\n",
    "\n",
    "\n",
    "# Your LUPrefix object will be instantiated and called as such:\n",
    "# obj = LUPrefix(n)\n",
    "# obj.upload(video)\n",
    "# param_2 = obj.longest()"
   ]
  },
  {
   "cell_type": "code",
   "execution_count": 65,
   "metadata": {},
   "outputs": [
    {
     "name": "stdout",
     "output_type": "stream",
     "text": [
      "0\n",
      "1\n",
      "3\n"
     ]
    }
   ],
   "source": [
    "obj = LUPrefix(4)\n",
    "obj.upload(3)\n",
    "print(obj.longest())\n",
    "obj.upload(1)\n",
    "print(obj.longest())\n",
    "obj.upload(2)\n",
    "print(obj.longest())"
   ]
  }
 ],
 "metadata": {
  "kernelspec": {
   "display_name": "Python 3.10.6 64-bit",
   "language": "python",
   "name": "python3"
  },
  "language_info": {
   "codemirror_mode": {
    "name": "ipython",
    "version": 3
   },
   "file_extension": ".py",
   "mimetype": "text/x-python",
   "name": "python",
   "nbconvert_exporter": "python",
   "pygments_lexer": "ipython3",
   "version": "3.10.6"
  },
  "orig_nbformat": 4,
  "vscode": {
   "interpreter": {
    "hash": "f15627b29e15848638e903c52dd09ae6c4c9adb1719aae45dda3850ec7954c19"
   }
  }
 },
 "nbformat": 4,
 "nbformat_minor": 2
}
