{
 "cells": [
  {
   "cell_type": "code",
   "execution_count": 1,
   "metadata": {},
   "outputs": [],
   "source": [
    "from typing import *"
   ]
  },
  {
   "cell_type": "markdown",
   "metadata": {},
   "source": [
    "# Q6208"
   ]
  },
  {
   "cell_type": "code",
   "execution_count": 32,
   "metadata": {},
   "outputs": [],
   "source": [
    "from time import strptime\n",
    "\n",
    "class Solution:\n",
    "    def countTime(self, time: str) -> int:\n",
    "        hr, mn = time.split(\":\")\n",
    "        count = 0\n",
    "        if mn == \"??\":\n",
    "            count = 60\n",
    "        elif mn[0] == \"?\":\n",
    "            count += 6\n",
    "        elif mn[1] == \"?\":\n",
    "            count += 10\n",
    "        if hr == \"??\":\n",
    "            if count > 0:\n",
    "                count *= 24\n",
    "            else:\n",
    "                count += 24\n",
    "        elif hr[1] == \"?\":\n",
    "            if hr[0] == \"2\":\n",
    "                if count > 0:\n",
    "                    count *= 4\n",
    "                else:\n",
    "                    count += 4\n",
    "            else:\n",
    "                if count > 0:\n",
    "                    count *= 10\n",
    "                else:\n",
    "                    count += 10\n",
    "        elif hr[0] == \"?\":\n",
    "            if hr[1] <= \"3\":\n",
    "                if count > 0:\n",
    "                    count *= 3\n",
    "                else:\n",
    "                    count += 3\n",
    "            else:\n",
    "                if count > 0:\n",
    "                    count *= 2\n",
    "                else:\n",
    "                    count += 2\n",
    "        print(count)\n",
    "        return count if count != 0 else 1"
   ]
  },
  {
   "cell_type": "code",
   "execution_count": 33,
   "metadata": {},
   "outputs": [
    {
     "name": "stdout",
     "output_type": "stream",
     "text": [
      "24\n"
     ]
    },
    {
     "data": {
      "text/plain": [
       "24"
      ]
     },
     "execution_count": 33,
     "metadata": {},
     "output_type": "execute_result"
    }
   ],
   "source": [
    "Solution().countTime(\"??:29\")"
   ]
  },
  {
   "cell_type": "markdown",
   "metadata": {},
   "source": [
    "# Q6209"
   ]
  },
  {
   "cell_type": "code",
   "execution_count": 46,
   "metadata": {},
   "outputs": [],
   "source": [
    "class Solution:\n",
    "    def productQueries(self, n: int, queries: List[List[int]]) -> List[int]:\n",
    "        MOD = 7+10**9\n",
    "        s = \"{:0b}\".format(n)\n",
    "        powers = [1]\n",
    "        for idx, i in enumerate(s[::-1]):\n",
    "            if i == \"1\":\n",
    "                powers.append((2**idx)*powers[-1])\n",
    "        powers.pop(0)\n",
    "        res = []\n",
    "        for s,e in queries:\n",
    "            if s == 0:\n",
    "                res.append(powers[e]%MOD)\n",
    "            else:\n",
    "                res.append((powers[e]//powers[s-1])%MOD)\n",
    "        return res"
   ]
  },
  {
   "cell_type": "code",
   "execution_count": 48,
   "metadata": {},
   "outputs": [
    {
     "data": {
      "text/plain": [
       "[2, 4, 64]"
      ]
     },
     "execution_count": 48,
     "metadata": {},
     "output_type": "execute_result"
    }
   ],
   "source": [
    "Solution().productQueries(15,[[0,1],[2,2],[0,3]])"
   ]
  },
  {
   "cell_type": "markdown",
   "metadata": {},
   "source": [
    "# Q6210"
   ]
  },
  {
   "cell_type": "code",
   "execution_count": 66,
   "metadata": {},
   "outputs": [],
   "source": [
    "from math import ceil\n",
    "\n",
    "\n",
    "class Solution:\n",
    "    def minimizeArrayValue(self, nums: List[int]) -> int:\n",
    "        n = len(nums)\n",
    "        arr = [[0,0] for _ in range(n)]\n",
    "        arr[0] = [nums[0],nums[0]]\n",
    "        for i in range(n-1,-1,-1):\n",
    "            arr[i] = max()\n",
    "        return max(arr)"
   ]
  },
  {
   "cell_type": "code",
   "execution_count": 67,
   "metadata": {},
   "outputs": [
    {
     "data": {
      "text/plain": [
       "10"
      ]
     },
     "execution_count": 67,
     "metadata": {},
     "output_type": "execute_result"
    }
   ],
   "source": [
    "Solution().minimizeArrayValue([6,9,3,8,14])"
   ]
  }
 ],
 "metadata": {
  "kernelspec": {
   "display_name": "Python 3.10.6 64-bit",
   "language": "python",
   "name": "python3"
  },
  "language_info": {
   "codemirror_mode": {
    "name": "ipython",
    "version": 3
   },
   "file_extension": ".py",
   "mimetype": "text/x-python",
   "name": "python",
   "nbconvert_exporter": "python",
   "pygments_lexer": "ipython3",
   "version": "3.10.6"
  },
  "orig_nbformat": 4,
  "vscode": {
   "interpreter": {
    "hash": "f15627b29e15848638e903c52dd09ae6c4c9adb1719aae45dda3850ec7954c19"
   }
  }
 },
 "nbformat": 4,
 "nbformat_minor": 2
}
