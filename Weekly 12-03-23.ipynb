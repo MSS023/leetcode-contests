{
 "cells": [
  {
   "cell_type": "code",
   "execution_count": 2,
   "metadata": {},
   "outputs": [],
   "source": [
    "from typing import *"
   ]
  },
  {
   "attachments": {},
   "cell_type": "markdown",
   "metadata": {},
   "source": [
    "# Q6315"
   ]
  },
  {
   "cell_type": "code",
   "execution_count": 5,
   "metadata": {},
   "outputs": [],
   "source": [
    "class Solution:\n",
    "    def vowelStrings(self, words: List[str], left: int, right: int) -> int:\n",
    "        vowels = set(['a','e','i','o','u'])\n",
    "        count = 0\n",
    "        for word in words[left:right+1]:\n",
    "            if word[0] in vowels and word[-1] in vowels:\n",
    "                count += 1\n",
    "        return count"
   ]
  },
  {
   "cell_type": "code",
   "execution_count": 6,
   "metadata": {},
   "outputs": [
    {
     "data": {
      "text/plain": [
       "3"
      ]
     },
     "execution_count": 6,
     "metadata": {},
     "output_type": "execute_result"
    }
   ],
   "source": [
    "Solution().vowelStrings(words = [\"hey\",\"aeo\",\"mu\",\"ooo\",\"artro\"], left = 1, right = 4)"
   ]
  },
  {
   "attachments": {},
   "cell_type": "markdown",
   "metadata": {},
   "source": [
    "# Q6316"
   ]
  },
  {
   "cell_type": "code",
   "execution_count": 11,
   "metadata": {},
   "outputs": [],
   "source": [
    "class Solution:\n",
    "    def maxScore(self, nums: List[int]) -> int:\n",
    "        nums.sort(key = lambda x: 0-x)\n",
    "        prefix = [0]\n",
    "        count = 0\n",
    "        for num in nums:\n",
    "            prefix.append(prefix[-1] + num)\n",
    "            if prefix[-1] > 0:\n",
    "                count += 1\n",
    "        return count"
   ]
  },
  {
   "cell_type": "code",
   "execution_count": 12,
   "metadata": {},
   "outputs": [
    {
     "data": {
      "text/plain": [
       "6"
      ]
     },
     "execution_count": 12,
     "metadata": {},
     "output_type": "execute_result"
    }
   ],
   "source": [
    "Solution().maxScore(nums = [2,-1,0,1,-3,3,-3])"
   ]
  },
  {
   "attachments": {},
   "cell_type": "markdown",
   "metadata": {},
   "source": [
    "# Q6317"
   ]
  },
  {
   "cell_type": "code",
   "execution_count": null,
   "metadata": {},
   "outputs": [],
   "source": [
    "class Node:\n",
    "    def getSetBits(self, num: int) -> List[int]:\n",
    "        bits = []\n",
    "        for i in range(4*8):\n",
    "            if (num & (1 << i)):\n",
    "                bits.append(1 << i)\n",
    "        return bits\n",
    "\n",
    "    def __init__(self, num: int):\n",
    "        self.bits: Set[int] = set(self.getSetBits(num))\n",
    "        self.setCount: int = len(self.bits)\n",
    "\n",
    "\n",
    "class Stack:\n",
    "    def __init__(self, nums: List[int]):\n",
    "        self.stack: List[Node] = []\n",
    "        for num in nums:\n",
    "            self.stack.append(Node(num))\n",
    "\n",
    "\n",
    "class Solution:\n",
    "    def beautifulSubarrays(self, nums: List[int]) -> int:\n",
    "        stack = Stack(nums).stack\n",
    "        "
   ]
  }
 ],
 "metadata": {
  "kernelspec": {
   "display_name": "Python 3",
   "language": "python",
   "name": "python3"
  },
  "language_info": {
   "codemirror_mode": {
    "name": "ipython",
    "version": 3
   },
   "file_extension": ".py",
   "mimetype": "text/x-python",
   "name": "python",
   "nbconvert_exporter": "python",
   "pygments_lexer": "ipython3",
   "version": "3.10.6"
  },
  "orig_nbformat": 4
 },
 "nbformat": 4,
 "nbformat_minor": 2
}
