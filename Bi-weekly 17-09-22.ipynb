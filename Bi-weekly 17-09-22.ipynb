{
 "cells": [
  {
   "cell_type": "markdown",
   "metadata": {},
   "source": [
    "# q6184"
   ]
  },
  {
   "cell_type": "code",
   "execution_count": 16,
   "metadata": {},
   "outputs": [],
   "source": [
    "class Solution:\n",
    "    def countDaysTogether(self, arriveAlice: str, leaveAlice: str, arriveBob: str, leaveBob: str) -> int:\n",
    "        monthDays = [31,28,31,30,31,30,31,31,30,31,30,31]\n",
    "        alice = [[int(x) for x in date.split(\"-\")] for date in [arriveAlice, leaveAlice]]\n",
    "        bob = [[int(x) for x in date.split(\"-\")] for date in [arriveBob, leaveBob]]\n",
    "        arrive = max(alice[0], bob[0])\n",
    "        end = min(alice[1], bob[1])\n",
    "        if end < arrive:\n",
    "            return 0\n",
    "        days = 0\n",
    "        start = arrive[1]\n",
    "        for i in range(arrive[0], end[0]):\n",
    "            days += monthDays[i-1] - start + 1\n",
    "            start = 1\n",
    "        if arrive[0] == end[0]:\n",
    "            days -= arrive[1] - 1\n",
    "        days += end[1]\n",
    "        return days"
   ]
  },
  {
   "cell_type": "code",
   "execution_count": 17,
   "metadata": {},
   "outputs": [
    {
     "data": {
      "text/plain": [
       "0"
      ]
     },
     "execution_count": 17,
     "metadata": {},
     "output_type": "execute_result"
    }
   ],
   "source": [
    "Solution().countDaysTogether(arriveAlice = \"10-01\", leaveAlice = \"10-31\", arriveBob = \"11-01\", leaveBob = \"12-31\")"
   ]
  },
  {
   "cell_type": "markdown",
   "metadata": {},
   "source": [
    "# q6185"
   ]
  },
  {
   "cell_type": "code",
   "execution_count": 20,
   "metadata": {},
   "outputs": [],
   "source": [
    "from typing import *\n",
    "\n",
    "class Solution:\n",
    "    def matchPlayersAndTrainers(self, players: List[int], trainers: List[int]) -> int:\n",
    "        players.sort()\n",
    "        trainers.sort()\n",
    "        count = 0\n",
    "        ptr1 = 0\n",
    "        ptr2 = 0\n",
    "        while ptr1 < len(players) and ptr2 < len(trainers):\n",
    "            if players[ptr1] <= trainers[ptr2]:\n",
    "                count += 1\n",
    "                ptr1 += 1\n",
    "                ptr2 += 1\n",
    "                continue\n",
    "            ptr2 += 1\n",
    "        return count"
   ]
  },
  {
   "cell_type": "code",
   "execution_count": 22,
   "metadata": {},
   "outputs": [
    {
     "data": {
      "text/plain": [
       "1"
      ]
     },
     "execution_count": 22,
     "metadata": {},
     "output_type": "execute_result"
    }
   ],
   "source": [
    "Solution().matchPlayersAndTrainers([1,1,1],[10])"
   ]
  },
  {
   "cell_type": "markdown",
   "metadata": {},
   "source": [
    "# q6186"
   ]
  },
  {
   "cell_type": "code",
   "execution_count": 97,
   "metadata": {},
   "outputs": [],
   "source": [
    "class Solution:\n",
    "    def smallestSubarrays(self, nums: List[int]) -> List[int]:\n",
    "        dp = [[] for _ in nums]\n",
    "        n = len(nums)\n",
    "        dp[-1].append((n-1,nums[-1]))\n",
    "        res = [1]\n",
    "        for i in range(n-2,-1,-1):\n",
    "            dp[i].append((i, nums[i]))\n",
    "            for idx2,(idx,j) in enumerate(dp[i+1]):\n",
    "                if idx2 > 0 and dp[i+1][idx2-1][1] == j:\n",
    "                    break\n",
    "                if dp[i][-1][1] < j | nums[i]:\n",
    "                    dp[i].append((idx, j | nums[i]))\n",
    "            res.insert(0,dp[i][-1][0] - i + 1)\n",
    "        return res"
   ]
  },
  {
   "cell_type": "code",
   "execution_count": 98,
   "metadata": {},
   "outputs": [
    {
     "data": {
      "text/plain": [
       "[3, 3, 2, 2, 1]"
      ]
     },
     "execution_count": 98,
     "metadata": {},
     "output_type": "execute_result"
    }
   ],
   "source": [
    "Solution().smallestSubarrays([1,0,2,1,3])"
   ]
  },
  {
   "cell_type": "markdown",
   "metadata": {},
   "source": [
    "# q6187"
   ]
  },
  {
   "cell_type": "code",
   "execution_count": 116,
   "metadata": {},
   "outputs": [],
   "source": [
    "class Solution:\n",
    "    def minimumMoney(self, transactions: List[List[int]]) -> int:\n",
    "        transactions.sort(key = lambda x: (x[1]-x[0], -x[0]))\n",
    "        minCost = transactions[0][0]\n",
    "        money = minCost\n",
    "        n = len(transactions)\n",
    "        for i in range(n):\n",
    "            if transactions[i][0] < money:\n",
    "                minCost += transactions[i][0] - money\n",
    "                money = transactions[i][0]\n",
    "            money += transactions[i][1] - transactions[i][0]\n",
    "        return minCost"
   ]
  },
  {
   "cell_type": "code",
   "execution_count": 119,
   "metadata": {},
   "outputs": [
    {
     "data": {
      "text/plain": [
       "5"
      ]
     },
     "execution_count": 119,
     "metadata": {},
     "output_type": "execute_result"
    }
   ],
   "source": [
    "Solution().minimumMoney([[2,1],[5,0],[4,2]])"
   ]
  }
 ],
 "metadata": {
  "kernelspec": {
   "display_name": "Python 3.10.6 64-bit",
   "language": "python",
   "name": "python3"
  },
  "language_info": {
   "codemirror_mode": {
    "name": "ipython",
    "version": 3
   },
   "file_extension": ".py",
   "mimetype": "text/x-python",
   "name": "python",
   "nbconvert_exporter": "python",
   "pygments_lexer": "ipython3",
   "version": "3.10.6"
  },
  "orig_nbformat": 4,
  "vscode": {
   "interpreter": {
    "hash": "f15627b29e15848638e903c52dd09ae6c4c9adb1719aae45dda3850ec7954c19"
   }
  }
 },
 "nbformat": 4,
 "nbformat_minor": 2
}
