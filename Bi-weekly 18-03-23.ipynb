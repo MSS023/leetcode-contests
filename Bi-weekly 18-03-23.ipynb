{
 "cells": [
  {
   "cell_type": "code",
   "execution_count": 2,
   "metadata": {},
   "outputs": [],
   "source": [
    "from typing import *"
   ]
  },
  {
   "attachments": {},
   "cell_type": "markdown",
   "metadata": {},
   "source": [
    "# Q6232"
   ]
  },
  {
   "cell_type": "code",
   "execution_count": 41,
   "metadata": {},
   "outputs": [],
   "source": [
    "class Solution:\n",
    "    def distMoney(self, money: int, children: int) -> int:\n",
    "        if money < children:\n",
    "            return -1\n",
    "        if money == children:\n",
    "            return 0\n",
    "        money -= children\n",
    "        count = 0\n",
    "        while money > 6 and count < children:\n",
    "            money -= 7\n",
    "            count += 1\n",
    "        if count == children and money > 0:\n",
    "            return count - 1\n",
    "        if count == children-1 and money == 3:\n",
    "            return count - 1\n",
    "        return count"
   ]
  },
  {
   "cell_type": "code",
   "execution_count": 43,
   "metadata": {},
   "outputs": [
    {
     "data": {
      "text/plain": [
       "0"
      ]
     },
     "execution_count": 43,
     "metadata": {},
     "output_type": "execute_result"
    }
   ],
   "source": [
    "Solution().distMoney(5,2)"
   ]
  },
  {
   "attachments": {},
   "cell_type": "markdown",
   "metadata": {},
   "source": [
    "# Q6324"
   ]
  },
  {
   "cell_type": "code",
   "execution_count": 34,
   "metadata": {},
   "outputs": [],
   "source": [
    "class Solution:\n",
    "    def maximizeGreatness(self, nums: List[int]) -> int:\n",
    "        nums.sort(reverse=True)\n",
    "        perm = nums.copy()\n",
    "        nums.pop(0)\n",
    "        count = 0\n",
    "        while nums and perm:\n",
    "            if nums[0] < perm[0]:\n",
    "                count += 1\n",
    "                perm.pop(0)\n",
    "                nums.pop(0)\n",
    "            else:\n",
    "                nums.pop(0)\n",
    "        return count"
   ]
  },
  {
   "cell_type": "code",
   "execution_count": 36,
   "metadata": {},
   "outputs": [
    {
     "data": {
      "text/plain": [
       "0"
      ]
     },
     "execution_count": 36,
     "metadata": {},
     "output_type": "execute_result"
    }
   ],
   "source": [
    "Solution().maximizeGreatness([21])"
   ]
  },
  {
   "attachments": {},
   "cell_type": "markdown",
   "metadata": {},
   "source": [
    "# Q6351"
   ]
  },
  {
   "cell_type": "code",
   "execution_count": 37,
   "metadata": {},
   "outputs": [],
   "source": [
    "class Node:\n",
    "    def __init__(self, num, idx, marked=False):\n",
    "        self.val = num\n",
    "        self.marked = marked\n",
    "        self.idx = idx\n",
    "\n",
    "\n",
    "class Solution:\n",
    "    def findScore(self, nums: List[int]) -> int:\n",
    "        orig = [Node(x, idx) for idx, x in enumerate(nums)]\n",
    "        vals = sorted(orig, key=lambda x: x.val)\n",
    "        score = 0\n",
    "        for node in vals:\n",
    "            if node.marked:\n",
    "                continue\n",
    "            score += node.val\n",
    "            node.marked = True\n",
    "            idx = node.idx\n",
    "            if idx > 0:\n",
    "                orig[idx-1].marked = True\n",
    "            if idx < len(nums) - 1:\n",
    "                orig[idx+1].marked = True\n",
    "        return score"
   ]
  },
  {
   "cell_type": "code",
   "execution_count": 38,
   "metadata": {},
   "outputs": [
    {
     "data": {
      "text/plain": [
       "7"
      ]
     },
     "execution_count": 38,
     "metadata": {},
     "output_type": "execute_result"
    }
   ],
   "source": [
    "Solution().findScore([2,1,3,4,5,2])"
   ]
  }
 ],
 "metadata": {
  "kernelspec": {
   "display_name": "Python 3",
   "language": "python",
   "name": "python3"
  },
  "language_info": {
   "codemirror_mode": {
    "name": "ipython",
    "version": 3
   },
   "file_extension": ".py",
   "mimetype": "text/x-python",
   "name": "python",
   "nbconvert_exporter": "python",
   "pygments_lexer": "ipython3",
   "version": "3.10.6"
  },
  "orig_nbformat": 4
 },
 "nbformat": 4,
 "nbformat_minor": 2
}
