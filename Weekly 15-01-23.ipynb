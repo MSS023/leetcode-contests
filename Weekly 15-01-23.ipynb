{
 "cells": [
  {
   "cell_type": "code",
   "execution_count": 1,
   "metadata": {},
   "outputs": [],
   "source": [
    "from typing import *"
   ]
  },
  {
   "attachments": {},
   "cell_type": "markdown",
   "metadata": {},
   "source": [
    "# Q6291"
   ]
  },
  {
   "cell_type": "code",
   "execution_count": 7,
   "metadata": {},
   "outputs": [],
   "source": [
    "class Solution:\n",
    "    def differenceOfSum(self, nums: List[int]) -> int:\n",
    "        elemSum = 0\n",
    "        digitSum = 0\n",
    "        for num in nums:\n",
    "            elemSum += num\n",
    "            while num > 0:\n",
    "                digitSum += num % 10\n",
    "                num //= 10\n",
    "        return abs(elemSum - digitSum)"
   ]
  },
  {
   "cell_type": "code",
   "execution_count": 9,
   "metadata": {},
   "outputs": [
    {
     "data": {
      "text/plain": [
       "0"
      ]
     },
     "execution_count": 9,
     "metadata": {},
     "output_type": "execute_result"
    }
   ],
   "source": [
    "Solution().differenceOfSum([1,2,3,4])"
   ]
  },
  {
   "attachments": {},
   "cell_type": "markdown",
   "metadata": {},
   "source": [
    "# Q6292"
   ]
  },
  {
   "cell_type": "code",
   "execution_count": 34,
   "metadata": {},
   "outputs": [],
   "source": [
    "class Solution:\n",
    "    def rangeAddQueries(self, n: int, queries: List[List[int]]) -> List[List[int]]:\n",
    "        res = [[0]*n for _ in range(n)]\n",
    "        for r in range(n):\n",
    "            for c in range(n):\n",
    "                inc = 0\n",
    "                for query in queries:\n",
    "                    if r >= query[0] and r <= query[2] and c >= query[1] and c <= query[3]:\n",
    "                        inc += 1\n",
    "                res[r][c] += inc\n",
    "        return res"
   ]
  },
  {
   "cell_type": "code",
   "execution_count": 36,
   "metadata": {},
   "outputs": [
    {
     "name": "stdout",
     "output_type": "stream",
     "text": [
      "1 1 0\n",
      "1 2 1\n",
      "0 1 1\n"
     ]
    }
   ],
   "source": [
    "ans = Solution().rangeAddQueries(3,[[1,1,2,2],[0,0,1,1]])\n",
    "for row in ans:\n",
    "    print(*row)"
   ]
  }
 ],
 "metadata": {
  "kernelspec": {
   "display_name": "Python 3",
   "language": "python",
   "name": "python3"
  },
  "language_info": {
   "codemirror_mode": {
    "name": "ipython",
    "version": 3
   },
   "file_extension": ".py",
   "mimetype": "text/x-python",
   "name": "python",
   "nbconvert_exporter": "python",
   "pygments_lexer": "ipython3",
   "version": "3.10.6"
  },
  "orig_nbformat": 4,
  "vscode": {
   "interpreter": {
    "hash": "f15627b29e15848638e903c52dd09ae6c4c9adb1719aae45dda3850ec7954c19"
   }
  }
 },
 "nbformat": 4,
 "nbformat_minor": 2
}
