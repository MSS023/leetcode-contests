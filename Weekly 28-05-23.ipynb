{
 "cells": [
  {
   "cell_type": "code",
   "execution_count": 1,
   "metadata": {},
   "outputs": [],
   "source": [
    "from typing import *"
   ]
  },
  {
   "attachments": {},
   "cell_type": "markdown",
   "metadata": {},
   "source": [
    "# Q6457"
   ]
  },
  {
   "cell_type": "code",
   "execution_count": 2,
   "metadata": {},
   "outputs": [],
   "source": [
    "class Solution:\n",
    "    def removeTrailingZeros(self, num: str) -> str:\n",
    "        return num.strip('0')"
   ]
  },
  {
   "cell_type": "code",
   "execution_count": 3,
   "metadata": {},
   "outputs": [
    {
     "data": {
      "text/plain": [
       "'510231'"
      ]
     },
     "execution_count": 3,
     "metadata": {},
     "output_type": "execute_result"
    }
   ],
   "source": [
    "Solution().removeTrailingZeros(\"51023100\")"
   ]
  },
  {
   "attachments": {},
   "cell_type": "markdown",
   "metadata": {},
   "source": [
    "# Q6440"
   ]
  },
  {
   "cell_type": "code",
   "execution_count": 4,
   "metadata": {},
   "outputs": [],
   "source": [
    "class Solution:\n",
    "    def differenceOfDistinctValues(self, grid: List[List[int]]) -> List[List[int]]:\n",
    "        def getTopLeftDiagonal(grid: List[List[int]], row: int, col: int) -> Set[int]:\n",
    "            res = set()\n",
    "            diff = 1\n",
    "            while row-diff > -1 and col-diff > -1:\n",
    "                res.add(grid[row-diff][col-diff])\n",
    "                diff += 1\n",
    "            return res\n",
    "        \n",
    "        def getBottomRightDiagonal(grid: List[List[int]], row: int, col: int) -> Set[int]:\n",
    "            res = set()\n",
    "            diff = 1\n",
    "            m,n = len(grid), len(grid[0])\n",
    "            while row+diff < m and col+diff < n:\n",
    "                res.add(grid[row+diff][col+diff])\n",
    "                diff += 1\n",
    "            return res\n",
    "        \n",
    "        m,n = len(grid), len(grid[0])\n",
    "        res = [[0]*n for _ in range(m)]\n",
    "        for ri in range(m):\n",
    "            for ci in range(n):\n",
    "                res[ri][ci] = abs(len(getTopLeftDiagonal(grid,ri,ci))-len(getBottomRightDiagonal(grid,ri,ci)))\n",
    "        return res"
   ]
  },
  {
   "cell_type": "code",
   "execution_count": 6,
   "metadata": {},
   "outputs": [
    {
     "data": {
      "text/plain": [
       "[[0]]"
      ]
     },
     "execution_count": 6,
     "metadata": {},
     "output_type": "execute_result"
    }
   ],
   "source": [
    "Solution().differenceOfDistinctValues([[1]])"
   ]
  },
  {
   "attachments": {},
   "cell_type": "markdown",
   "metadata": {},
   "source": [
    "# Q6455"
   ]
  },
  {
   "cell_type": "code",
   "execution_count": 25,
   "metadata": {},
   "outputs": [],
   "source": [
    "class Solution:\n",
    "    def minimumCost(self, s: str) -> int:\n",
    "        def makeEqual(s: str, target: str) -> int:\n",
    "            n = len(s)\n",
    "            mid = n//2\n",
    "            score = 0\n",
    "            for i in range(mid-1,-1,-1):\n",
    "                ch = s[i]\n",
    "                if ch == target:\n",
    "                    continue\n",
    "                score += i+1\n",
    "                s = bin(~int(s[:i+1],2)).replace('0b','').replace('-','')+s[i+1:]\n",
    "                s = s.ljust(n,'0')\n",
    "            for i in range(mid,n):\n",
    "                ch = s[i]\n",
    "                if ch == target:\n",
    "                    continue\n",
    "                score += n-i\n",
    "                s = s[:i]+bin(~int(s[i:],2)).replace('0b','').replace('-','').ljust(n-i-1,'0')\n",
    "                print(s)\n",
    "            return score\n",
    "        n = len(s)\n",
    "        score = 0\n",
    "        score = min(makeEqual(s,'1'), makeEqual(s,'0'))\n",
    "        return score"
   ]
  },
  {
   "cell_type": "code",
   "execution_count": 26,
   "metadata": {},
   "outputs": [
    {
     "name": "stdout",
     "output_type": "stream",
     "text": [
      "1111\n",
      "00100\n"
     ]
    },
    {
     "data": {
      "text/plain": [
       "2"
      ]
     },
     "execution_count": 26,
     "metadata": {},
     "output_type": "execute_result"
    }
   ],
   "source": [
    "Solution().minimumCost(\"0011\")"
   ]
  },
  {
   "attachments": {},
   "cell_type": "markdown",
   "metadata": {},
   "source": [
    "# Q6456"
   ]
  },
  {
   "cell_type": "code",
   "execution_count": null,
   "metadata": {},
   "outputs": [],
   "source": [
    "class Solution:\n",
    "    def maxIncreasingCells(self, mat: List[List[int]]) -> int:\n",
    "        def recursive(ri,ci):\n",
    "            "
   ]
  }
 ],
 "metadata": {
  "kernelspec": {
   "display_name": "Python 3",
   "language": "python",
   "name": "python3"
  },
  "language_info": {
   "codemirror_mode": {
    "name": "ipython",
    "version": 3
   },
   "file_extension": ".py",
   "mimetype": "text/x-python",
   "name": "python",
   "nbconvert_exporter": "python",
   "pygments_lexer": "ipython3",
   "version": "3.10.6"
  },
  "orig_nbformat": 4
 },
 "nbformat": 4,
 "nbformat_minor": 2
}
