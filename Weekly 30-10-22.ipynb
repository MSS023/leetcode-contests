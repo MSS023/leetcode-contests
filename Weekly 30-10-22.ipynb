{
 "cells": [
  {
   "cell_type": "code",
   "execution_count": 1,
   "metadata": {},
   "outputs": [],
   "source": [
    "from typing import *"
   ]
  },
  {
   "cell_type": "markdown",
   "metadata": {},
   "source": [
    "# Q6220"
   ]
  },
  {
   "cell_type": "code",
   "execution_count": 5,
   "metadata": {},
   "outputs": [],
   "source": [
    "class Solution:\n",
    "    def averageValue(self, nums: List[int]) -> int:\n",
    "        sum = 0\n",
    "        count = 0\n",
    "        for i in nums:\n",
    "            if i%6 != 0:\n",
    "                continue\n",
    "            sum += i\n",
    "            count += 1\n",
    "        if count == 0:\n",
    "            return 0\n",
    "        return sum//count"
   ]
  },
  {
   "cell_type": "code",
   "execution_count": 7,
   "metadata": {},
   "outputs": [
    {
     "data": {
      "text/plain": [
       "0"
      ]
     },
     "execution_count": 7,
     "metadata": {},
     "output_type": "execute_result"
    }
   ],
   "source": [
    "Solution().averageValue([1,2,4,7,10])"
   ]
  },
  {
   "cell_type": "markdown",
   "metadata": {},
   "source": [
    "# Q6221"
   ]
  },
  {
   "cell_type": "code",
   "execution_count": 16,
   "metadata": {},
   "outputs": [],
   "source": [
    "class Solution:\n",
    "    def mostPopularCreator(self, creators: List[str], ids: List[str], views: List[int]) -> List[List[str]]:\n",
    "        creatorsV = {}\n",
    "        creatorsP = {}\n",
    "        maxm = [creators[0]]\n",
    "        n = len(creators)\n",
    "        for idx in range(n):\n",
    "            if creators[idx] in creatorsP:\n",
    "                creatorsP[creators[idx]] += views[idx]\n",
    "                creatorsV[creators[idx]].append([ids[idx],views[idx]])\n",
    "            else:\n",
    "                creatorsP[creators[idx]] = views[idx]\n",
    "                creatorsV[creators[idx]] = [[ids[idx],views[idx]]]\n",
    "            if creatorsP[creators[idx]] > creatorsP[maxm[0]]:\n",
    "                maxm = [creators[idx]]\n",
    "            elif creatorsP[creators[idx]] == creatorsP[maxm[0]]:\n",
    "                maxm.append(creators[idx])\n",
    "        res = []\n",
    "        maxm = set(maxm)\n",
    "        for i in maxm:\n",
    "            res.append([i,min(creatorsV[i], key=lambda x: (-x[1],x[0]))[0]])\n",
    "        return res"
   ]
  },
  {
   "cell_type": "code",
   "execution_count": 18,
   "metadata": {},
   "outputs": [
    {
     "data": {
      "text/plain": [
       "[['alice', 'b']]"
      ]
     },
     "execution_count": 18,
     "metadata": {},
     "output_type": "execute_result"
    }
   ],
   "source": [
    "Solution().mostPopularCreator([\"alice\",\"alice\",\"alice\"],[\"a\",\"b\",\"c\"],[1,2,2])"
   ]
  },
  {
   "cell_type": "markdown",
   "metadata": {},
   "source": [
    "# Q6222"
   ]
  },
  {
   "cell_type": "code",
   "execution_count": null,
   "metadata": {},
   "outputs": [],
   "source": [
    "class Solution:\n",
    "    def makeIntegerBeautiful(self, n: int, target: int) -> int:\n",
    "        "
   ]
  },
  {
   "cell_type": "markdown",
   "metadata": {},
   "source": [
    "# Q6223"
   ]
  },
  {
   "cell_type": "code",
   "execution_count": 19,
   "metadata": {},
   "outputs": [],
   "source": [
    "# Definition for a binary tree node.\n",
    "class TreeNode:\n",
    "    def __init__(self, val=0, left=None, right=None):\n",
    "        self.val = val\n",
    "        self.left = left\n",
    "        self.right = right"
   ]
  },
  {
   "cell_type": "code",
   "execution_count": 21,
   "metadata": {},
   "outputs": [],
   "source": [
    "sys.setrecursionlimit(10**9)\n",
    "\n",
    "class Solution:\n",
    "    def treeQueries(self, root: Optional[TreeNode], queries: List[int]) -> List[int]:\n",
    "        heights = []\n",
    "        subTree = {}\n",
    "        def recursive(node,height):\n",
    "            if height < len(heights):\n",
    "                heights[height].add(node.val)\n",
    "            else:\n",
    "                heights.append(set([node.val]))\n",
    "\n",
    "            subTree[node.val] = set([node.val])\n",
    "            if node.left:\n",
    "                subTree[node.val] = subTree[node.val].union(recursive(node.left,height+1))\n",
    "            if node.right:\n",
    "                subTree[node.val] = subTree[node.val].union(recursive(node.right,height+1))\n",
    "            return subTree[node.val]\n",
    "        recursive(root,0)\n",
    "\n",
    "        res = []\n",
    "        for query in queries:\n",
    "            for i in range(len(heights)-1,-1,-1):\n",
    "                if len(heights[i] - subTree[query]) > 0:\n",
    "                    res.append(i)\n",
    "                    break\n",
    "        return res"
   ]
  },
  {
   "cell_type": "code",
   "execution_count": null,
   "metadata": {},
   "outputs": [],
   "source": []
  }
 ],
 "metadata": {
  "kernelspec": {
   "display_name": "Python 3.10.6 64-bit",
   "language": "python",
   "name": "python3"
  },
  "language_info": {
   "codemirror_mode": {
    "name": "ipython",
    "version": 3
   },
   "file_extension": ".py",
   "mimetype": "text/x-python",
   "name": "python",
   "nbconvert_exporter": "python",
   "pygments_lexer": "ipython3",
   "version": "3.10.6"
  },
  "orig_nbformat": 4,
  "vscode": {
   "interpreter": {
    "hash": "f15627b29e15848638e903c52dd09ae6c4c9adb1719aae45dda3850ec7954c19"
   }
  }
 },
 "nbformat": 4,
 "nbformat_minor": 2
}
