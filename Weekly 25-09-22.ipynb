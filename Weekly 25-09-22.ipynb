{
 "cells": [
  {
   "cell_type": "code",
   "execution_count": 2,
   "metadata": {},
   "outputs": [],
   "source": [
    "from typing import *"
   ]
  },
  {
   "cell_type": "markdown",
   "metadata": {},
   "source": [
    "# Q6188"
   ]
  },
  {
   "cell_type": "code",
   "execution_count": 3,
   "metadata": {},
   "outputs": [],
   "source": [
    "class Solution:\n",
    "    def sortPeople(self, names: List[str], heights: List[int]) -> List[str]:\n",
    "        pair = sorted([(name,height) for name,height in zip(names,heights)],key=lambda x: x[1], reverse = True)\n",
    "        return [ele[0] for ele in pair]"
   ]
  },
  {
   "cell_type": "code",
   "execution_count": 5,
   "metadata": {},
   "outputs": [
    {
     "data": {
      "text/plain": [
       "['Bob', 'Alice', 'Bob']"
      ]
     },
     "execution_count": 5,
     "metadata": {},
     "output_type": "execute_result"
    }
   ],
   "source": [
    "Solution().sortPeople( names = [\"Alice\",\"Bob\",\"Bob\"], heights = [155,185,150])"
   ]
  },
  {
   "cell_type": "markdown",
   "metadata": {},
   "source": [
    "# Q6189"
   ]
  },
  {
   "cell_type": "code",
   "execution_count": null,
   "metadata": {},
   "outputs": [],
   "source": [
    "class Solution:\n",
    "    def longestSubarray(self, nums: List[int]) -> int:\n",
    "        l = 0\n",
    "        r = 1\n",
    "        curr = 1\n",
    "        maxmVal = 0\n",
    "        maxm = 1\n",
    "        for i in nums[1:]:\n",
    "            if curr & i > curr:\n",
    "                curr &= i\n",
    "                r += 1\n",
    "                maxm = r-l\n",
    "                continue\n",
    "            if curr & i == curr:\n",
    "                r += 1\n",
    "                curr &= i\n",
    "                if curr > maxmVal:\n",
    "                    maxmval = curr\n",
    "                    maxm = r-l\n",
    "                elif curr == maxmVal:\n",
    "                    maxm = max(maxm, r-l)\n",
    "            if curr & i < curr:\n",
    "                "
   ]
  },
  {
   "cell_type": "markdown",
   "metadata": {},
   "source": [
    "# Q6190"
   ]
  },
  {
   "cell_type": "code",
   "execution_count": 69,
   "metadata": {},
   "outputs": [],
   "source": [
    "class Solution:\n",
    "    def goodIndices(self, nums: List[int], k: int) -> List[int]:\n",
    "        forward = [1]\n",
    "        for idx in range(1,len(nums)-k):\n",
    "            i = nums[idx]\n",
    "            if nums[idx-1] >= i:\n",
    "                forward.append(forward[-1]+1)\n",
    "            else:\n",
    "                forward.append(1)\n",
    "        backward = [1]\n",
    "        res = []\n",
    "        for idx in range(len(nums)-2,k-1,-1):\n",
    "            i = nums[idx]\n",
    "            if nums[idx+1] >= i:\n",
    "                backward.insert(0,backward[0]+1)\n",
    "            else:\n",
    "                backward.insert(0,1)\n",
    "            if idx>=k and idx<len(nums)-k+1 and forward[idx-1] >= k and backward[1] >= k:\n",
    "                res.insert(0,idx)\n",
    "        print(forward,backward,sep=\"\\n\")\n",
    "        # backward.pop()\n",
    "        # for idx in range(1,len(nums)-1):\n",
    "        #     if forward[idx-1][1] >= k and backward[idx+1][1] >= k:\n",
    "        #         res.append(idx)\n",
    "        return res"
   ]
  },
  {
   "cell_type": "code",
   "execution_count": 70,
   "metadata": {},
   "outputs": [
    {
     "name": "stdout",
     "output_type": "stream",
     "text": [
      "[1, 2, 3, 4, 5, 1]\n",
      "[6, 5, 4, 3, 2, 1]\n"
     ]
    },
    {
     "data": {
      "text/plain": [
       "[4, 5]"
      ]
     },
     "execution_count": 70,
     "metadata": {},
     "output_type": "execute_result"
    }
   ],
   "source": [
    "Solution().goodIndices([878724,201541,179099,98437,35765,327555,475851,598885,849470,943442],4)"
   ]
  },
  {
   "cell_type": "markdown",
   "metadata": {},
   "source": [
    "# Q6191"
   ]
  },
  {
   "cell_type": "code",
   "execution_count": null,
   "metadata": {},
   "outputs": [],
   "source": [
    "class Solution:\n",
    "    def numberOfGoodPaths(self, vals: List[int], edges: List[List[int]]) -> int:\n",
    "        "
   ]
  }
 ],
 "metadata": {
  "kernelspec": {
   "display_name": "Python 3.10.6 64-bit",
   "language": "python",
   "name": "python3"
  },
  "language_info": {
   "codemirror_mode": {
    "name": "ipython",
    "version": 3
   },
   "file_extension": ".py",
   "mimetype": "text/x-python",
   "name": "python",
   "nbconvert_exporter": "python",
   "pygments_lexer": "ipython3",
   "version": "3.10.6"
  },
  "orig_nbformat": 4,
  "vscode": {
   "interpreter": {
    "hash": "f15627b29e15848638e903c52dd09ae6c4c9adb1719aae45dda3850ec7954c19"
   }
  }
 },
 "nbformat": 4,
 "nbformat_minor": 2
}
