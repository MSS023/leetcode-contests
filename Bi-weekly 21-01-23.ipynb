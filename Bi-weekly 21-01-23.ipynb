{
 "cells": [
  {
   "cell_type": "code",
   "execution_count": 1,
   "metadata": {},
   "outputs": [],
   "source": [
    "from typing import *"
   ]
  },
  {
   "attachments": {},
   "cell_type": "markdown",
   "metadata": {},
   "source": [
    "# Q6300"
   ]
  },
  {
   "cell_type": "code",
   "execution_count": 4,
   "metadata": {},
   "outputs": [],
   "source": [
    "class Solution:\n",
    "    def getCommon(self, nums1: List[int], nums2: List[int]) -> int:\n",
    "        idx1 = 0\n",
    "        idx2 = 0\n",
    "        n1, n2 = len(nums1), len(nums2)\n",
    "        while idx1 < n1 and idx2 < n2:\n",
    "            if (nums1[idx1] == nums2[idx2]):\n",
    "                return nums2[idx2]\n",
    "            if(nums1[idx1] > nums2[idx2]):\n",
    "                idx2 += 1\n",
    "            else:\n",
    "                idx1 += 1\n",
    "        return -1"
   ]
  },
  {
   "cell_type": "code",
   "execution_count": 6,
   "metadata": {},
   "outputs": [
    {
     "data": {
      "text/plain": [
       "2"
      ]
     },
     "execution_count": 6,
     "metadata": {},
     "output_type": "execute_result"
    }
   ],
   "source": [
    "Solution().getCommon([1,2,3,6],[2,3,4,5])"
   ]
  },
  {
   "attachments": {},
   "cell_type": "markdown",
   "metadata": {},
   "source": [
    "# Q6275"
   ]
  },
  {
   "cell_type": "code",
   "execution_count": 17,
   "metadata": {},
   "outputs": [],
   "source": [
    "class Solution:\n",
    "    def minOperations(self, nums1: List[int], nums2: List[int], k: int) -> int:\n",
    "        count = 0\n",
    "        count2 = 0\n",
    "        if k == 0:\n",
    "            return 0 if nums1 == nums2 else -1\n",
    "        for idx in range(len(nums1)):\n",
    "            if (nums2[idx] - nums1[idx])%k != 0:\n",
    "                return -1\n",
    "            mod = (nums2[idx] - nums1[idx]) // k\n",
    "            count += mod\n",
    "            count2 += mod if mod > 0 else 0\n",
    "        if count == 0:\n",
    "            return count2\n",
    "        return -1"
   ]
  },
  {
   "cell_type": "code",
   "execution_count": 19,
   "metadata": {},
   "outputs": [
    {
     "data": {
      "text/plain": [
       "-1"
      ]
     },
     "execution_count": 19,
     "metadata": {},
     "output_type": "execute_result"
    }
   ],
   "source": [
    "Solution().minOperations([3,8,5,2],[2,4,1,6],1)"
   ]
  },
  {
   "attachments": {},
   "cell_type": "markdown",
   "metadata": {},
   "source": [
    "# Q6302"
   ]
  },
  {
   "cell_type": "code",
   "execution_count": 21,
   "metadata": {},
   "outputs": [],
   "source": [
    "class Solution:\n",
    "    def maxScore(self, nums1: List[int], nums2: List[int], k: int) -> int:\n",
    "        def findSubSeq(arr, pos, k, curr, sum):\n",
    "            if pos == len(arr):\n",
    "                if len(curr) == k:\n",
    "                    return sum\n",
    "            temp = findSubSeq(arr, pos+1, k, curr, sum)\n",
    "\n",
    "        nums1.sort(reverse=True)\n",
    "        nums2.sort(reverse=True)\n",
    "        n, m = len(nums1), len(nums2)\n",
    "        return sum(nums1[0:k])*min(nums2[0:k])"
   ]
  },
  {
   "cell_type": "code",
   "execution_count": 23,
   "metadata": {},
   "outputs": [
    {
     "data": {
      "text/plain": [
       "16"
      ]
     },
     "execution_count": 23,
     "metadata": {},
     "output_type": "execute_result"
    }
   ],
   "source": [
    "Solution().maxScore([1,3,3,2],[2,1,3,4],3)"
   ]
  },
  {
   "attachments": {},
   "cell_type": "markdown",
   "metadata": {},
   "source": [
    "# Q6301"
   ]
  },
  {
   "cell_type": "code",
   "execution_count": 30,
   "metadata": {},
   "outputs": [],
   "source": [
    "class Solution:\n",
    "    def isReachable(self, targetX: int, targetY: int) -> bool:\n",
    "        def answer(x=1,y=1):\n",
    "            if x == targetX and y == targetY:\n",
    "                return True\n",
    "            if x > targetX or y > targetY:\n",
    "                return False\n",
    "            return answer(2*x,y) or answer(x,2*y) or answer(x+y,y) or answer(x,y+x)\n",
    "        return answer()    "
   ]
  },
  {
   "cell_type": "code",
   "execution_count": 31,
   "metadata": {},
   "outputs": [
    {
     "data": {
      "text/plain": [
       "True"
      ]
     },
     "execution_count": 31,
     "metadata": {},
     "output_type": "execute_result"
    }
   ],
   "source": [
    "Solution().isReachable(4,7)"
   ]
  }
 ],
 "metadata": {
  "kernelspec": {
   "display_name": "Python 3",
   "language": "python",
   "name": "python3"
  },
  "language_info": {
   "codemirror_mode": {
    "name": "ipython",
    "version": 3
   },
   "file_extension": ".py",
   "mimetype": "text/x-python",
   "name": "python",
   "nbconvert_exporter": "python",
   "pygments_lexer": "ipython3",
   "version": "3.10.6"
  },
  "orig_nbformat": 4,
  "vscode": {
   "interpreter": {
    "hash": "f15627b29e15848638e903c52dd09ae6c4c9adb1719aae45dda3850ec7954c19"
   }
  }
 },
 "nbformat": 4,
 "nbformat_minor": 2
}
