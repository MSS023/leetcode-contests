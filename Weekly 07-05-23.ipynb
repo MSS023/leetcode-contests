{
 "cells": [
  {
   "cell_type": "code",
   "execution_count": 1,
   "metadata": {},
   "outputs": [],
   "source": [
    "from typing import *\n"
   ]
  },
  {
   "attachments": {},
   "cell_type": "markdown",
   "metadata": {},
   "source": [
    "# Q6416\n"
   ]
  },
  {
   "cell_type": "code",
   "execution_count": 11,
   "metadata": {},
   "outputs": [],
   "source": [
    "class Solution:\n",
    "    def distinctDifferenceArray(self, nums: List[int]) -> List[int]:\n",
    "        suffix = []\n",
    "        suffixSet = set()\n",
    "        prefix = []\n",
    "        prefixSet = set()\n",
    "        for i, j in zip(nums, nums[::-1]):\n",
    "            prefixSet.add(i)\n",
    "            prefix.append(len(prefixSet))\n",
    "            suffix.append(len(suffixSet))\n",
    "            suffixSet.add(j)\n",
    "        suffix.reverse()\n",
    "        res = [pre-suf for pre, suf in zip(prefix, suffix)]\n",
    "        return res\n"
   ]
  },
  {
   "cell_type": "code",
   "execution_count": 12,
   "metadata": {},
   "outputs": [
    {
     "data": {
      "text/plain": [
       "[-2, -1, 0, 2, 3]"
      ]
     },
     "execution_count": 12,
     "metadata": {},
     "output_type": "execute_result"
    }
   ],
   "source": [
    "Solution().distinctDifferenceArray([3, 2, 3, 4, 2])\n"
   ]
  },
  {
   "attachments": {},
   "cell_type": "markdown",
   "metadata": {},
   "source": [
    "# Q6417\n"
   ]
  },
  {
   "cell_type": "code",
   "execution_count": 30,
   "metadata": {},
   "outputs": [],
   "source": [
    "class FrequencyTracker:\n",
    "\n",
    "    def __init__(self):\n",
    "        self.freq2Num = {}\n",
    "        self.num2Freq = {}\n",
    "\n",
    "    def add(self, number: int) -> None:\n",
    "        if number not in self.num2Freq:\n",
    "            self.num2Freq[number] = 0\n",
    "        self.num2Freq[number] += 1\n",
    "        freq = self.num2Freq[number]\n",
    "        freq2 = freq - 1\n",
    "        if freq not in self.freq2Num:\n",
    "            self.freq2Num[freq] = []\n",
    "        if freq2 > 0:\n",
    "            self.freq2Num[freq2].remove(number)\n",
    "        self.freq2Num[freq].append(number)\n",
    "\n",
    "    def deleteOne(self, number: int) -> None:\n",
    "        if number not in self.num2Freq:\n",
    "            return\n",
    "        freq = self.num2Freq[number]\n",
    "        self.num2Freq[number] -= 1\n",
    "        freq2 = freq - 1\n",
    "        if freq2:\n",
    "            if freq2 not in self.freq2Num:\n",
    "                self.freq2Num[freq2] = []\n",
    "            self.freq2Num[freq2].append(number)\n",
    "        if freq:\n",
    "            self.freq2Num[freq].remove(number)\n",
    "\n",
    "    def hasFrequency(self, frequency: int) -> bool:\n",
    "        if frequency in self.freq2Num and len(self.freq2Num[frequency]) > 0:\n",
    "            return True\n",
    "        return False\n",
    "\n",
    "\n",
    "# Your FrequencyTracker object will be instantiated and called as such:\n",
    "# obj = FrequencyTracker()\n",
    "# obj.add(number)\n",
    "# obj.deleteOne(number)\n",
    "# param_3 = obj.hasFrequency(frequency)\n"
   ]
  },
  {
   "cell_type": "code",
   "execution_count": 31,
   "metadata": {},
   "outputs": [
    {
     "name": "stdout",
     "output_type": "stream",
     "text": [
      "True\n",
      "False\n"
     ]
    }
   ],
   "source": [
    "obj = FrequencyTracker()\n",
    "obj.add(3)\n",
    "obj.add(6)\n",
    "obj.add(2)\n",
    "obj.add(6)\n",
    "obj.deleteOne(6)\n",
    "obj.deleteOne(6)\n",
    "print(obj.hasFrequency(1))\n",
    "print(obj.hasFrequency(2))\n",
    "obj.add(6)\n",
    "obj.add(5)\n",
    "obj.add(1)\n"
   ]
  },
  {
   "attachments": {},
   "cell_type": "markdown",
   "metadata": {},
   "source": [
    "# Q6418\n"
   ]
  },
  {
   "cell_type": "code",
   "execution_count": 54,
   "metadata": {},
   "outputs": [],
   "source": [
    "class Solution:\n",
    "    def colorTheArray(self, n: int, queries: List[List[int]]) -> List[int]:\n",
    "        countAdjacent = [0]\n",
    "        arr = [0]*n\n",
    "        for idx, color in queries:\n",
    "            lastColor = arr[idx]\n",
    "            count = countAdjacent[-1]\n",
    "            arr[idx] = color\n",
    "            if (idx > 0 and arr[idx-1] == arr[idx]):\n",
    "                count += 1\n",
    "            if (idx < n-1 and arr[idx+1] == arr[idx]):\n",
    "                count += 1\n",
    "            if lastColor>0 and (idx > 0 and arr[idx-1] == lastColor):\n",
    "                count -= 1\n",
    "            if lastColor>0 and (idx < n-1 and arr[idx+1] == lastColor):\n",
    "                count -= 1\n",
    "            countAdjacent.append(count)\n",
    "        return countAdjacent[1:]\n"
   ]
  },
  {
   "cell_type": "code",
   "execution_count": 55,
   "metadata": {},
   "outputs": [
    {
     "data": {
      "text/plain": [
       "[0, 1, 1, 0, 2]"
      ]
     },
     "execution_count": 55,
     "metadata": {},
     "output_type": "execute_result"
    }
   ],
   "source": [
    "Solution().colorTheArray(4, [[0, 2], [1, 2], [3, 1], [1, 1], [2, 1]])\n"
   ]
  },
  {
   "attachments": {},
   "cell_type": "markdown",
   "metadata": {},
   "source": [
    "# Q6419"
   ]
  },
  {
   "cell_type": "code",
   "execution_count": 81,
   "metadata": {},
   "outputs": [],
   "source": [
    "class Solution:\n",
    "    def minIncrements(self, n: int, cost: List[int]) -> int:\n",
    "        pathCost = [cost[0]]\n",
    "        for i in range(2,n+1):\n",
    "            parent = (i)//2\n",
    "            print(parent)\n",
    "            eleCost = pathCost[parent-1]+cost[i-1]\n",
    "            pathCost.append(eleCost)\n",
    "            print(pathCost)\n",
    "        print(pathCost)\n",
    "        pathCostLeaf = pathCost[((n+1)//2)-1:]\n",
    "        print(pathCostLeaf)\n",
    "        maxm = max(pathCostLeaf)\n",
    "        count = 0\n",
    "        for i in pathCostLeaf:\n",
    "            count += maxm-i if maxm>i else 0\n",
    "        return count"
   ]
  },
  {
   "cell_type": "code",
   "execution_count": 82,
   "metadata": {},
   "outputs": [
    {
     "name": "stdout",
     "output_type": "stream",
     "text": [
      "1\n",
      "[1, 6]\n",
      "1\n",
      "[1, 6, 3]\n",
      "2\n",
      "[1, 6, 3, 8]\n",
      "2\n",
      "[1, 6, 3, 8, 9]\n",
      "3\n",
      "[1, 6, 3, 8, 9, 6]\n",
      "3\n",
      "[1, 6, 3, 8, 9, 6, 4]\n",
      "[1, 6, 3, 8, 9, 6, 4]\n",
      "[8, 9, 6, 4]\n"
     ]
    },
    {
     "data": {
      "text/plain": [
       "9"
      ]
     },
     "execution_count": 82,
     "metadata": {},
     "output_type": "execute_result"
    }
   ],
   "source": [
    "Solution().minIncrements(7,[1,5,2,2,3,3,1])"
   ]
  }
 ],
 "metadata": {
  "kernelspec": {
   "display_name": "Python 3",
   "language": "python",
   "name": "python3"
  },
  "language_info": {
   "codemirror_mode": {
    "name": "ipython",
    "version": 3
   },
   "file_extension": ".py",
   "mimetype": "text/x-python",
   "name": "python",
   "nbconvert_exporter": "python",
   "pygments_lexer": "ipython3",
   "version": "3.10.6"
  },
  "orig_nbformat": 4
 },
 "nbformat": 4,
 "nbformat_minor": 2
}
