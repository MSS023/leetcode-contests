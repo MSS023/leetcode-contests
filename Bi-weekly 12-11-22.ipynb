{
 "cells": [
  {
   "cell_type": "code",
   "execution_count": 8,
   "metadata": {},
   "outputs": [],
   "source": [
    "from typing import *"
   ]
  },
  {
   "cell_type": "markdown",
   "metadata": {},
   "source": [
    "# Q6237"
   ]
  },
  {
   "cell_type": "code",
   "execution_count": null,
   "metadata": {},
   "outputs": [],
   "source": [
    "class Solution:\n",
    "    def distinctAverages(self, nums: List[int]) -> int:\n",
    "        ans = set()\n",
    "        nums.sort()\n",
    "        while nums:\n",
    "            a, b = nums.pop(0), nums.pop()\n",
    "            ans.add((a+b)/2)\n",
    "        return len(ans)"
   ]
  },
  {
   "cell_type": "code",
   "execution_count": null,
   "metadata": {},
   "outputs": [],
   "source": [
    "Solution().distinctAverages([9,5,7,8,7,9,8,2,0,7])"
   ]
  },
  {
   "cell_type": "markdown",
   "metadata": {},
   "source": [
    "# Q6238"
   ]
  },
  {
   "cell_type": "code",
   "execution_count": 11,
   "metadata": {},
   "outputs": [],
   "source": [
    "class Solution:\n",
    "    def countGoodStrings(self, low: int, high: int, zero: int, one: int) -> int:\n",
    "        MOD = 7 + 10**9\n",
    "\n",
    "        def recursive(s):\n",
    "            if s > high:\n",
    "                return 0\n",
    "            count = 0\n",
    "            count += recursive(s+zero)\n",
    "            count += recursive(s+one)\n",
    "            if s >= low:\n",
    "                count += 1\n",
    "            return count\n",
    "        return recursive(0) % MOD"
   ]
  },
  {
   "cell_type": "code",
   "execution_count": 12,
   "metadata": {},
   "outputs": [
    {
     "ename": "KeyboardInterrupt",
     "evalue": "",
     "output_type": "error",
     "traceback": [
      "\u001b[1;31m---------------------------------------------------------------------------\u001b[0m",
      "\u001b[1;31mKeyboardInterrupt\u001b[0m                         Traceback (most recent call last)",
      "\u001b[1;32mc:\\Users\\manan\\OneDrive\\Desktop\\Practice Projects\\Leetcode contests\\Bi-weekly 12-11-22.ipynb Cell 7\u001b[0m in \u001b[0;36m<cell line: 1>\u001b[1;34m()\u001b[0m\n\u001b[1;32m----> <a href='vscode-notebook-cell:/c%3A/Users/manan/OneDrive/Desktop/Practice%20Projects/Leetcode%20contests/Bi-weekly%2012-11-22.ipynb#W6sZmlsZQ%3D%3D?line=0'>1</a>\u001b[0m Solution()\u001b[39m.\u001b[39;49mcountGoodStrings(\u001b[39m200\u001b[39;49m,\u001b[39m200\u001b[39;49m,\u001b[39m10\u001b[39;49m,\u001b[39m1\u001b[39;49m)\n",
      "\u001b[1;32mc:\\Users\\manan\\OneDrive\\Desktop\\Practice Projects\\Leetcode contests\\Bi-weekly 12-11-22.ipynb Cell 7\u001b[0m in \u001b[0;36mSolution.countGoodStrings\u001b[1;34m(self, low, high, zero, one)\u001b[0m\n\u001b[0;32m     <a href='vscode-notebook-cell:/c%3A/Users/manan/OneDrive/Desktop/Practice%20Projects/Leetcode%20contests/Bi-weekly%2012-11-22.ipynb#W6sZmlsZQ%3D%3D?line=11'>12</a>\u001b[0m         count \u001b[39m+\u001b[39m\u001b[39m=\u001b[39m \u001b[39m1\u001b[39m\n\u001b[0;32m     <a href='vscode-notebook-cell:/c%3A/Users/manan/OneDrive/Desktop/Practice%20Projects/Leetcode%20contests/Bi-weekly%2012-11-22.ipynb#W6sZmlsZQ%3D%3D?line=12'>13</a>\u001b[0m     \u001b[39mreturn\u001b[39;00m count\n\u001b[1;32m---> <a href='vscode-notebook-cell:/c%3A/Users/manan/OneDrive/Desktop/Practice%20Projects/Leetcode%20contests/Bi-weekly%2012-11-22.ipynb#W6sZmlsZQ%3D%3D?line=13'>14</a>\u001b[0m \u001b[39mreturn\u001b[39;00m recursive(\u001b[39m0\u001b[39;49m) \u001b[39m%\u001b[39m MOD\n",
      "\u001b[1;32mc:\\Users\\manan\\OneDrive\\Desktop\\Practice Projects\\Leetcode contests\\Bi-weekly 12-11-22.ipynb Cell 7\u001b[0m in \u001b[0;36mSolution.countGoodStrings.<locals>.recursive\u001b[1;34m(s)\u001b[0m\n\u001b[0;32m      <a href='vscode-notebook-cell:/c%3A/Users/manan/OneDrive/Desktop/Practice%20Projects/Leetcode%20contests/Bi-weekly%2012-11-22.ipynb#W6sZmlsZQ%3D%3D?line=6'>7</a>\u001b[0m     \u001b[39mreturn\u001b[39;00m \u001b[39m0\u001b[39m\n\u001b[0;32m      <a href='vscode-notebook-cell:/c%3A/Users/manan/OneDrive/Desktop/Practice%20Projects/Leetcode%20contests/Bi-weekly%2012-11-22.ipynb#W6sZmlsZQ%3D%3D?line=7'>8</a>\u001b[0m count \u001b[39m=\u001b[39m \u001b[39m0\u001b[39m\n\u001b[1;32m----> <a href='vscode-notebook-cell:/c%3A/Users/manan/OneDrive/Desktop/Practice%20Projects/Leetcode%20contests/Bi-weekly%2012-11-22.ipynb#W6sZmlsZQ%3D%3D?line=8'>9</a>\u001b[0m count \u001b[39m+\u001b[39m\u001b[39m=\u001b[39m recursive(s\u001b[39m+\u001b[39;49mzero)\n\u001b[0;32m     <a href='vscode-notebook-cell:/c%3A/Users/manan/OneDrive/Desktop/Practice%20Projects/Leetcode%20contests/Bi-weekly%2012-11-22.ipynb#W6sZmlsZQ%3D%3D?line=9'>10</a>\u001b[0m count \u001b[39m+\u001b[39m\u001b[39m=\u001b[39m recursive(s\u001b[39m+\u001b[39mone)\n\u001b[0;32m     <a href='vscode-notebook-cell:/c%3A/Users/manan/OneDrive/Desktop/Practice%20Projects/Leetcode%20contests/Bi-weekly%2012-11-22.ipynb#W6sZmlsZQ%3D%3D?line=10'>11</a>\u001b[0m \u001b[39mif\u001b[39;00m s \u001b[39m>\u001b[39m\u001b[39m=\u001b[39m low:\n",
      "\u001b[1;32mc:\\Users\\manan\\OneDrive\\Desktop\\Practice Projects\\Leetcode contests\\Bi-weekly 12-11-22.ipynb Cell 7\u001b[0m in \u001b[0;36mSolution.countGoodStrings.<locals>.recursive\u001b[1;34m(s)\u001b[0m\n\u001b[0;32m      <a href='vscode-notebook-cell:/c%3A/Users/manan/OneDrive/Desktop/Practice%20Projects/Leetcode%20contests/Bi-weekly%2012-11-22.ipynb#W6sZmlsZQ%3D%3D?line=6'>7</a>\u001b[0m     \u001b[39mreturn\u001b[39;00m \u001b[39m0\u001b[39m\n\u001b[0;32m      <a href='vscode-notebook-cell:/c%3A/Users/manan/OneDrive/Desktop/Practice%20Projects/Leetcode%20contests/Bi-weekly%2012-11-22.ipynb#W6sZmlsZQ%3D%3D?line=7'>8</a>\u001b[0m count \u001b[39m=\u001b[39m \u001b[39m0\u001b[39m\n\u001b[1;32m----> <a href='vscode-notebook-cell:/c%3A/Users/manan/OneDrive/Desktop/Practice%20Projects/Leetcode%20contests/Bi-weekly%2012-11-22.ipynb#W6sZmlsZQ%3D%3D?line=8'>9</a>\u001b[0m count \u001b[39m+\u001b[39m\u001b[39m=\u001b[39m recursive(s\u001b[39m+\u001b[39;49mzero)\n\u001b[0;32m     <a href='vscode-notebook-cell:/c%3A/Users/manan/OneDrive/Desktop/Practice%20Projects/Leetcode%20contests/Bi-weekly%2012-11-22.ipynb#W6sZmlsZQ%3D%3D?line=9'>10</a>\u001b[0m count \u001b[39m+\u001b[39m\u001b[39m=\u001b[39m recursive(s\u001b[39m+\u001b[39mone)\n\u001b[0;32m     <a href='vscode-notebook-cell:/c%3A/Users/manan/OneDrive/Desktop/Practice%20Projects/Leetcode%20contests/Bi-weekly%2012-11-22.ipynb#W6sZmlsZQ%3D%3D?line=10'>11</a>\u001b[0m \u001b[39mif\u001b[39;00m s \u001b[39m>\u001b[39m\u001b[39m=\u001b[39m low:\n",
      "    \u001b[1;31m[... skipping similar frames: Solution.countGoodStrings.<locals>.recursive at line 9 (9 times)]\u001b[0m\n",
      "\u001b[1;32mc:\\Users\\manan\\OneDrive\\Desktop\\Practice Projects\\Leetcode contests\\Bi-weekly 12-11-22.ipynb Cell 7\u001b[0m in \u001b[0;36mSolution.countGoodStrings.<locals>.recursive\u001b[1;34m(s)\u001b[0m\n\u001b[0;32m      <a href='vscode-notebook-cell:/c%3A/Users/manan/OneDrive/Desktop/Practice%20Projects/Leetcode%20contests/Bi-weekly%2012-11-22.ipynb#W6sZmlsZQ%3D%3D?line=7'>8</a>\u001b[0m count \u001b[39m=\u001b[39m \u001b[39m0\u001b[39m\n\u001b[0;32m      <a href='vscode-notebook-cell:/c%3A/Users/manan/OneDrive/Desktop/Practice%20Projects/Leetcode%20contests/Bi-weekly%2012-11-22.ipynb#W6sZmlsZQ%3D%3D?line=8'>9</a>\u001b[0m count \u001b[39m+\u001b[39m\u001b[39m=\u001b[39m recursive(s\u001b[39m+\u001b[39mzero)\n\u001b[1;32m---> <a href='vscode-notebook-cell:/c%3A/Users/manan/OneDrive/Desktop/Practice%20Projects/Leetcode%20contests/Bi-weekly%2012-11-22.ipynb#W6sZmlsZQ%3D%3D?line=9'>10</a>\u001b[0m count \u001b[39m+\u001b[39m\u001b[39m=\u001b[39m recursive(s\u001b[39m+\u001b[39;49mone)\n\u001b[0;32m     <a href='vscode-notebook-cell:/c%3A/Users/manan/OneDrive/Desktop/Practice%20Projects/Leetcode%20contests/Bi-weekly%2012-11-22.ipynb#W6sZmlsZQ%3D%3D?line=10'>11</a>\u001b[0m \u001b[39mif\u001b[39;00m s \u001b[39m>\u001b[39m\u001b[39m=\u001b[39m low:\n\u001b[0;32m     <a href='vscode-notebook-cell:/c%3A/Users/manan/OneDrive/Desktop/Practice%20Projects/Leetcode%20contests/Bi-weekly%2012-11-22.ipynb#W6sZmlsZQ%3D%3D?line=11'>12</a>\u001b[0m     count \u001b[39m+\u001b[39m\u001b[39m=\u001b[39m \u001b[39m1\u001b[39m\n",
      "\u001b[1;32mc:\\Users\\manan\\OneDrive\\Desktop\\Practice Projects\\Leetcode contests\\Bi-weekly 12-11-22.ipynb Cell 7\u001b[0m in \u001b[0;36mSolution.countGoodStrings.<locals>.recursive\u001b[1;34m(s)\u001b[0m\n\u001b[0;32m      <a href='vscode-notebook-cell:/c%3A/Users/manan/OneDrive/Desktop/Practice%20Projects/Leetcode%20contests/Bi-weekly%2012-11-22.ipynb#W6sZmlsZQ%3D%3D?line=7'>8</a>\u001b[0m count \u001b[39m=\u001b[39m \u001b[39m0\u001b[39m\n\u001b[0;32m      <a href='vscode-notebook-cell:/c%3A/Users/manan/OneDrive/Desktop/Practice%20Projects/Leetcode%20contests/Bi-weekly%2012-11-22.ipynb#W6sZmlsZQ%3D%3D?line=8'>9</a>\u001b[0m count \u001b[39m+\u001b[39m\u001b[39m=\u001b[39m recursive(s\u001b[39m+\u001b[39mzero)\n\u001b[1;32m---> <a href='vscode-notebook-cell:/c%3A/Users/manan/OneDrive/Desktop/Practice%20Projects/Leetcode%20contests/Bi-weekly%2012-11-22.ipynb#W6sZmlsZQ%3D%3D?line=9'>10</a>\u001b[0m count \u001b[39m+\u001b[39m\u001b[39m=\u001b[39m recursive(s\u001b[39m+\u001b[39;49mone)\n\u001b[0;32m     <a href='vscode-notebook-cell:/c%3A/Users/manan/OneDrive/Desktop/Practice%20Projects/Leetcode%20contests/Bi-weekly%2012-11-22.ipynb#W6sZmlsZQ%3D%3D?line=10'>11</a>\u001b[0m \u001b[39mif\u001b[39;00m s \u001b[39m>\u001b[39m\u001b[39m=\u001b[39m low:\n\u001b[0;32m     <a href='vscode-notebook-cell:/c%3A/Users/manan/OneDrive/Desktop/Practice%20Projects/Leetcode%20contests/Bi-weekly%2012-11-22.ipynb#W6sZmlsZQ%3D%3D?line=11'>12</a>\u001b[0m     count \u001b[39m+\u001b[39m\u001b[39m=\u001b[39m \u001b[39m1\u001b[39m\n",
      "    \u001b[1;31m[... skipping similar frames: Solution.countGoodStrings.<locals>.recursive at line 10 (38 times), Solution.countGoodStrings.<locals>.recursive at line 9 (3 times)]\u001b[0m\n",
      "\u001b[1;32mc:\\Users\\manan\\OneDrive\\Desktop\\Practice Projects\\Leetcode contests\\Bi-weekly 12-11-22.ipynb Cell 7\u001b[0m in \u001b[0;36mSolution.countGoodStrings.<locals>.recursive\u001b[1;34m(s)\u001b[0m\n\u001b[0;32m      <a href='vscode-notebook-cell:/c%3A/Users/manan/OneDrive/Desktop/Practice%20Projects/Leetcode%20contests/Bi-weekly%2012-11-22.ipynb#W6sZmlsZQ%3D%3D?line=6'>7</a>\u001b[0m     \u001b[39mreturn\u001b[39;00m \u001b[39m0\u001b[39m\n\u001b[0;32m      <a href='vscode-notebook-cell:/c%3A/Users/manan/OneDrive/Desktop/Practice%20Projects/Leetcode%20contests/Bi-weekly%2012-11-22.ipynb#W6sZmlsZQ%3D%3D?line=7'>8</a>\u001b[0m count \u001b[39m=\u001b[39m \u001b[39m0\u001b[39m\n\u001b[1;32m----> <a href='vscode-notebook-cell:/c%3A/Users/manan/OneDrive/Desktop/Practice%20Projects/Leetcode%20contests/Bi-weekly%2012-11-22.ipynb#W6sZmlsZQ%3D%3D?line=8'>9</a>\u001b[0m count \u001b[39m+\u001b[39m\u001b[39m=\u001b[39m recursive(s\u001b[39m+\u001b[39;49mzero)\n\u001b[0;32m     <a href='vscode-notebook-cell:/c%3A/Users/manan/OneDrive/Desktop/Practice%20Projects/Leetcode%20contests/Bi-weekly%2012-11-22.ipynb#W6sZmlsZQ%3D%3D?line=9'>10</a>\u001b[0m count \u001b[39m+\u001b[39m\u001b[39m=\u001b[39m recursive(s\u001b[39m+\u001b[39mone)\n\u001b[0;32m     <a href='vscode-notebook-cell:/c%3A/Users/manan/OneDrive/Desktop/Practice%20Projects/Leetcode%20contests/Bi-weekly%2012-11-22.ipynb#W6sZmlsZQ%3D%3D?line=10'>11</a>\u001b[0m \u001b[39mif\u001b[39;00m s \u001b[39m>\u001b[39m\u001b[39m=\u001b[39m low:\n",
      "    \u001b[1;31m[... skipping similar frames: Solution.countGoodStrings.<locals>.recursive at line 10 (5 times)]\u001b[0m\n",
      "\u001b[1;32mc:\\Users\\manan\\OneDrive\\Desktop\\Practice Projects\\Leetcode contests\\Bi-weekly 12-11-22.ipynb Cell 7\u001b[0m in \u001b[0;36mSolution.countGoodStrings.<locals>.recursive\u001b[1;34m(s)\u001b[0m\n\u001b[0;32m      <a href='vscode-notebook-cell:/c%3A/Users/manan/OneDrive/Desktop/Practice%20Projects/Leetcode%20contests/Bi-weekly%2012-11-22.ipynb#W6sZmlsZQ%3D%3D?line=7'>8</a>\u001b[0m count \u001b[39m=\u001b[39m \u001b[39m0\u001b[39m\n\u001b[0;32m      <a href='vscode-notebook-cell:/c%3A/Users/manan/OneDrive/Desktop/Practice%20Projects/Leetcode%20contests/Bi-weekly%2012-11-22.ipynb#W6sZmlsZQ%3D%3D?line=8'>9</a>\u001b[0m count \u001b[39m+\u001b[39m\u001b[39m=\u001b[39m recursive(s\u001b[39m+\u001b[39mzero)\n\u001b[1;32m---> <a href='vscode-notebook-cell:/c%3A/Users/manan/OneDrive/Desktop/Practice%20Projects/Leetcode%20contests/Bi-weekly%2012-11-22.ipynb#W6sZmlsZQ%3D%3D?line=9'>10</a>\u001b[0m count \u001b[39m+\u001b[39m\u001b[39m=\u001b[39m recursive(s\u001b[39m+\u001b[39;49mone)\n\u001b[0;32m     <a href='vscode-notebook-cell:/c%3A/Users/manan/OneDrive/Desktop/Practice%20Projects/Leetcode%20contests/Bi-weekly%2012-11-22.ipynb#W6sZmlsZQ%3D%3D?line=10'>11</a>\u001b[0m \u001b[39mif\u001b[39;00m s \u001b[39m>\u001b[39m\u001b[39m=\u001b[39m low:\n\u001b[0;32m     <a href='vscode-notebook-cell:/c%3A/Users/manan/OneDrive/Desktop/Practice%20Projects/Leetcode%20contests/Bi-weekly%2012-11-22.ipynb#W6sZmlsZQ%3D%3D?line=11'>12</a>\u001b[0m     count \u001b[39m+\u001b[39m\u001b[39m=\u001b[39m \u001b[39m1\u001b[39m\n",
      "\u001b[1;32mc:\\Users\\manan\\OneDrive\\Desktop\\Practice Projects\\Leetcode contests\\Bi-weekly 12-11-22.ipynb Cell 7\u001b[0m in \u001b[0;36mSolution.countGoodStrings.<locals>.recursive\u001b[1;34m(s)\u001b[0m\n\u001b[0;32m      <a href='vscode-notebook-cell:/c%3A/Users/manan/OneDrive/Desktop/Practice%20Projects/Leetcode%20contests/Bi-weekly%2012-11-22.ipynb#W6sZmlsZQ%3D%3D?line=4'>5</a>\u001b[0m \u001b[39mdef\u001b[39;00m \u001b[39mrecursive\u001b[39m(s):\n\u001b[1;32m----> <a href='vscode-notebook-cell:/c%3A/Users/manan/OneDrive/Desktop/Practice%20Projects/Leetcode%20contests/Bi-weekly%2012-11-22.ipynb#W6sZmlsZQ%3D%3D?line=5'>6</a>\u001b[0m     \u001b[39mif\u001b[39;00m s \u001b[39m>\u001b[39;49m high:\n\u001b[0;32m      <a href='vscode-notebook-cell:/c%3A/Users/manan/OneDrive/Desktop/Practice%20Projects/Leetcode%20contests/Bi-weekly%2012-11-22.ipynb#W6sZmlsZQ%3D%3D?line=6'>7</a>\u001b[0m         \u001b[39mreturn\u001b[39;00m \u001b[39m0\u001b[39m\n\u001b[0;32m      <a href='vscode-notebook-cell:/c%3A/Users/manan/OneDrive/Desktop/Practice%20Projects/Leetcode%20contests/Bi-weekly%2012-11-22.ipynb#W6sZmlsZQ%3D%3D?line=7'>8</a>\u001b[0m     count \u001b[39m=\u001b[39m \u001b[39m0\u001b[39m\n",
      "\u001b[1;31mKeyboardInterrupt\u001b[0m: "
     ]
    }
   ],
   "source": [
    "Solution().countGoodStrings(200,200,10,1)"
   ]
  }
 ],
 "metadata": {
  "kernelspec": {
   "display_name": "Python 3.10.6 64-bit",
   "language": "python",
   "name": "python3"
  },
  "language_info": {
   "codemirror_mode": {
    "name": "ipython",
    "version": 3
   },
   "file_extension": ".py",
   "mimetype": "text/x-python",
   "name": "python",
   "nbconvert_exporter": "python",
   "pygments_lexer": "ipython3",
   "version": "3.10.6"
  },
  "orig_nbformat": 4,
  "vscode": {
   "interpreter": {
    "hash": "f15627b29e15848638e903c52dd09ae6c4c9adb1719aae45dda3850ec7954c19"
   }
  }
 },
 "nbformat": 4,
 "nbformat_minor": 2
}
