{
 "cells": [
  {
   "cell_type": "code",
   "execution_count": 1,
   "metadata": {},
   "outputs": [],
   "source": [
    "from typing import *"
   ]
  },
  {
   "attachments": {},
   "cell_type": "markdown",
   "metadata": {},
   "source": [
    "# Q6287"
   ]
  },
  {
   "cell_type": "code",
   "execution_count": 5,
   "metadata": {},
   "outputs": [],
   "source": [
    "class Solution:\n",
    "    def categorizeBox(self, length: int, width: int, height: int, mass: int) -> str:\n",
    "        bulky = False\n",
    "        heavy = False\n",
    "        bulkyL = 10**4\n",
    "        volume = length * width * height\n",
    "        if length >= bulkyL or width >= bulkyL or height >= bulkyL or volume >= 10**9:\n",
    "            bulky = True\n",
    "        if mass >= 100:\n",
    "            heavy = True\n",
    "        result = {\n",
    "            (True, True): \"Both\",\n",
    "            (False, False): \"Neither\",\n",
    "            (True, False): \"Bulky\",\n",
    "            (False, True): \"Heavy\"\n",
    "        }\n",
    "        return result[(bulky, heavy)]"
   ]
  },
  {
   "cell_type": "code",
   "execution_count": 6,
   "metadata": {},
   "outputs": [
    {
     "data": {
      "text/plain": [
       "'Neither'"
      ]
     },
     "execution_count": 6,
     "metadata": {},
     "output_type": "execute_result"
    }
   ],
   "source": [
    "Solution().categorizeBox(200,50,800,50)"
   ]
  },
  {
   "attachments": {},
   "cell_type": "markdown",
   "metadata": {},
   "source": [
    "# Q6288"
   ]
  },
  {
   "cell_type": "code",
   "execution_count": 31,
   "metadata": {},
   "outputs": [],
   "source": [
    "class DataStream:\n",
    "\n",
    "    def __init__(self, value: int, k: int):\n",
    "        self.stream = []\n",
    "        self.consecFlag = False\n",
    "        self.consecCount = 0\n",
    "        self.maxConsec = k\n",
    "        self.value = value\n",
    "        if k == 1:\n",
    "            self.consecFlag = True\n",
    "\n",
    "    def consec(self, num: int) -> bool:\n",
    "        if self.stream and self.stream[-1] == num:\n",
    "            self.consecCount += 1\n",
    "        else:\n",
    "            self.consecCount = 1\n",
    "            self.consecFlag = False\n",
    "        self.stream.append(num)\n",
    "        if num == self.value and self.consecCount >= self.maxConsec:\n",
    "            self.consecFlag = True\n",
    "        return self.consecFlag\n",
    "\n",
    "# Your DataStream object will be instantiated \n",
    "# and called as such:\n",
    "# obj = DataStream(value, k)\n",
    "# param_1 = obj.consec(num)"
   ]
  },
  {
   "cell_type": "code",
   "execution_count": 32,
   "metadata": {},
   "outputs": [
    {
     "name": "stdout",
     "output_type": "stream",
     "text": [
      "1 False\n",
      "2 False\n",
      "1 False\n",
      "1 True\n",
      "1 True\n"
     ]
    }
   ],
   "source": [
    "obj = DataStream(1,2)\n",
    "arr = [1,2,1,1,1]\n",
    "for num in arr:\n",
    "    print(num, obj.consec(num))"
   ]
  },
  {
   "attachments": {},
   "cell_type": "markdown",
   "metadata": {},
   "source": [
    "# Q6289"
   ]
  },
  {
   "cell_type": "code",
   "execution_count": 33,
   "metadata": {},
   "outputs": [],
   "source": [
    "class Solution:\n",
    "    def xorBeauty(self, nums: List[int]) -> int:\n",
    "        res = 0\n",
    "        for num in nums:\n",
    "            res ^= num\n",
    "        return res"
   ]
  },
  {
   "cell_type": "code",
   "execution_count": 34,
   "metadata": {},
   "outputs": [
    {
     "data": {
      "text/plain": [
       "5"
      ]
     },
     "execution_count": 34,
     "metadata": {},
     "output_type": "execute_result"
    }
   ],
   "source": [
    "Solution().xorBeauty([1,4])"
   ]
  }
 ],
 "metadata": {
  "kernelspec": {
   "display_name": "Python 3",
   "language": "python",
   "name": "python3"
  },
  "language_info": {
   "codemirror_mode": {
    "name": "ipython",
    "version": 3
   },
   "file_extension": ".py",
   "mimetype": "text/x-python",
   "name": "python",
   "nbconvert_exporter": "python",
   "pygments_lexer": "ipython3",
   "version": "3.10.6 (tags/v3.10.6:9c7b4bd, Aug  1 2022, 21:53:49) [MSC v.1932 64 bit (AMD64)]"
  },
  "orig_nbformat": 4,
  "vscode": {
   "interpreter": {
    "hash": "f15627b29e15848638e903c52dd09ae6c4c9adb1719aae45dda3850ec7954c19"
   }
  }
 },
 "nbformat": 4,
 "nbformat_minor": 2
}
