{
 "cells": [
  {
   "cell_type": "code",
   "execution_count": 2,
   "metadata": {},
   "outputs": [],
   "source": [
    "from typing import *"
   ]
  },
  {
   "attachments": {},
   "cell_type": "markdown",
   "metadata": {},
   "source": [
    "# Q6406"
   ]
  },
  {
   "cell_type": "code",
   "execution_count": 3,
   "metadata": {},
   "outputs": [],
   "source": [
    "class Solution:\n",
    "    def maximizeSum(self, nums: List[int], k: int) -> int:\n",
    "        nums.sort()\n",
    "        score = 0\n",
    "        maxm = nums[-1]\n",
    "        score += k*(2*maxm + (k-1))//2\n",
    "        return score"
   ]
  },
  {
   "cell_type": "code",
   "execution_count": 4,
   "metadata": {},
   "outputs": [
    {
     "data": {
      "text/plain": [
       "18"
      ]
     },
     "execution_count": 4,
     "metadata": {},
     "output_type": "execute_result"
    }
   ],
   "source": [
    "Solution().maximizeSum([1,2,3,4,5],3)"
   ]
  },
  {
   "attachments": {},
   "cell_type": "markdown",
   "metadata": {},
   "source": [
    "# Q6405"
   ]
  },
  {
   "cell_type": "code",
   "execution_count": 5,
   "metadata": {},
   "outputs": [],
   "source": [
    "class Solution:\n",
    "    def findThePrefixCommonArray(self, A: List[int], B: List[int]) -> List[int]:\n",
    "        occurrence = {}\n",
    "        templateNode = {\"presentInA\": False, \"presentInB\": False, \"counted\": False}\n",
    "        last = 0\n",
    "        C = []\n",
    "        for a, b in zip(A, B):\n",
    "            if a not in occurrence:\n",
    "                occurrence[a] = templateNode.copy()\n",
    "            if b not in occurrence:\n",
    "                occurrence[b] = templateNode.copy()\n",
    "            occurrence[a][\"presentInA\"] = True\n",
    "            occurrence[b][\"presentInB\"] = True\n",
    "            if list(occurrence[a].values()) == [True, True,False]:\n",
    "                last += 1\n",
    "                occurrence[a][\"counted\"] = True\n",
    "            if list(occurrence[b].values()) == [True, True,False]:\n",
    "                last += 1\n",
    "                occurrence[b][\"counted\"] = True\n",
    "            C.append(last)\n",
    "        return C"
   ]
  },
  {
   "cell_type": "code",
   "execution_count": 6,
   "metadata": {},
   "outputs": [
    {
     "data": {
      "text/plain": [
       "[0, 1, 3]"
      ]
     },
     "execution_count": 6,
     "metadata": {},
     "output_type": "execute_result"
    }
   ],
   "source": [
    "Solution().findThePrefixCommonArray(A = [2,3,1], B = [3,1,2])"
   ]
  },
  {
   "attachments": {},
   "cell_type": "markdown",
   "metadata": {},
   "source": [
    "# Q6403"
   ]
  },
  {
   "cell_type": "code",
   "execution_count": 13,
   "metadata": {},
   "outputs": [],
   "source": [
    "class Solution:\n",
    "    def findMaxFish(self, grid: List[List[int]]) -> int:\n",
    "        def floodFill(startr, startc):\n",
    "            print(startr,startc)\n",
    "            if grid[startr][startc] == 0:\n",
    "                return 0\n",
    "            currCell = grid[startr][startc]\n",
    "            grid[startr][startc] = -1\n",
    "            count = currCell if currCell > -1 else 0\n",
    "            if startr > 0 and grid[startr-1][startc] > 0:\n",
    "                count += floodFill(startr-1,startc)\n",
    "            if startr < len(grid)-1 and grid[startr+1][startc] > 0:\n",
    "                count += floodFill(startr+1,startc)\n",
    "            if startc > 0 and grid[startr][startc-1] > 0:\n",
    "                count += floodFill(startr,startc-1)\n",
    "            if startc < len(grid[0])-1 and grid[startr][startc+1] > 0:\n",
    "                count += floodFill(startr,startc+1)\n",
    "            return count\n",
    "        m, n = len(grid), len(grid[0])\n",
    "        maxm = 0\n",
    "        for i in range(m):\n",
    "            for j in range(n):\n",
    "                if grid[i][j] > 0:\n",
    "                    maxm = max(floodFill(i,j), maxm)\n",
    "        return maxm"
   ]
  },
  {
   "cell_type": "code",
   "execution_count": 14,
   "metadata": {},
   "outputs": [
    {
     "name": "stdout",
     "output_type": "stream",
     "text": [
      "0 0\n",
      "0 1\n"
     ]
    },
    {
     "data": {
      "text/plain": [
       "19"
      ]
     },
     "execution_count": 14,
     "metadata": {},
     "output_type": "execute_result"
    }
   ],
   "source": [
    "Solution().findMaxFish(grid = [[9,10]])"
   ]
  },
  {
   "attachments": {},
   "cell_type": "markdown",
   "metadata": {},
   "source": [
    "# Q6404"
   ]
  },
  {
   "cell_type": "code",
   "execution_count": 41,
   "metadata": {},
   "outputs": [],
   "source": [
    "class Solution:\n",
    "    def countOperationsToEmptyArray(self, nums: List[int]) -> int:\n",
    "        sortedNums = sorted(nums, key=lambda x: -x)\n",
    "        count = 0\n",
    "        for minm in sortedNums[::-1]:\n",
    "            for i in nums.copy():\n",
    "                nums.pop(0)\n",
    "                count += 1\n",
    "                if i == minm:\n",
    "                    break\n",
    "                nums.append(i)\n",
    "        return count"
   ]
  },
  {
   "cell_type": "code",
   "execution_count": 42,
   "metadata": {},
   "outputs": [
    {
     "data": {
      "text/plain": [
       "5"
      ]
     },
     "execution_count": 42,
     "metadata": {},
     "output_type": "execute_result"
    }
   ],
   "source": [
    "Solution().countOperationsToEmptyArray([-15,-19,5])"
   ]
  },
  {
   "cell_type": "code",
   "execution_count": 59,
   "metadata": {},
   "outputs": [],
   "source": [
    "class Solution:\n",
    "    def countOperationsToEmptyArray(self, nums: List[int]) -> int:\n",
    "        class Node:\n",
    "            def __init__(self,num,next=None):\n",
    "                self.num = num\n",
    "                self.next = next\n",
    "        head = Node(0)\n",
    "        tail = head\n",
    "        temp = head\n",
    "        for i in nums:\n",
    "            temp.next = Node(i)\n",
    "            tail = temp.next\n",
    "            temp = temp.next\n",
    "        head = head.next\n",
    "        nums.sort()\n",
    "        count = 0\n",
    "        for minm in nums:\n",
    "            temp = head\n",
    "            prev = None\n",
    "            while temp.num is not minm:\n",
    "                count += 1\n",
    "                prev = temp\n",
    "                temp = temp.next\n",
    "            count += 1\n",
    "            tail.next = head\n",
    "            head = temp.next\n",
    "            if prev:\n",
    "                prev.next = None\n",
    "                tail = prev\n",
    "        return count"
   ]
  },
  {
   "cell_type": "code",
   "execution_count": 60,
   "metadata": {},
   "outputs": [
    {
     "data": {
      "text/plain": [
       "5"
      ]
     },
     "execution_count": 60,
     "metadata": {},
     "output_type": "execute_result"
    }
   ],
   "source": [
    "Solution().countOperationsToEmptyArray([1,2,4,3])"
   ]
  }
 ],
 "metadata": {
  "kernelspec": {
   "display_name": "Python 3",
   "language": "python",
   "name": "python3"
  },
  "language_info": {
   "codemirror_mode": {
    "name": "ipython",
    "version": 3
   },
   "file_extension": ".py",
   "mimetype": "text/x-python",
   "name": "python",
   "nbconvert_exporter": "python",
   "pygments_lexer": "ipython3",
   "version": "3.10.6"
  },
  "orig_nbformat": 4
 },
 "nbformat": 4,
 "nbformat_minor": 2
}
